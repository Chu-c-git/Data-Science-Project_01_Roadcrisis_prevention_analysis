{
 "cells": [
  {
   "cell_type": "code",
   "execution_count": 5,
   "metadata": {},
   "outputs": [],
   "source": [
    "import pandas as pd\n",
    "import openpyxl\n",
    "import csv\n",
    "import requests\n",
    "from bs4 import BeautifulSoup\n",
    "from celery import Celery\n",
    "from selenium import webdriver\n",
    "from selenium.webdriver.support.ui import Select\n",
    "from webdriver_manager.chrome import ChromeDriverManager\n",
    "from selenium.webdriver.common.by import By\n",
    "from selenium.webdriver.support.ui import WebDriverWait\n",
    "from selenium.webdriver.support import expected_conditions as EC\n",
    "from selenium.common.exceptions import TimeoutException \n",
    "import re\n",
    "import time\n",
    "from selenium.common.exceptions import StaleElementReferenceException\n",
    "from selenium.common.exceptions import NoSuchElementException\n",
    "import geocoder\n",
    "from tqdm import tqdm\n",
    "import random\n",
    "import glob"
   ]
  },
  {
   "cell_type": "markdown",
   "metadata": {},
   "source": [
    "## 01 批次抓取建照查詢的回傳連結"
   ]
  },
  {
   "cell_type": "markdown",
   "metadata": {},
   "source": [
    "1.製作3個年度的清單與編號\n",
    "2.放入查詢網站查詢\n",
    "3.(取消)製作爬取時的時間標記"
   ]
  },
  {
   "cell_type": "markdown",
   "metadata": {},
   "source": [
    "#### 製作109-112年度的清單與編號"
   ]
  },
  {
   "cell_type": "code",
   "execution_count": 19,
   "metadata": {},
   "outputs": [
    {
     "name": "stdout",
     "output_type": "stream",
     "text": [
      "       年份    號碼 存在\n",
      "852   111  0253  N\n",
      "853   111  0254  N\n",
      "854   111  0255  N\n",
      "855   111  0256  N\n",
      "856   111  0257  N\n",
      "...   ...   ... ..\n",
      "1145  112  0222  N\n",
      "1146  112  0223  N\n",
      "1147  112  0224  N\n",
      "1148  112  0225  N\n",
      "1149  112  0226  N\n",
      "\n",
      "[298 rows x 3 columns]\n"
     ]
    }
   ],
   "source": [
    "# 建照發照數量可從中華民國統計資訊網查到(https://www.stat.gov.tw/Statistics.aspx?n=3020&CaN=494)\n",
    "# 109年\n",
    "years_109 = [109] * 263\n",
    "numbers_109 = ['{:04d}'.format(i) for i in range(1,264)]\n",
    "df_109 = pd.DataFrame({\"年份\":years_109, \"號碼\":numbers_109})\n",
    "\n",
    "# 110年\n",
    "years_110 = [110] * 337\n",
    "numbers_110 = ['{:04d}'.format(i) for i in range(1,338)]\n",
    "df_110 = pd.DataFrame({\"年份\":years_110, \"號碼\":numbers_110})\n",
    "\n",
    "# 111年\n",
    "years_111 = [111] * 324\n",
    "numbers_111 = ['{:04d}'.format(i) for i in range(1,325)]\n",
    "df_111 = pd.DataFrame({\"年份\":years_111, \"號碼\":numbers_111})\n",
    "\n",
    "# 112年\n",
    "years_112 = [112] * 226\n",
    "numbers_112 = ['{:04d}'.format(i) for i in range(1,227)]\n",
    "df_112 = pd.DataFrame({\"年份\":years_112, \"號碼\":numbers_112})\n",
    "\n",
    "# 合併以上三個年度\n",
    "df_all = pd.concat([df_109, df_110, df_111, df_112], ignore_index=True)\n",
    "df_all[\"存在\"] = \"N\" \n",
    "\n",
    "# 因爬蟲中斷而取未完成部分\n",
    "df_all_new = df_all.loc[852:]\n",
    "print(df_all_new)"
   ]
  },
  {
   "cell_type": "markdown",
   "metadata": {},
   "source": [
    "#### 製作106-108年度的清單與編號"
   ]
  },
  {
   "cell_type": "code",
   "execution_count": 2,
   "metadata": {},
   "outputs": [
    {
     "name": "stdout",
     "output_type": "stream",
     "text": [
      "      年份    號碼 存在\n",
      "569  108  0142  N\n",
      "570  108  0143  N\n",
      "571  108  0144  N\n",
      "572  108  0145  N\n",
      "573  108  0146  N\n",
      "..   ...   ... ..\n",
      "686  108  0259  N\n",
      "687  108  0260  N\n",
      "688  108  0261  N\n",
      "689  108  0262  N\n",
      "690  108  0263  N\n",
      "\n",
      "[122 rows x 3 columns]\n"
     ]
    }
   ],
   "source": [
    "# 建照發照數量可從中華民國統計資訊網查到(https://www.stat.gov.tw/Statistics.aspx?n=3020&CaN=494)\n",
    "# 106年\n",
    "years_106 = [106] * 205\n",
    "numbers_106 = ['{:04d}'.format(i) for i in range(1,206)]\n",
    "df_106 = pd.DataFrame({\"年份\":years_106, \"號碼\":numbers_106})\n",
    "\n",
    "# 107年\n",
    "years_107 = [107] * 223\n",
    "numbers_107 = ['{:04d}'.format(i) for i in range(1,224)]\n",
    "df_107 = pd.DataFrame({\"年份\":years_107, \"號碼\":numbers_107})\n",
    "\n",
    "# 108年\n",
    "years_108 = [108] * 263\n",
    "numbers_108 = ['{:04d}'.format(i) for i in range(1,264)]\n",
    "df_108 = pd.DataFrame({\"年份\":years_108, \"號碼\":numbers_108})\n",
    "\n",
    "# 合併以上三個年度\n",
    "df_all = pd.concat([df_106, df_107, df_108], ignore_index=True)\n",
    "df_all[\"存在\"] = \"N\" \n",
    "\n",
    "# print(df_all)\n",
    "\n",
    "# 因爬蟲中斷而取未完成部分\n",
    "df_all_new = df_all.loc[569:]\n",
    "print(df_all_new)"
   ]
  },
  {
   "cell_type": "markdown",
   "metadata": {},
   "source": [
    "#### 爬蟲部分"
   ]
  },
  {
   "cell_type": "code",
   "execution_count": 4,
   "metadata": {},
   "outputs": [
    {
     "data": {
      "text/plain": [
       "Index(['年份', '號碼', '存在'], dtype='object')"
      ]
     },
     "execution_count": 4,
     "metadata": {},
     "output_type": "execute_result"
    }
   ],
   "source": [
    "df_110.columns"
   ]
  },
  {
   "cell_type": "code",
   "execution_count": 125,
   "metadata": {},
   "outputs": [],
   "source": [
    "# 目標網站的 URL\n",
    "url = \"https://tccmoapply.dba.tcg.gov.tw/tccmoapply/maliapp/asp/resinf01_m000servlet.do?node=20190322174610910001\"\n",
    "chrome_path = r\"C:\\Users\\doit\\anaconda3\\envs\\VSenv\\chromedriver-win64\\chromedriver.exe\"\n",
    "driver = webdriver.Chrome(executable_path=chrome_path)\n",
    "driver.get(url)"
   ]
  },
  {
   "cell_type": "code",
   "execution_count": 126,
   "metadata": {},
   "outputs": [],
   "source": [
    "# 找到查詢建照的button\n",
    "button_entry = driver.find_element_by_id(\"20190322174610910001\")\n",
    "button_entry.click()"
   ]
  },
  {
   "cell_type": "code",
   "execution_count": 3,
   "metadata": {},
   "outputs": [
    {
     "name": "stderr",
     "output_type": "stream",
     "text": [
      "Scrawling Building Cases:   0%|          | 0/122 [00:00<?, ?it/s]"
     ]
    },
    {
     "name": "stderr",
     "output_type": "stream",
     "text": [
      "Scrawling Building Cases:   2%|▏         | 2/122 [00:30<29:44, 14.87s/it]"
     ]
    },
    {
     "name": "stdout",
     "output_type": "stream",
     "text": [
      "找不到建照號碼為 108建0143號 的連結\n"
     ]
    },
    {
     "name": "stderr",
     "output_type": "stream",
     "text": [
      "Scrawling Building Cases:  10%|▉         | 12/122 [02:25<21:18, 11.62s/it]"
     ]
    },
    {
     "name": "stdout",
     "output_type": "stream",
     "text": [
      "找不到建照號碼為 108建0153號 的連結\n"
     ]
    },
    {
     "name": "stderr",
     "output_type": "stream",
     "text": [
      "Scrawling Building Cases:  15%|█▍        | 18/122 [03:36<20:43, 11.96s/it]"
     ]
    },
    {
     "name": "stdout",
     "output_type": "stream",
     "text": [
      "找不到建照號碼為 108建0159號 的連結\n"
     ]
    },
    {
     "name": "stderr",
     "output_type": "stream",
     "text": [
      "Scrawling Building Cases:  18%|█▊        | 22/122 [04:20<19:00, 11.41s/it]"
     ]
    },
    {
     "name": "stdout",
     "output_type": "stream",
     "text": [
      "找不到建照號碼為 108建0163號 的連結\n"
     ]
    },
    {
     "name": "stderr",
     "output_type": "stream",
     "text": [
      "Scrawling Building Cases:  20%|██        | 25/122 [04:54<18:34, 11.49s/it]"
     ]
    },
    {
     "name": "stdout",
     "output_type": "stream",
     "text": [
      "找不到建照號碼為 108建0166號 的連結\n"
     ]
    },
    {
     "name": "stderr",
     "output_type": "stream",
     "text": [
      "Scrawling Building Cases:  26%|██▌       | 32/122 [06:17<17:57, 11.97s/it]"
     ]
    },
    {
     "name": "stdout",
     "output_type": "stream",
     "text": [
      "找不到建照號碼為 108建0173號 的連結\n"
     ]
    },
    {
     "name": "stderr",
     "output_type": "stream",
     "text": [
      "Scrawling Building Cases:  28%|██▊       | 34/122 [06:40<17:34, 11.98s/it]"
     ]
    },
    {
     "name": "stdout",
     "output_type": "stream",
     "text": [
      "找不到建照號碼為 108建0175號 的連結\n"
     ]
    },
    {
     "name": "stderr",
     "output_type": "stream",
     "text": [
      "Scrawling Building Cases:  29%|██▊       | 35/122 [06:49<16:02, 11.06s/it]"
     ]
    },
    {
     "name": "stdout",
     "output_type": "stream",
     "text": [
      "找不到建照號碼為 108建0175號 的連結\n"
     ]
    },
    {
     "name": "stderr",
     "output_type": "stream",
     "text": [
      "Scrawling Building Cases:  32%|███▏      | 39/122 [07:36<16:23, 11.85s/it]"
     ]
    },
    {
     "name": "stdout",
     "output_type": "stream",
     "text": [
      "找不到建照號碼為 108建0180號 的連結\n"
     ]
    },
    {
     "name": "stderr",
     "output_type": "stream",
     "text": [
      "Scrawling Building Cases:  34%|███▍      | 42/122 [08:11<15:39, 11.74s/it]"
     ]
    },
    {
     "name": "stdout",
     "output_type": "stream",
     "text": [
      "找不到建照號碼為 108建0183號 的連結\n"
     ]
    },
    {
     "name": "stderr",
     "output_type": "stream",
     "text": [
      "Scrawling Building Cases:  38%|███▊      | 46/122 [08:57<15:01, 11.86s/it]"
     ]
    },
    {
     "name": "stdout",
     "output_type": "stream",
     "text": [
      "找不到建照號碼為 108建0187號 的連結\n"
     ]
    },
    {
     "name": "stderr",
     "output_type": "stream",
     "text": [
      "Scrawling Building Cases:  43%|████▎     | 52/122 [10:07<13:39, 11.71s/it]"
     ]
    },
    {
     "name": "stdout",
     "output_type": "stream",
     "text": [
      "找不到建照號碼為 108建0193號 的連結\n"
     ]
    },
    {
     "name": "stderr",
     "output_type": "stream",
     "text": [
      "Scrawling Building Cases:  46%|████▌     | 56/122 [10:54<12:55, 11.75s/it]"
     ]
    },
    {
     "name": "stdout",
     "output_type": "stream",
     "text": [
      "找不到建照號碼為 108建0197號 的連結\n"
     ]
    },
    {
     "name": "stderr",
     "output_type": "stream",
     "text": [
      "Scrawling Building Cases:  48%|████▊     | 58/122 [11:16<12:08, 11.39s/it]"
     ]
    },
    {
     "name": "stdout",
     "output_type": "stream",
     "text": [
      "找不到建照號碼為 108建0199號 的連結\n"
     ]
    },
    {
     "name": "stderr",
     "output_type": "stream",
     "text": [
      "Scrawling Building Cases:  49%|████▉     | 60/122 [11:40<12:13, 11.83s/it]"
     ]
    },
    {
     "name": "stdout",
     "output_type": "stream",
     "text": [
      "找不到建照號碼為 108建0201號 的連結\n"
     ]
    },
    {
     "name": "stderr",
     "output_type": "stream",
     "text": [
      "Scrawling Building Cases:  51%|█████     | 62/122 [12:01<11:20, 11.34s/it]"
     ]
    },
    {
     "name": "stdout",
     "output_type": "stream",
     "text": [
      "找不到建照號碼為 108建0203號 的連結\n"
     ]
    },
    {
     "name": "stderr",
     "output_type": "stream",
     "text": [
      "Scrawling Building Cases:  52%|█████▏    | 63/122 [12:12<10:54, 11.09s/it]"
     ]
    },
    {
     "name": "stdout",
     "output_type": "stream",
     "text": [
      "找不到建照號碼為 108建0203號 的連結\n"
     ]
    },
    {
     "name": "stderr",
     "output_type": "stream",
     "text": [
      "Scrawling Building Cases:  59%|█████▉    | 72/122 [13:54<09:37, 11.55s/it]"
     ]
    },
    {
     "name": "stdout",
     "output_type": "stream",
     "text": [
      "找不到建照號碼為 108建0213號 的連結\n"
     ]
    },
    {
     "name": "stderr",
     "output_type": "stream",
     "text": [
      "Scrawling Building Cases:  65%|██████▍   | 79/122 [15:15<08:34, 11.96s/it]"
     ]
    },
    {
     "name": "stdout",
     "output_type": "stream",
     "text": [
      "找不到建照號碼為 108建0220號 的連結\n"
     ]
    },
    {
     "name": "stderr",
     "output_type": "stream",
     "text": [
      "Scrawling Building Cases:  67%|██████▋   | 82/122 [15:50<07:58, 11.96s/it]"
     ]
    },
    {
     "name": "stdout",
     "output_type": "stream",
     "text": [
      "找不到建照號碼為 108建0223號 的連結\n"
     ]
    },
    {
     "name": "stderr",
     "output_type": "stream",
     "text": [
      "Scrawling Building Cases:  71%|███████▏  | 87/122 [16:49<07:02, 12.07s/it]"
     ]
    },
    {
     "name": "stdout",
     "output_type": "stream",
     "text": [
      "找不到建照號碼為 108建0228號 的連結\n"
     ]
    },
    {
     "name": "stderr",
     "output_type": "stream",
     "text": [
      "Scrawling Building Cases:  75%|███████▌  | 92/122 [17:47<05:52, 11.76s/it]"
     ]
    },
    {
     "name": "stdout",
     "output_type": "stream",
     "text": [
      "找不到建照號碼為 108建0233號 的連結\n"
     ]
    },
    {
     "name": "stderr",
     "output_type": "stream",
     "text": [
      "Scrawling Building Cases:  78%|███████▊  | 95/122 [18:21<05:14, 11.66s/it]"
     ]
    },
    {
     "name": "stdout",
     "output_type": "stream",
     "text": [
      "找不到建照號碼為 108建0236號 的連結\n"
     ]
    },
    {
     "name": "stderr",
     "output_type": "stream",
     "text": [
      "Scrawling Building Cases:  80%|███████▉  | 97/122 [18:44<04:49, 11.60s/it]"
     ]
    },
    {
     "name": "stdout",
     "output_type": "stream",
     "text": [
      "找不到建照號碼為 108建0238號 的連結\n"
     ]
    },
    {
     "name": "stderr",
     "output_type": "stream",
     "text": [
      "Scrawling Building Cases:  84%|████████▎ | 102/122 [19:44<04:01, 12.07s/it]"
     ]
    },
    {
     "name": "stdout",
     "output_type": "stream",
     "text": [
      "找不到建照號碼為 108建0243號 的連結\n"
     ]
    },
    {
     "name": "stderr",
     "output_type": "stream",
     "text": [
      "Scrawling Building Cases:  92%|█████████▏| 112/122 [21:40<01:58, 11.87s/it]"
     ]
    },
    {
     "name": "stdout",
     "output_type": "stream",
     "text": [
      "找不到建照號碼為 108建0253號 的連結\n"
     ]
    },
    {
     "name": "stderr",
     "output_type": "stream",
     "text": [
      "Scrawling Building Cases:  94%|█████████▍| 115/122 [22:12<01:18, 11.15s/it]"
     ]
    },
    {
     "name": "stdout",
     "output_type": "stream",
     "text": [
      "找不到建照號碼為 108建0256號 的連結\n"
     ]
    },
    {
     "name": "stderr",
     "output_type": "stream",
     "text": [
      "Scrawling Building Cases:  97%|█████████▋| 118/122 [22:47<00:46, 11.75s/it]"
     ]
    },
    {
     "name": "stdout",
     "output_type": "stream",
     "text": [
      "找不到建照號碼為 108建0259號 的連結\n"
     ]
    },
    {
     "name": "stderr",
     "output_type": "stream",
     "text": [
      "Scrawling Building Cases:  98%|█████████▊| 119/122 [22:57<00:33, 11.20s/it]"
     ]
    },
    {
     "name": "stdout",
     "output_type": "stream",
     "text": [
      "找不到建照號碼為 108建0259號 的連結\n"
     ]
    },
    {
     "name": "stderr",
     "output_type": "stream",
     "text": [
      "Scrawling Building Cases:  98%|█████████▊| 120/122 [23:06<00:21, 10.54s/it]"
     ]
    },
    {
     "name": "stdout",
     "output_type": "stream",
     "text": [
      "找不到建照號碼為 108建0259號 的連結\n"
     ]
    },
    {
     "name": "stderr",
     "output_type": "stream",
     "text": [
      "Scrawling Building Cases:  99%|█████████▉| 121/122 [23:15<00:10, 10.10s/it]"
     ]
    },
    {
     "name": "stdout",
     "output_type": "stream",
     "text": [
      "找不到建照號碼為 108建0259號 的連結\n"
     ]
    },
    {
     "name": "stderr",
     "output_type": "stream",
     "text": [
      "Scrawling Building Cases: 100%|██████████| 122/122 [23:25<00:00, 11.52s/it]\n"
     ]
    },
    {
     "data": {
      "text/html": [
       "<div>\n",
       "<style scoped>\n",
       "    .dataframe tbody tr th:only-of-type {\n",
       "        vertical-align: middle;\n",
       "    }\n",
       "\n",
       "    .dataframe tbody tr th {\n",
       "        vertical-align: top;\n",
       "    }\n",
       "\n",
       "    .dataframe thead th {\n",
       "        text-align: right;\n",
       "    }\n",
       "</style>\n",
       "<table border=\"1\" class=\"dataframe\">\n",
       "  <thead>\n",
       "    <tr style=\"text-align: right;\">\n",
       "      <th></th>\n",
       "      <th>建照號碼</th>\n",
       "      <th>使照號碼</th>\n",
       "      <th>開工日期</th>\n",
       "      <th>竣工日期</th>\n",
       "      <th>建築規模</th>\n",
       "      <th>戶數</th>\n",
       "      <th>建築地點:地號</th>\n",
       "      <th>建築地點:地址</th>\n",
       "      <th>姓名</th>\n",
       "    </tr>\n",
       "  </thead>\n",
       "  <tbody>\n",
       "    <tr>\n",
       "      <th>117</th>\n",
       "      <td>108建0259號</td>\n",
       "      <td>112使0100號</td>\n",
       "      <td>109/03/06</td>\n",
       "      <td>112/04/24</td>\n",
       "      <td>地上14層，地下3層</td>\n",
       "      <td>17層 49戶</td>\n",
       "      <td>大同區市府段二小段0367-0000等6筆</td>\n",
       "      <td>103大同區103臺北市大同區建泰里長安西路</td>\n",
       "      <td>三豐建設股份有限公司 負責人：洪敏夫</td>\n",
       "    </tr>\n",
       "    <tr>\n",
       "      <th>118</th>\n",
       "      <td>108建0259號</td>\n",
       "      <td>112使0100號</td>\n",
       "      <td>109/03/06</td>\n",
       "      <td>112/04/24</td>\n",
       "      <td>地上14層，地下3層</td>\n",
       "      <td>17層 49戶</td>\n",
       "      <td>大同區市府段二小段0367-0000等6筆</td>\n",
       "      <td>103大同區103臺北市大同區建泰里長安西路</td>\n",
       "      <td>三豐建設股份有限公司 負責人：洪敏夫</td>\n",
       "    </tr>\n",
       "    <tr>\n",
       "      <th>119</th>\n",
       "      <td>108建0259號</td>\n",
       "      <td>112使0100號</td>\n",
       "      <td>109/03/06</td>\n",
       "      <td>112/04/24</td>\n",
       "      <td>地上14層，地下3層</td>\n",
       "      <td>17層 49戶</td>\n",
       "      <td>大同區市府段二小段0367-0000等6筆</td>\n",
       "      <td>103大同區103臺北市大同區建泰里長安西路</td>\n",
       "      <td>三豐建設股份有限公司 負責人：洪敏夫</td>\n",
       "    </tr>\n",
       "    <tr>\n",
       "      <th>120</th>\n",
       "      <td>108建0259號</td>\n",
       "      <td>112使0100號</td>\n",
       "      <td>109/03/06</td>\n",
       "      <td>112/04/24</td>\n",
       "      <td>地上14層，地下3層</td>\n",
       "      <td>17層 49戶</td>\n",
       "      <td>大同區市府段二小段0367-0000等6筆</td>\n",
       "      <td>103大同區103臺北市大同區建泰里長安西路</td>\n",
       "      <td>三豐建設股份有限公司 負責人：洪敏夫</td>\n",
       "    </tr>\n",
       "    <tr>\n",
       "      <th>121</th>\n",
       "      <td>108建0259號</td>\n",
       "      <td>112使0100號</td>\n",
       "      <td>109/03/06</td>\n",
       "      <td>112/04/24</td>\n",
       "      <td>地上14層，地下3層</td>\n",
       "      <td>17層 49戶</td>\n",
       "      <td>大同區市府段二小段0367-0000等6筆</td>\n",
       "      <td>103大同區103臺北市大同區建泰里長安西路</td>\n",
       "      <td>三豐建設股份有限公司 負責人：洪敏夫</td>\n",
       "    </tr>\n",
       "  </tbody>\n",
       "</table>\n",
       "</div>"
      ],
      "text/plain": [
       "          建照號碼       使照號碼       開工日期       竣工日期        建築規模       戶數  \\\n",
       "117  108建0259號  112使0100號  109/03/06  112/04/24  地上14層，地下3層  17層 49戶   \n",
       "118  108建0259號  112使0100號  109/03/06  112/04/24  地上14層，地下3層  17層 49戶   \n",
       "119  108建0259號  112使0100號  109/03/06  112/04/24  地上14層，地下3層  17層 49戶   \n",
       "120  108建0259號  112使0100號  109/03/06  112/04/24  地上14層，地下3層  17層 49戶   \n",
       "121  108建0259號  112使0100號  109/03/06  112/04/24  地上14層，地下3層  17層 49戶   \n",
       "\n",
       "                   建築地點:地號                 建築地點:地址                  姓名  \n",
       "117  大同區市府段二小段0367-0000等6筆  103大同區103臺北市大同區建泰里長安西路  三豐建設股份有限公司 負責人：洪敏夫  \n",
       "118  大同區市府段二小段0367-0000等6筆  103大同區103臺北市大同區建泰里長安西路  三豐建設股份有限公司 負責人：洪敏夫  \n",
       "119  大同區市府段二小段0367-0000等6筆  103大同區103臺北市大同區建泰里長安西路  三豐建設股份有限公司 負責人：洪敏夫  \n",
       "120  大同區市府段二小段0367-0000等6筆  103大同區103臺北市大同區建泰里長安西路  三豐建設股份有限公司 負責人：洪敏夫  \n",
       "121  大同區市府段二小段0367-0000等6筆  103大同區103臺北市大同區建泰里長安西路  三豐建設股份有限公司 負責人：洪敏夫  "
      ]
     },
     "execution_count": 3,
     "metadata": {},
     "output_type": "execute_result"
    }
   ],
   "source": [
    "crawler_save = pd.DataFrame()\n",
    "\n",
    "# 以x = 0計數\n",
    "# x = 0\n",
    "\n",
    "# 獲取地址總數\n",
    "total_cases = len(df_all_new)\n",
    "\n",
    "# 使用tqdm顯示進度\n",
    "tqdm.pandas(desc=\"Scrawling Building Cases\", total=total_cases)\n",
    "\n",
    "for index, row in tqdm(df_all_new.iterrows(), total=total_cases, desc=\"Scrawling Building Cases\"):\n",
    "    url = \"https://tccmoapply.dba.tcg.gov.tw/tccmoapply/maliapp/asp/resinf01_m000servlet.do?node=20190322174610910001\"\n",
    "    chrome_path = r\"C:\\Users\\doit\\anaconda3\\envs\\VSenv\\chromedriver-win64\\chromedriver.exe\"\n",
    "    driver = webdriver.Chrome(executable_path=chrome_path)\n",
    "    driver.get(url)\n",
    "    delay = random.uniform(1,3)\n",
    "    time.sleep(delay)\n",
    "\n",
    "    # 找到查詢建照的button\n",
    "    button_entry = driver.find_element_by_id(\"20190322174610910001\")\n",
    "    button_entry.click()\n",
    "\n",
    "    # 找到年份搜尋欄位\n",
    "    element_year = driver.find_element_by_id(\"Qry_LICENSE_YY\")\n",
    "    element_year.send_keys(str(row[\"年份\"]))\n",
    "\n",
    "    # 找到建照號碼搜尋欄位\n",
    "    element_number = driver.find_element_by_id(\"Qry_LICENSE_NO1\")\n",
    "    element_number.send_keys(str(row[\"號碼\"]))\n",
    "\n",
    "    # 點擊搜尋\n",
    "    button_search = driver.find_element_by_id(\"QueryParamButton_executeQuery\")\n",
    "    button_search.click()\n",
    "\n",
    "    time.sleep(2)\n",
    "    try:\n",
    "        # 點擊建照號碼\n",
    "        link_xpath = '//a[starts-with(@onclick, \"run_view(\")]'\n",
    "        driver.find_element(By.XPATH, link_xpath).click()\n",
    "        \n",
    "        time.sleep(2)\n",
    "        #  定位建築地點的元素\n",
    "        location_element_01 = driver.find_element_by_xpath('//td[@class=\"name text-right\" and contains(text(), \"建照號碼\")]')\n",
    "        location_element_02 = driver.find_element_by_xpath('//td[@class=\"name text-right\" and contains(text(), \"使照號碼\")]')\n",
    "        location_element_03 = driver.find_element_by_xpath('//td[@class=\"name text-right\" and contains(text(), \"開工日期\")]')\n",
    "        location_element_04 = driver.find_element_by_xpath('//td[@class=\"name text-right\" and contains(text(), \"竣工日期\")]')\n",
    "        location_element_05 = driver.find_element_by_xpath('//td[@class=\"name text-right\" and contains(text(), \"建築規模\")]')\n",
    "        location_element_06 = driver.find_element_by_xpath('//td[@class=\"name text-right\" and contains(text(), \"戶數\")]')\n",
    "        location_element_07 = driver.find_element_by_xpath('//td[@class=\"name text-right\" and contains(text(), \"建築地點:地號\")]')\n",
    "        location_element_08 = driver.find_element_by_xpath('//td[@class=\"name text-right\" and contains(text(), \"建築地點:地址\")]')\n",
    "        location_element_09 = driver.find_element_by_xpath('//td[@class=\"name text-right\" and contains(text(), \"姓名\")]')\n",
    "\n",
    "        # 獲取建築地點的值\n",
    "        location_value_01 = location_element_01.find_element_by_xpath('./following-sibling::td').text\n",
    "        location_value_02 = location_element_02.find_element_by_xpath('./following-sibling::td').text\n",
    "        location_value_03 = location_element_03.find_element_by_xpath('./following-sibling::td').text\n",
    "        location_value_04 = location_element_04.find_element_by_xpath('./following-sibling::td').text\n",
    "        location_value_05 = location_element_05.find_element_by_xpath('./following-sibling::td').text\n",
    "        location_value_06 = location_element_06.find_element_by_xpath('./following-sibling::td').text\n",
    "        location_value_07 = location_element_07.find_element_by_xpath('./following-sibling::td').text\n",
    "        location_value_08 = location_element_08.find_element_by_xpath('./following-sibling::td').text\n",
    "        location_value_09 = location_element_09.find_element_by_xpath('./following-sibling::td').text\n",
    "\n",
    "        # 打印 DataFrame\n",
    "        data = [{\n",
    "            \"建照號碼\": location_value_01,\n",
    "            \"使照號碼\": location_value_02,\n",
    "            \"開工日期\": location_value_03,\n",
    "            \"竣工日期\": location_value_04,\n",
    "            \"建築規模\": location_value_05,\n",
    "            \"戶數\": location_value_06,\n",
    "            \"建築地點:地號\": location_value_07,\n",
    "            \"建築地點:地址\": location_value_08,\n",
    "            \"姓名\": location_value_09\n",
    "        }]\n",
    "        data_df = pd.DataFrame(data)\n",
    "        crawler_save = pd.concat([crawler_save, data_df], ignore_index=True)\n",
    "    except NoSuchElementException:\n",
    "        # 如果找不到連結，印出訊息並繼續下一個迴圈\n",
    "        print(f\"找不到建照號碼為 {location_value_01} 的連結\")\n",
    "        data = [{\n",
    "            \"建照號碼\": None,\n",
    "            \"使照號碼\": None,\n",
    "            \"開工日期\": None,\n",
    "            \"竣工日期\": None,\n",
    "            \"建築規模\": None,\n",
    "            \"戶數\": None,\n",
    "            \"建築地點:地號\": None,\n",
    "            \"建築地點:地址\": None,\n",
    "            \"姓名\": None\n",
    "        }]\n",
    "        crawler_save = pd.concat([crawler_save, data_df], ignore_index=True)\n",
    "        driver.quit()\n",
    "        continue\n",
    "    # x += 1\n",
    "    # print(\"已完成爬取{}/1150筆資料\".format(x))\n",
    "    # 關閉瀏覽器\n",
    "    driver.quit()\n",
    "    \n",
    "\n",
    "crawler_save.tail()"
   ]
  },
  {
   "cell_type": "code",
   "execution_count": 47,
   "metadata": {},
   "outputs": [
    {
     "data": {
      "text/html": [
       "<div>\n",
       "<style scoped>\n",
       "    .dataframe tbody tr th:only-of-type {\n",
       "        vertical-align: middle;\n",
       "    }\n",
       "\n",
       "    .dataframe tbody tr th {\n",
       "        vertical-align: top;\n",
       "    }\n",
       "\n",
       "    .dataframe thead th {\n",
       "        text-align: right;\n",
       "    }\n",
       "</style>\n",
       "<table border=\"1\" class=\"dataframe\">\n",
       "  <thead>\n",
       "    <tr style=\"text-align: right;\">\n",
       "      <th></th>\n",
       "      <th>建照號碼</th>\n",
       "      <th>使照號碼</th>\n",
       "      <th>開工日期</th>\n",
       "      <th>竣工日期</th>\n",
       "      <th>建築規模</th>\n",
       "      <th>戶數</th>\n",
       "      <th>建築地點:地號</th>\n",
       "      <th>建築地點:地址</th>\n",
       "      <th>姓名</th>\n",
       "    </tr>\n",
       "  </thead>\n",
       "  <tbody>\n",
       "    <tr>\n",
       "      <th>99</th>\n",
       "      <td>108建0137號</td>\n",
       "      <td>109使0031號</td>\n",
       "      <td></td>\n",
       "      <td>108/11/26</td>\n",
       "      <td>地上2層，地下0層</td>\n",
       "      <td>2層 1戶</td>\n",
       "      <td>大同區圓環段三小段0560-0022等4筆</td>\n",
       "      <td>103大同區103臺北市大同區星明里寧夏路27號</td>\n",
       "      <td>財團法人陳德星堂 陳春銅</td>\n",
       "    </tr>\n",
       "    <tr>\n",
       "      <th>100</th>\n",
       "      <td>108建0138號</td>\n",
       "      <td>112使0016號</td>\n",
       "      <td>109/07/07</td>\n",
       "      <td>111/02/21</td>\n",
       "      <td>地上4層，地下2層</td>\n",
       "      <td>6層 4戶</td>\n",
       "      <td>內湖區康寧段一小段0424-0000等1筆</td>\n",
       "      <td>114內湖區114臺北市內湖區秀湖里大湖街166巷44號</td>\n",
       "      <td>高楊碧菁</td>\n",
       "    </tr>\n",
       "    <tr>\n",
       "      <th>101</th>\n",
       "      <td>108建0139號</td>\n",
       "      <td>111使0051號</td>\n",
       "      <td>109/05/04</td>\n",
       "      <td>110/10/19</td>\n",
       "      <td>地上2層，地下0層</td>\n",
       "      <td>2層 1戶</td>\n",
       "      <td>內湖區西湖段二小段0037-0000等1筆</td>\n",
       "      <td>114內湖區114臺北市內湖區西安里內湖路一段91巷229號（旁）</td>\n",
       "      <td>許金蘭</td>\n",
       "    </tr>\n",
       "    <tr>\n",
       "      <th>102</th>\n",
       "      <td>108建0140號</td>\n",
       "      <td></td>\n",
       "      <td>109/05/12</td>\n",
       "      <td></td>\n",
       "      <td>地上24層，地下4層</td>\n",
       "      <td>28層 290戶</td>\n",
       "      <td>松山區寶清段一小段0057-0013等1筆</td>\n",
       "      <td>105松山區105臺北市松山區自強里延壽街</td>\n",
       "      <td>中華工程股份有限公司 代表人：朱蕙蘭</td>\n",
       "    </tr>\n",
       "    <tr>\n",
       "      <th>103</th>\n",
       "      <td>108建0141號</td>\n",
       "      <td>112使0013號</td>\n",
       "      <td>109/05/07</td>\n",
       "      <td>111/11/14</td>\n",
       "      <td>地上15層，地下2層</td>\n",
       "      <td>17層 102戶</td>\n",
       "      <td>中山區德惠段二小段0813-0001等6筆</td>\n",
       "      <td>104中山區104臺北市中山區新福里民權東路二段</td>\n",
       "      <td>昇陽建設企業股份有限公司 負責人：麥寬成</td>\n",
       "    </tr>\n",
       "  </tbody>\n",
       "</table>\n",
       "</div>"
      ],
      "text/plain": [
       "          建照號碼       使照號碼       開工日期       竣工日期        建築規模        戶數  \\\n",
       "99   108建0137號  109使0031號             108/11/26   地上2層，地下0層     2層 1戶   \n",
       "100  108建0138號  112使0016號  109/07/07  111/02/21   地上4層，地下2層     6層 4戶   \n",
       "101  108建0139號  111使0051號  109/05/04  110/10/19   地上2層，地下0層     2層 1戶   \n",
       "102  108建0140號             109/05/12             地上24層，地下4層  28層 290戶   \n",
       "103  108建0141號  112使0013號  109/05/07  111/11/14  地上15層，地下2層  17層 102戶   \n",
       "\n",
       "                   建築地點:地號                            建築地點:地址  \\\n",
       "99   大同區圓環段三小段0560-0022等4筆           103大同區103臺北市大同區星明里寧夏路27號   \n",
       "100  內湖區康寧段一小段0424-0000等1筆       114內湖區114臺北市內湖區秀湖里大湖街166巷44號   \n",
       "101  內湖區西湖段二小段0037-0000等1筆  114內湖區114臺北市內湖區西安里內湖路一段91巷229號（旁）   \n",
       "102  松山區寶清段一小段0057-0013等1筆              105松山區105臺北市松山區自強里延壽街   \n",
       "103  中山區德惠段二小段0813-0001等6筆           104中山區104臺北市中山區新福里民權東路二段   \n",
       "\n",
       "                       姓名  \n",
       "99           財團法人陳德星堂 陳春銅  \n",
       "100                  高楊碧菁  \n",
       "101                   許金蘭  \n",
       "102    中華工程股份有限公司 代表人：朱蕙蘭  \n",
       "103  昇陽建設企業股份有限公司 負責人：麥寬成  "
      ]
     },
     "execution_count": 47,
     "metadata": {},
     "output_type": "execute_result"
    }
   ],
   "source": [
    "crawler_save.tail()\n",
    "# print(crawler_save.shape)"
   ]
  },
  {
   "cell_type": "code",
   "execution_count": 4,
   "metadata": {},
   "outputs": [],
   "source": [
    "crawler_save.to_excel(r\"D:\\Chu's Document!\\02 Project\\06 道路塌陷防治專案(天坑)\\03 Data\\Crawled\\crawler_save_106-108_07.xlsx\")"
   ]
  },
  {
   "cell_type": "markdown",
   "metadata": {},
   "source": [
    "## 02 處理建照資料"
   ]
  },
  {
   "cell_type": "markdown",
   "metadata": {},
   "source": [
    "#### 導入與去除重複值 (僅讀入2個檔案)"
   ]
  },
  {
   "cell_type": "code",
   "execution_count": 110,
   "metadata": {},
   "outputs": [
    {
     "data": {
      "text/html": [
       "<div>\n",
       "<style scoped>\n",
       "    .dataframe tbody tr th:only-of-type {\n",
       "        vertical-align: middle;\n",
       "    }\n",
       "\n",
       "    .dataframe tbody tr th {\n",
       "        vertical-align: top;\n",
       "    }\n",
       "\n",
       "    .dataframe thead th {\n",
       "        text-align: right;\n",
       "    }\n",
       "</style>\n",
       "<table border=\"1\" class=\"dataframe\">\n",
       "  <thead>\n",
       "    <tr style=\"text-align: right;\">\n",
       "      <th></th>\n",
       "      <th>Unnamed: 0</th>\n",
       "      <th>建照號碼</th>\n",
       "      <th>使照號碼</th>\n",
       "      <th>開工日期</th>\n",
       "      <th>竣工日期</th>\n",
       "      <th>建築規模</th>\n",
       "      <th>戶數</th>\n",
       "      <th>建築地點:地號</th>\n",
       "      <th>建築地點:地址</th>\n",
       "      <th>姓名</th>\n",
       "    </tr>\n",
       "  </thead>\n",
       "  <tbody>\n",
       "    <tr>\n",
       "      <th>0</th>\n",
       "      <td>0</td>\n",
       "      <td>109建0001號</td>\n",
       "      <td>NaN</td>\n",
       "      <td>109/10/05</td>\n",
       "      <td>NaN</td>\n",
       "      <td>地上21層，地下6層</td>\n",
       "      <td>27層 77戶</td>\n",
       "      <td>中正區河堤段一小段0216-0000等26筆</td>\n",
       "      <td>100中正區100臺北市中正區頂東里里羅斯福路三段68之1號</td>\n",
       "      <td>北城建設開發股份有限公司 負責人：洪春木</td>\n",
       "    </tr>\n",
       "    <tr>\n",
       "      <th>1</th>\n",
       "      <td>1</td>\n",
       "      <td>109建0002號</td>\n",
       "      <td>NaN</td>\n",
       "      <td>109/10/05</td>\n",
       "      <td>NaN</td>\n",
       "      <td>地上12層，地下3層</td>\n",
       "      <td>15層 122戶</td>\n",
       "      <td>南港區經貿段0065-0000等1筆</td>\n",
       "      <td>115南港區115臺北市南港區南港里惠民街</td>\n",
       "      <td>臺北市政府都市發展局 局長:王玉芬</td>\n",
       "    </tr>\n",
       "    <tr>\n",
       "      <th>2</th>\n",
       "      <td>2</td>\n",
       "      <td>109建0003號</td>\n",
       "      <td>NaN</td>\n",
       "      <td>109/03/23</td>\n",
       "      <td>NaN</td>\n",
       "      <td>地上12層，地下4層</td>\n",
       "      <td>16層 33戶</td>\n",
       "      <td>信義區永吉段四小段0105-0000等7筆</td>\n",
       "      <td>110信義區110臺北市信義區富台里忠孝東路五段423巷</td>\n",
       "      <td>僑馥建築經理股份有限公司 負責人：彭慶</td>\n",
       "    </tr>\n",
       "    <tr>\n",
       "      <th>3</th>\n",
       "      <td>4</td>\n",
       "      <td>109建0005號</td>\n",
       "      <td>NaN</td>\n",
       "      <td>109/12/12</td>\n",
       "      <td>NaN</td>\n",
       "      <td>地上5層，地下1層</td>\n",
       "      <td>6層 1戶</td>\n",
       "      <td>中山區正義段一小段0472-0000等2筆</td>\n",
       "      <td>104中山區104臺北市中山區正守里林森北路67巷</td>\n",
       "      <td>嘉春建設股份有限公司 負責人:江顯方</td>\n",
       "    </tr>\n",
       "    <tr>\n",
       "      <th>4</th>\n",
       "      <td>5</td>\n",
       "      <td>109建0006號</td>\n",
       "      <td>NaN</td>\n",
       "      <td>109/10/20</td>\n",
       "      <td>NaN</td>\n",
       "      <td>地上10層，地下3層</td>\n",
       "      <td>13層 29戶</td>\n",
       "      <td>中正區臨沂段一小段0314-0000等3筆</td>\n",
       "      <td>100中正區100臺北市中正區幸市里臨沂街25巷1號</td>\n",
       "      <td>僑馥建築經理股份有限公司 負責人:彭慶</td>\n",
       "    </tr>\n",
       "  </tbody>\n",
       "</table>\n",
       "</div>"
      ],
      "text/plain": [
       "   Unnamed: 0       建照號碼 使照號碼       開工日期 竣工日期        建築規模        戶數  \\\n",
       "0           0  109建0001號  NaN  109/10/05  NaN  地上21層，地下6層   27層 77戶   \n",
       "1           1  109建0002號  NaN  109/10/05  NaN  地上12層，地下3層  15層 122戶   \n",
       "2           2  109建0003號  NaN  109/03/23  NaN  地上12層，地下4層   16層 33戶   \n",
       "3           4  109建0005號  NaN  109/12/12  NaN   地上5層，地下1層     6層 1戶   \n",
       "4           5  109建0006號  NaN  109/10/20  NaN  地上10層，地下3層   13層 29戶   \n",
       "\n",
       "                  建築地點:地號                         建築地點:地址  \\\n",
       "0  中正區河堤段一小段0216-0000等26筆  100中正區100臺北市中正區頂東里里羅斯福路三段68之1號   \n",
       "1      南港區經貿段0065-0000等1筆           115南港區115臺北市南港區南港里惠民街   \n",
       "2   信義區永吉段四小段0105-0000等7筆    110信義區110臺北市信義區富台里忠孝東路五段423巷   \n",
       "3   中山區正義段一小段0472-0000等2筆       104中山區104臺北市中山區正守里林森北路67巷   \n",
       "4   中正區臨沂段一小段0314-0000等3筆      100中正區100臺北市中正區幸市里臨沂街25巷1號   \n",
       "\n",
       "                     姓名  \n",
       "0  北城建設開發股份有限公司 負責人：洪春木  \n",
       "1     臺北市政府都市發展局 局長:王玉芬  \n",
       "2   僑馥建築經理股份有限公司 負責人：彭慶  \n",
       "3    嘉春建設股份有限公司 負責人:江顯方  \n",
       "4   僑馥建築經理股份有限公司 負責人:彭慶  "
      ]
     },
     "execution_count": 110,
     "metadata": {},
     "output_type": "execute_result"
    }
   ],
   "source": [
    "# 讀入二個表單\n",
    "list_01 = pd.read_excel(r\"D:\\Chu's Document!\\02 Project\\06 道路塌陷防治專案(天坑)\\03 Data\\Crawled\\crawler_save_01_1215.xlsx\")\n",
    "list_02 = pd.read_excel(r\"D:\\Chu's Document!\\02 Project\\06 道路塌陷防治專案(天坑)\\03 Data\\Crawled\\crawler_save_02_1215.xlsx\")\n",
    "\n",
    "# 合併表單\n",
    "raw_data = pd.concat([list_01, list_02], ignore_index=True)\n",
    "raw_data.head()\n",
    "\n",
    "# 去除重複列\n",
    "data = raw_data.drop_duplicates(subset=[\"建照號碼\"], keep=\"first\")\n",
    "\n",
    "# 重設索引\n",
    "data = data.reset_index(drop=True)\n",
    "\n",
    "data.shape #(963, 10)\n",
    "data.head()"
   ]
  },
  {
   "cell_type": "markdown",
   "metadata": {},
   "source": [
    "#### 導入與去除重複值 (批次讀入多個檔案)"
   ]
  },
  {
   "cell_type": "code",
   "execution_count": 49,
   "metadata": {},
   "outputs": [
    {
     "data": {
      "text/plain": [
       "(1846, 10)"
      ]
     },
     "execution_count": 49,
     "metadata": {},
     "output_type": "execute_result"
    }
   ],
   "source": [
    "# 指定檔案路徑及檔案名稱開頭\n",
    "file_path = r\"D:\\Chu's Document!\\02 Project\\06 道路塌陷防治專案(天坑)\\03 Data\\Crawled\"\n",
    "file_prefix = \"crawler_save\"\n",
    "\n",
    "# 取得符合條件的所有檔案\n",
    "files = glob.glob(file_path + '\\\\' + file_prefix + '*.xlsx')\n",
    "\n",
    "# 初始化一個空的 DataFrame 來存放合併後的資料\n",
    "merged_data = pd.DataFrame()\n",
    "\n",
    "# 逐一讀取並合併檔案\n",
    "for file in files:\n",
    "    df = pd.read_excel(file)\n",
    "    merged_data = pd.concat([merged_data, df], ignore_index=True)\n",
    "\n",
    "merged_data.shape #(1846, 10)"
   ]
  },
  {
   "cell_type": "code",
   "execution_count": 14,
   "metadata": {},
   "outputs": [
    {
     "data": {
      "text/html": [
       "<div>\n",
       "<style scoped>\n",
       "    .dataframe tbody tr th:only-of-type {\n",
       "        vertical-align: middle;\n",
       "    }\n",
       "\n",
       "    .dataframe tbody tr th {\n",
       "        vertical-align: top;\n",
       "    }\n",
       "\n",
       "    .dataframe thead th {\n",
       "        text-align: right;\n",
       "    }\n",
       "</style>\n",
       "<table border=\"1\" class=\"dataframe\">\n",
       "  <thead>\n",
       "    <tr style=\"text-align: right;\">\n",
       "      <th></th>\n",
       "      <th>Unnamed: 0</th>\n",
       "      <th>建照號碼</th>\n",
       "      <th>使照號碼</th>\n",
       "      <th>開工日期</th>\n",
       "      <th>竣工日期</th>\n",
       "      <th>建築規模</th>\n",
       "      <th>戶數</th>\n",
       "      <th>建築地點:地號</th>\n",
       "      <th>建築地點:地址</th>\n",
       "      <th>姓名</th>\n",
       "    </tr>\n",
       "  </thead>\n",
       "  <tbody>\n",
       "    <tr>\n",
       "      <th>0</th>\n",
       "      <td>0</td>\n",
       "      <td>109建0001號</td>\n",
       "      <td>NaN</td>\n",
       "      <td>109/10/05</td>\n",
       "      <td>NaN</td>\n",
       "      <td>地上21層，地下6層</td>\n",
       "      <td>27層 77戶</td>\n",
       "      <td>中正區河堤段一小段0216-0000等26筆</td>\n",
       "      <td>100中正區100臺北市中正區頂東里里羅斯福路三段68之1號</td>\n",
       "      <td>北城建設開發股份有限公司 負責人：洪春木</td>\n",
       "    </tr>\n",
       "    <tr>\n",
       "      <th>1</th>\n",
       "      <td>1</td>\n",
       "      <td>109建0002號</td>\n",
       "      <td>NaN</td>\n",
       "      <td>109/10/05</td>\n",
       "      <td>NaN</td>\n",
       "      <td>地上12層，地下3層</td>\n",
       "      <td>15層 122戶</td>\n",
       "      <td>南港區經貿段0065-0000等1筆</td>\n",
       "      <td>115南港區115臺北市南港區南港里惠民街</td>\n",
       "      <td>臺北市政府都市發展局 局長:王玉芬</td>\n",
       "    </tr>\n",
       "  </tbody>\n",
       "</table>\n",
       "</div>"
      ],
      "text/plain": [
       "   Unnamed: 0       建照號碼 使照號碼       開工日期 竣工日期        建築規模        戶數  \\\n",
       "0           0  109建0001號  NaN  109/10/05  NaN  地上21層，地下6層   27層 77戶   \n",
       "1           1  109建0002號  NaN  109/10/05  NaN  地上12層，地下3層  15層 122戶   \n",
       "\n",
       "                  建築地點:地號                         建築地點:地址  \\\n",
       "0  中正區河堤段一小段0216-0000等26筆  100中正區100臺北市中正區頂東里里羅斯福路三段68之1號   \n",
       "1      南港區經貿段0065-0000等1筆           115南港區115臺北市南港區南港里惠民街   \n",
       "\n",
       "                     姓名  \n",
       "0  北城建設開發股份有限公司 負責人：洪春木  \n",
       "1     臺北市政府都市發展局 局長:王玉芬  "
      ]
     },
     "execution_count": 14,
     "metadata": {},
     "output_type": "execute_result"
    }
   ],
   "source": [
    "merged_data.head(2)"
   ]
  },
  {
   "cell_type": "code",
   "execution_count": 50,
   "metadata": {},
   "outputs": [
    {
     "data": {
      "text/plain": [
       "Unnamed: 0       0\n",
       "建照號碼             0\n",
       "使照號碼          1282\n",
       "開工日期           133\n",
       "竣工日期          1293\n",
       "建築規模             0\n",
       "戶數               0\n",
       "建築地點:地號         39\n",
       "建築地點:地址          0\n",
       "姓名              19\n",
       "dtype: int64"
      ]
     },
     "execution_count": 50,
     "metadata": {},
     "output_type": "execute_result"
    }
   ],
   "source": [
    "# 確認缺失值(開工日期：133)\n",
    "merged_data.isna().sum()\n"
   ]
  },
  {
   "cell_type": "code",
   "execution_count": 51,
   "metadata": {},
   "outputs": [
    {
     "data": {
      "text/html": [
       "<div>\n",
       "<style scoped>\n",
       "    .dataframe tbody tr th:only-of-type {\n",
       "        vertical-align: middle;\n",
       "    }\n",
       "\n",
       "    .dataframe tbody tr th {\n",
       "        vertical-align: top;\n",
       "    }\n",
       "\n",
       "    .dataframe thead th {\n",
       "        text-align: right;\n",
       "    }\n",
       "</style>\n",
       "<table border=\"1\" class=\"dataframe\">\n",
       "  <thead>\n",
       "    <tr style=\"text-align: right;\">\n",
       "      <th></th>\n",
       "      <th>Unnamed: 0</th>\n",
       "      <th>建照號碼</th>\n",
       "      <th>使照號碼</th>\n",
       "      <th>開工日期</th>\n",
       "      <th>竣工日期</th>\n",
       "      <th>建築規模</th>\n",
       "      <th>戶數</th>\n",
       "      <th>建築地點:地號</th>\n",
       "      <th>建築地點:地址</th>\n",
       "      <th>姓名</th>\n",
       "    </tr>\n",
       "  </thead>\n",
       "  <tbody>\n",
       "    <tr>\n",
       "      <th>58</th>\n",
       "      <td>58</td>\n",
       "      <td>109建0059號</td>\n",
       "      <td>NaN</td>\n",
       "      <td>NaN</td>\n",
       "      <td>NaN</td>\n",
       "      <td>地上5層，地下1層</td>\n",
       "      <td>6層 1戶</td>\n",
       "      <td>中山區長安段一小段0421-0000等1筆</td>\n",
       "      <td>104中山區104臺北市中山區力行里遼寧街45巷24號2樓</td>\n",
       "      <td>陳勤政</td>\n",
       "    </tr>\n",
       "    <tr>\n",
       "      <th>89</th>\n",
       "      <td>89</td>\n",
       "      <td>109建0090號</td>\n",
       "      <td>NaN</td>\n",
       "      <td>NaN</td>\n",
       "      <td>NaN</td>\n",
       "      <td>地上8層，地下2層</td>\n",
       "      <td>10層 49戶</td>\n",
       "      <td>北投區崇仰段三小段0183-0000等14筆</td>\n",
       "      <td>112北投區112臺北市北投區永欣里石牌路二段315巷16弄（2號對面空地）</td>\n",
       "      <td>龍霖開發建設股份有限公司　負責人:李建霖</td>\n",
       "    </tr>\n",
       "  </tbody>\n",
       "</table>\n",
       "</div>"
      ],
      "text/plain": [
       "    Unnamed: 0       建照號碼 使照號碼 開工日期 竣工日期       建築規模       戶數  \\\n",
       "58          58  109建0059號  NaN  NaN  NaN  地上5層，地下1層    6層 1戶   \n",
       "89          89  109建0090號  NaN  NaN  NaN  地上8層，地下2層  10層 49戶   \n",
       "\n",
       "                   建築地點:地號                                 建築地點:地址  \\\n",
       "58   中山區長安段一小段0421-0000等1筆           104中山區104臺北市中山區力行里遼寧街45巷24號2樓   \n",
       "89  北投區崇仰段三小段0183-0000等14筆  112北投區112臺北市北投區永欣里石牌路二段315巷16弄（2號對面空地）   \n",
       "\n",
       "                      姓名  \n",
       "58                   陳勤政  \n",
       "89  龍霖開發建設股份有限公司　負責人:李建霖  "
      ]
     },
     "execution_count": 51,
     "metadata": {},
     "output_type": "execute_result"
    }
   ],
   "source": [
    "# 確認缺少開工日期的欄位\n",
    "missing_dates = merged_data[merged_data[\"開工日期\"].isna()].index.tolist()\n",
    "\n",
    "# 顯示缺失欄位\n",
    "filtered_date_na = merged_data.loc[missing_dates]\n",
    "filtered_date_na.head(2)"
   ]
  },
  {
   "cell_type": "code",
   "execution_count": 52,
   "metadata": {},
   "outputs": [
    {
     "data": {
      "text/html": [
       "<div>\n",
       "<style scoped>\n",
       "    .dataframe tbody tr th:only-of-type {\n",
       "        vertical-align: middle;\n",
       "    }\n",
       "\n",
       "    .dataframe tbody tr th {\n",
       "        vertical-align: top;\n",
       "    }\n",
       "\n",
       "    .dataframe thead th {\n",
       "        text-align: right;\n",
       "    }\n",
       "</style>\n",
       "<table border=\"1\" class=\"dataframe\">\n",
       "  <thead>\n",
       "    <tr style=\"text-align: right;\">\n",
       "      <th></th>\n",
       "      <th>Unnamed: 0</th>\n",
       "      <th>建照號碼</th>\n",
       "      <th>使照號碼</th>\n",
       "      <th>開工日期</th>\n",
       "      <th>竣工日期</th>\n",
       "      <th>建築規模</th>\n",
       "      <th>戶數</th>\n",
       "      <th>建築地點:地號</th>\n",
       "      <th>建築地點:地址</th>\n",
       "      <th>姓名</th>\n",
       "    </tr>\n",
       "  </thead>\n",
       "  <tbody>\n",
       "    <tr>\n",
       "      <th>0</th>\n",
       "      <td>0</td>\n",
       "      <td>109建0001號</td>\n",
       "      <td>NaN</td>\n",
       "      <td>109/10/05</td>\n",
       "      <td>NaN</td>\n",
       "      <td>地上21層，地下6層</td>\n",
       "      <td>27層 77戶</td>\n",
       "      <td>中正區河堤段一小段0216-0000等26筆</td>\n",
       "      <td>100中正區100臺北市中正區頂東里里羅斯福路三段68之1號</td>\n",
       "      <td>北城建設開發股份有限公司 負責人：洪春木</td>\n",
       "    </tr>\n",
       "    <tr>\n",
       "      <th>1</th>\n",
       "      <td>1</td>\n",
       "      <td>109建0002號</td>\n",
       "      <td>NaN</td>\n",
       "      <td>109/10/05</td>\n",
       "      <td>NaN</td>\n",
       "      <td>地上12層，地下3層</td>\n",
       "      <td>15層 122戶</td>\n",
       "      <td>南港區經貿段0065-0000等1筆</td>\n",
       "      <td>115南港區115臺北市南港區南港里惠民街</td>\n",
       "      <td>臺北市政府都市發展局 局長:王玉芬</td>\n",
       "    </tr>\n",
       "  </tbody>\n",
       "</table>\n",
       "</div>"
      ],
      "text/plain": [
       "   Unnamed: 0       建照號碼 使照號碼       開工日期 竣工日期        建築規模        戶數  \\\n",
       "0           0  109建0001號  NaN  109/10/05  NaN  地上21層，地下6層   27層 77戶   \n",
       "1           1  109建0002號  NaN  109/10/05  NaN  地上12層，地下3層  15層 122戶   \n",
       "\n",
       "                  建築地點:地號                         建築地點:地址  \\\n",
       "0  中正區河堤段一小段0216-0000等26筆  100中正區100臺北市中正區頂東里里羅斯福路三段68之1號   \n",
       "1      南港區經貿段0065-0000等1筆           115南港區115臺北市南港區南港里惠民街   \n",
       "\n",
       "                     姓名  \n",
       "0  北城建設開發股份有限公司 負責人：洪春木  \n",
       "1     臺北市政府都市發展局 局長:王玉芬  "
      ]
     },
     "execution_count": 52,
     "metadata": {},
     "output_type": "execute_result"
    }
   ],
   "source": [
    "# 去除缺少開工日期的建案\n",
    "# 保留原始的 DataFrame 並刪除缺失值的行\n",
    "merged_data = merged_data.dropna(subset=[\"開工日期\"])\n",
    "merged_data.shape #(1713, 10)\n",
    "merged_data.head(2)"
   ]
  },
  {
   "cell_type": "markdown",
   "metadata": {},
   "source": [
    "#### 開工日期轉換為西元年(針對欄與列處理)"
   ]
  },
  {
   "cell_type": "code",
   "execution_count": 47,
   "metadata": {},
   "outputs": [],
   "source": [
    "# 以單一欄為目標對象\n",
    "def column_transfer_to_time(column):\n",
    "    # 拆分民國年與時間 \n",
    "    date = column.astype(str)\n",
    "    \n",
    "    # 添加條件檢查，確保 roc_year 不是空字符串\n",
    "    roc_year = date.str.split('/').str[0]\n",
    "    mask = (roc_year != '') & (~roc_year.isna())  # 檢查不是空字符串且不是 NaN\n",
    "    roc_year = roc_year[mask]\n",
    "\n",
    "    if not roc_year.empty:\n",
    "        # 民國轉西元\n",
    "        month = date.str.split('/').str[1]\n",
    "        day = date.str.split('/').str[2]\n",
    "        \n",
    "        # 在進行 astype(int) 之前，檢查是否有 NaN\n",
    "        if not roc_year.str.contains('nan').any():\n",
    "            ad_year = roc_year.astype(int) + 1911\n",
    "            ad_date = ad_year.astype(str).str.cat([month, day], sep='/')\n",
    "\n",
    "            # 轉換為時間格式\n",
    "            new_date = pd.to_datetime(ad_date, format='%Y/%m/%d')\n",
    "            column = new_date\n",
    "    else:\n",
    "        return column  # 如果 roc_year 為空，直接返回原始 column，避免資料遺失\n",
    "\n",
    "    return column  # 將修改後的 column 返回\n",
    "\n",
    "# 以單一列為目標對象\n",
    "def column_transfer_to_time_row(row):\n",
    "    # 拆分民國年與時間 \n",
    "    date = str(row)\n",
    "    \n",
    "    # 添加條件檢查，確保 roc_year 不是空字符串\n",
    "    date_parts = date.split('/')\n",
    "    \n",
    "    if len(date_parts) >= 3:\n",
    "        roc_year = date_parts[0]\n",
    "        month = date_parts[1]\n",
    "        day = date_parts[2]\n",
    "        \n",
    "        # 在進行 astype(int) 之前，檢查是否有 NaN\n",
    "        if 'nan' not in roc_year:\n",
    "            ad_year = int(roc_year) + 1911\n",
    "            ad_date = f\"{ad_year}/{month}/{day}\"\n",
    "\n",
    "            # 轉換為時間格式\n",
    "            new_date = pd.to_datetime(ad_date, format='%Y/%m/%d')\n",
    "            return new_date\n",
    "    return row\n"
   ]
  },
  {
   "cell_type": "code",
   "execution_count": 53,
   "metadata": {},
   "outputs": [
    {
     "data": {
      "text/html": [
       "<div>\n",
       "<style scoped>\n",
       "    .dataframe tbody tr th:only-of-type {\n",
       "        vertical-align: middle;\n",
       "    }\n",
       "\n",
       "    .dataframe tbody tr th {\n",
       "        vertical-align: top;\n",
       "    }\n",
       "\n",
       "    .dataframe thead th {\n",
       "        text-align: right;\n",
       "    }\n",
       "</style>\n",
       "<table border=\"1\" class=\"dataframe\">\n",
       "  <thead>\n",
       "    <tr style=\"text-align: right;\">\n",
       "      <th></th>\n",
       "      <th>Unnamed: 0</th>\n",
       "      <th>建照號碼</th>\n",
       "      <th>使照號碼</th>\n",
       "      <th>開工日期</th>\n",
       "      <th>竣工日期</th>\n",
       "      <th>建築規模</th>\n",
       "      <th>戶數</th>\n",
       "      <th>建築地點:地號</th>\n",
       "      <th>建築地點:地址</th>\n",
       "      <th>姓名</th>\n",
       "    </tr>\n",
       "  </thead>\n",
       "  <tbody>\n",
       "    <tr>\n",
       "      <th>0</th>\n",
       "      <td>0</td>\n",
       "      <td>109建0001號</td>\n",
       "      <td>NaN</td>\n",
       "      <td>2020-10-05</td>\n",
       "      <td>NaT</td>\n",
       "      <td>地上21層，地下6層</td>\n",
       "      <td>27層 77戶</td>\n",
       "      <td>中正區河堤段一小段0216-0000等26筆</td>\n",
       "      <td>100中正區100臺北市中正區頂東里里羅斯福路三段68之1號</td>\n",
       "      <td>北城建設開發股份有限公司 負責人：洪春木</td>\n",
       "    </tr>\n",
       "    <tr>\n",
       "      <th>1</th>\n",
       "      <td>1</td>\n",
       "      <td>109建0002號</td>\n",
       "      <td>NaN</td>\n",
       "      <td>2020-10-05</td>\n",
       "      <td>NaT</td>\n",
       "      <td>地上12層，地下3層</td>\n",
       "      <td>15層 122戶</td>\n",
       "      <td>南港區經貿段0065-0000等1筆</td>\n",
       "      <td>115南港區115臺北市南港區南港里惠民街</td>\n",
       "      <td>臺北市政府都市發展局 局長:王玉芬</td>\n",
       "    </tr>\n",
       "    <tr>\n",
       "      <th>2</th>\n",
       "      <td>2</td>\n",
       "      <td>109建0003號</td>\n",
       "      <td>NaN</td>\n",
       "      <td>2020-03-23</td>\n",
       "      <td>NaT</td>\n",
       "      <td>地上12層，地下4層</td>\n",
       "      <td>16層 33戶</td>\n",
       "      <td>信義區永吉段四小段0105-0000等7筆</td>\n",
       "      <td>110信義區110臺北市信義區富台里忠孝東路五段423巷</td>\n",
       "      <td>僑馥建築經理股份有限公司 負責人：彭慶</td>\n",
       "    </tr>\n",
       "    <tr>\n",
       "      <th>3</th>\n",
       "      <td>3</td>\n",
       "      <td>109建0003號</td>\n",
       "      <td>NaN</td>\n",
       "      <td>2020-03-23</td>\n",
       "      <td>NaT</td>\n",
       "      <td>地上12層，地下4層</td>\n",
       "      <td>16層 33戶</td>\n",
       "      <td>信義區永吉段四小段0105-0000等7筆</td>\n",
       "      <td>110信義區110臺北市信義區富台里忠孝東路五段423巷</td>\n",
       "      <td>僑馥建築經理股份有限公司 負責人：彭慶</td>\n",
       "    </tr>\n",
       "    <tr>\n",
       "      <th>4</th>\n",
       "      <td>4</td>\n",
       "      <td>109建0005號</td>\n",
       "      <td>NaN</td>\n",
       "      <td>2020-12-12</td>\n",
       "      <td>NaT</td>\n",
       "      <td>地上5層，地下1層</td>\n",
       "      <td>6層 1戶</td>\n",
       "      <td>中山區正義段一小段0472-0000等2筆</td>\n",
       "      <td>104中山區104臺北市中山區正守里林森北路67巷</td>\n",
       "      <td>嘉春建設股份有限公司 負責人:江顯方</td>\n",
       "    </tr>\n",
       "  </tbody>\n",
       "</table>\n",
       "</div>"
      ],
      "text/plain": [
       "   Unnamed: 0       建照號碼 使照號碼       開工日期 竣工日期        建築規模        戶數  \\\n",
       "0           0  109建0001號  NaN 2020-10-05  NaT  地上21層，地下6層   27層 77戶   \n",
       "1           1  109建0002號  NaN 2020-10-05  NaT  地上12層，地下3層  15層 122戶   \n",
       "2           2  109建0003號  NaN 2020-03-23  NaT  地上12層，地下4層   16層 33戶   \n",
       "3           3  109建0003號  NaN 2020-03-23  NaT  地上12層，地下4層   16層 33戶   \n",
       "4           4  109建0005號  NaN 2020-12-12  NaT   地上5層，地下1層     6層 1戶   \n",
       "\n",
       "                  建築地點:地號                         建築地點:地址  \\\n",
       "0  中正區河堤段一小段0216-0000等26筆  100中正區100臺北市中正區頂東里里羅斯福路三段68之1號   \n",
       "1      南港區經貿段0065-0000等1筆           115南港區115臺北市南港區南港里惠民街   \n",
       "2   信義區永吉段四小段0105-0000等7筆    110信義區110臺北市信義區富台里忠孝東路五段423巷   \n",
       "3   信義區永吉段四小段0105-0000等7筆    110信義區110臺北市信義區富台里忠孝東路五段423巷   \n",
       "4   中山區正義段一小段0472-0000等2筆       104中山區104臺北市中山區正守里林森北路67巷   \n",
       "\n",
       "                     姓名  \n",
       "0  北城建設開發股份有限公司 負責人：洪春木  \n",
       "1     臺北市政府都市發展局 局長:王玉芬  \n",
       "2   僑馥建築經理股份有限公司 負責人：彭慶  \n",
       "3   僑馥建築經理股份有限公司 負責人：彭慶  \n",
       "4    嘉春建設股份有限公司 負責人:江顯方  "
      ]
     },
     "execution_count": 53,
     "metadata": {},
     "output_type": "execute_result"
    }
   ],
   "source": [
    "# 開工日期轉換\n",
    "merged_data[\"開工日期\"] = column_transfer_to_time(merged_data[\"開工日期\"])\n",
    "merged_data[\"竣工日期\"] = merged_data[\"竣工日期\"].apply(column_transfer_to_time_row)\n",
    "merged_data.head()"
   ]
  },
  {
   "cell_type": "markdown",
   "metadata": {},
   "source": [
    "#### 地址正規化與增加經緯度"
   ]
  },
  {
   "cell_type": "code",
   "execution_count": 54,
   "metadata": {},
   "outputs": [
    {
     "data": {
      "text/html": [
       "<div>\n",
       "<style scoped>\n",
       "    .dataframe tbody tr th:only-of-type {\n",
       "        vertical-align: middle;\n",
       "    }\n",
       "\n",
       "    .dataframe tbody tr th {\n",
       "        vertical-align: top;\n",
       "    }\n",
       "\n",
       "    .dataframe thead th {\n",
       "        text-align: right;\n",
       "    }\n",
       "</style>\n",
       "<table border=\"1\" class=\"dataframe\">\n",
       "  <thead>\n",
       "    <tr style=\"text-align: right;\">\n",
       "      <th></th>\n",
       "      <th>Unnamed: 0</th>\n",
       "      <th>建照號碼</th>\n",
       "      <th>使照號碼</th>\n",
       "      <th>開工日期</th>\n",
       "      <th>竣工日期</th>\n",
       "      <th>建築規模</th>\n",
       "      <th>戶數</th>\n",
       "      <th>建築地點:地號</th>\n",
       "      <th>建築地點:地址</th>\n",
       "      <th>姓名</th>\n",
       "    </tr>\n",
       "  </thead>\n",
       "  <tbody>\n",
       "    <tr>\n",
       "      <th>0</th>\n",
       "      <td>0</td>\n",
       "      <td>109建0001號</td>\n",
       "      <td>NaN</td>\n",
       "      <td>2020-10-05</td>\n",
       "      <td>NaT</td>\n",
       "      <td>地上21層，地下6層</td>\n",
       "      <td>27層 77戶</td>\n",
       "      <td>中正區河堤段一小段0216-0000等26筆</td>\n",
       "      <td>臺北市中正區頂東里里羅斯福路三段68之1號</td>\n",
       "      <td>北城建設開發股份有限公司 負責人：洪春木</td>\n",
       "    </tr>\n",
       "    <tr>\n",
       "      <th>1</th>\n",
       "      <td>1</td>\n",
       "      <td>109建0002號</td>\n",
       "      <td>NaN</td>\n",
       "      <td>2020-10-05</td>\n",
       "      <td>NaT</td>\n",
       "      <td>地上12層，地下3層</td>\n",
       "      <td>15層 122戶</td>\n",
       "      <td>南港區經貿段0065-0000等1筆</td>\n",
       "      <td>臺北市南港區南港里惠民街</td>\n",
       "      <td>臺北市政府都市發展局 局長:王玉芬</td>\n",
       "    </tr>\n",
       "    <tr>\n",
       "      <th>2</th>\n",
       "      <td>2</td>\n",
       "      <td>109建0003號</td>\n",
       "      <td>NaN</td>\n",
       "      <td>2020-03-23</td>\n",
       "      <td>NaT</td>\n",
       "      <td>地上12層，地下4層</td>\n",
       "      <td>16層 33戶</td>\n",
       "      <td>信義區永吉段四小段0105-0000等7筆</td>\n",
       "      <td>臺北市信義區富台里忠孝東路五段423巷</td>\n",
       "      <td>僑馥建築經理股份有限公司 負責人：彭慶</td>\n",
       "    </tr>\n",
       "    <tr>\n",
       "      <th>3</th>\n",
       "      <td>3</td>\n",
       "      <td>109建0003號</td>\n",
       "      <td>NaN</td>\n",
       "      <td>2020-03-23</td>\n",
       "      <td>NaT</td>\n",
       "      <td>地上12層，地下4層</td>\n",
       "      <td>16層 33戶</td>\n",
       "      <td>信義區永吉段四小段0105-0000等7筆</td>\n",
       "      <td>臺北市信義區富台里忠孝東路五段423巷</td>\n",
       "      <td>僑馥建築經理股份有限公司 負責人：彭慶</td>\n",
       "    </tr>\n",
       "    <tr>\n",
       "      <th>4</th>\n",
       "      <td>4</td>\n",
       "      <td>109建0005號</td>\n",
       "      <td>NaN</td>\n",
       "      <td>2020-12-12</td>\n",
       "      <td>NaT</td>\n",
       "      <td>地上5層，地下1層</td>\n",
       "      <td>6層 1戶</td>\n",
       "      <td>中山區正義段一小段0472-0000等2筆</td>\n",
       "      <td>臺北市中山區正守里林森北路67巷</td>\n",
       "      <td>嘉春建設股份有限公司 負責人:江顯方</td>\n",
       "    </tr>\n",
       "  </tbody>\n",
       "</table>\n",
       "</div>"
      ],
      "text/plain": [
       "   Unnamed: 0       建照號碼 使照號碼       開工日期 竣工日期        建築規模        戶數  \\\n",
       "0           0  109建0001號  NaN 2020-10-05  NaT  地上21層，地下6層   27層 77戶   \n",
       "1           1  109建0002號  NaN 2020-10-05  NaT  地上12層，地下3層  15層 122戶   \n",
       "2           2  109建0003號  NaN 2020-03-23  NaT  地上12層，地下4層   16層 33戶   \n",
       "3           3  109建0003號  NaN 2020-03-23  NaT  地上12層，地下4層   16層 33戶   \n",
       "4           4  109建0005號  NaN 2020-12-12  NaT   地上5層，地下1層     6層 1戶   \n",
       "\n",
       "                  建築地點:地號                建築地點:地址                    姓名  \n",
       "0  中正區河堤段一小段0216-0000等26筆  臺北市中正區頂東里里羅斯福路三段68之1號  北城建設開發股份有限公司 負責人：洪春木  \n",
       "1      南港區經貿段0065-0000等1筆           臺北市南港區南港里惠民街     臺北市政府都市發展局 局長:王玉芬  \n",
       "2   信義區永吉段四小段0105-0000等7筆    臺北市信義區富台里忠孝東路五段423巷   僑馥建築經理股份有限公司 負責人：彭慶  \n",
       "3   信義區永吉段四小段0105-0000等7筆    臺北市信義區富台里忠孝東路五段423巷   僑馥建築經理股份有限公司 負責人：彭慶  \n",
       "4   中山區正義段一小段0472-0000等2筆       臺北市中山區正守里林森北路67巷    嘉春建設股份有限公司 負責人:江顯方  "
      ]
     },
     "execution_count": 54,
     "metadata": {},
     "output_type": "execute_result"
    }
   ],
   "source": [
    "# 由於地址格式固定，故直接以字串長度取後方地址\n",
    "merged_data[\"建築地點:地址\"] = merged_data[\"建築地點:地址\"].str[9:]\n",
    "merged_data.head()"
   ]
  },
  {
   "cell_type": "code",
   "execution_count": 55,
   "metadata": {},
   "outputs": [
    {
     "data": {
      "text/html": [
       "<div>\n",
       "<style scoped>\n",
       "    .dataframe tbody tr th:only-of-type {\n",
       "        vertical-align: middle;\n",
       "    }\n",
       "\n",
       "    .dataframe tbody tr th {\n",
       "        vertical-align: top;\n",
       "    }\n",
       "\n",
       "    .dataframe thead th {\n",
       "        text-align: right;\n",
       "    }\n",
       "</style>\n",
       "<table border=\"1\" class=\"dataframe\">\n",
       "  <thead>\n",
       "    <tr style=\"text-align: right;\">\n",
       "      <th></th>\n",
       "      <th>Unnamed: 0</th>\n",
       "      <th>建照號碼</th>\n",
       "      <th>使照號碼</th>\n",
       "      <th>開工日期</th>\n",
       "      <th>竣工日期</th>\n",
       "      <th>建築規模</th>\n",
       "      <th>戶數</th>\n",
       "      <th>建築地點:地號</th>\n",
       "      <th>建築地點:地址</th>\n",
       "      <th>姓名</th>\n",
       "    </tr>\n",
       "  </thead>\n",
       "  <tbody>\n",
       "    <tr>\n",
       "      <th>1150</th>\n",
       "      <td>0</td>\n",
       "      <td>106建0001號</td>\n",
       "      <td>109使0023號</td>\n",
       "      <td>2017-10-03</td>\n",
       "      <td>2019-09-19</td>\n",
       "      <td>地上15層，地下3層</td>\n",
       "      <td>18層 52戶</td>\n",
       "      <td>萬華區龍山段一小段0698-0000等7筆</td>\n",
       "      <td>臺北市萬華區青山里環河南路2段</td>\n",
       "      <td>中華建築經理股份有限公司 負責人:鍾榮吉</td>\n",
       "    </tr>\n",
       "    <tr>\n",
       "      <th>1151</th>\n",
       "      <td>1</td>\n",
       "      <td>106建0001號</td>\n",
       "      <td>109使0023號</td>\n",
       "      <td>2017-10-03</td>\n",
       "      <td>2019-09-19</td>\n",
       "      <td>地上15層，地下3層</td>\n",
       "      <td>18層 52戶</td>\n",
       "      <td>萬華區龍山段一小段0698-0000等7筆</td>\n",
       "      <td>臺北市萬華區青山里環河南路2段</td>\n",
       "      <td>中華建築經理股份有限公司 負責人:鍾榮吉</td>\n",
       "    </tr>\n",
       "    <tr>\n",
       "      <th>1152</th>\n",
       "      <td>2</td>\n",
       "      <td>106建0003號</td>\n",
       "      <td>109使0075號</td>\n",
       "      <td>2017-10-04</td>\n",
       "      <td>2020-01-06</td>\n",
       "      <td>地上12層，地下3層</td>\n",
       "      <td>15層 73戶</td>\n",
       "      <td>中山區中山段三小段0332-0000等9筆</td>\n",
       "      <td>臺北市中山區中山里中山北路二段65巷</td>\n",
       "      <td>僑馥建築經理股份有限公司</td>\n",
       "    </tr>\n",
       "    <tr>\n",
       "      <th>1153</th>\n",
       "      <td>3</td>\n",
       "      <td>106建0003號</td>\n",
       "      <td>109使0075號</td>\n",
       "      <td>2017-10-04</td>\n",
       "      <td>2020-01-06</td>\n",
       "      <td>地上12層，地下3層</td>\n",
       "      <td>15層 73戶</td>\n",
       "      <td>中山區中山段三小段0332-0000等9筆</td>\n",
       "      <td>臺北市中山區中山里中山北路二段65巷</td>\n",
       "      <td>僑馥建築經理股份有限公司</td>\n",
       "    </tr>\n",
       "    <tr>\n",
       "      <th>1154</th>\n",
       "      <td>4</td>\n",
       "      <td>106建0005號</td>\n",
       "      <td>NaN</td>\n",
       "      <td>2017-10-09</td>\n",
       "      <td>NaT</td>\n",
       "      <td>地上21層，地下3層</td>\n",
       "      <td>24層 139戶</td>\n",
       "      <td>文山區萬芳段二小段0182-0001等33筆</td>\n",
       "      <td>臺北市文山區萬芳里萬芳路</td>\n",
       "      <td>潤隆建設股份有限公司 負責人:蔡聰賓</td>\n",
       "    </tr>\n",
       "  </tbody>\n",
       "</table>\n",
       "</div>"
      ],
      "text/plain": [
       "      Unnamed: 0       建照號碼       使照號碼       開工日期       竣工日期        建築規模  \\\n",
       "1150           0  106建0001號  109使0023號 2017-10-03 2019-09-19  地上15層，地下3層   \n",
       "1151           1  106建0001號  109使0023號 2017-10-03 2019-09-19  地上15層，地下3層   \n",
       "1152           2  106建0003號  109使0075號 2017-10-04 2020-01-06  地上12層，地下3層   \n",
       "1153           3  106建0003號  109使0075號 2017-10-04 2020-01-06  地上12層，地下3層   \n",
       "1154           4  106建0005號        NaN 2017-10-09        NaT  地上21層，地下3層   \n",
       "\n",
       "            戶數                 建築地點:地號             建築地點:地址  \\\n",
       "1150   18層 52戶   萬華區龍山段一小段0698-0000等7筆     臺北市萬華區青山里環河南路2段   \n",
       "1151   18層 52戶   萬華區龍山段一小段0698-0000等7筆     臺北市萬華區青山里環河南路2段   \n",
       "1152   15層 73戶   中山區中山段三小段0332-0000等9筆  臺北市中山區中山里中山北路二段65巷   \n",
       "1153   15層 73戶   中山區中山段三小段0332-0000等9筆  臺北市中山區中山里中山北路二段65巷   \n",
       "1154  24層 139戶  文山區萬芳段二小段0182-0001等33筆        臺北市文山區萬芳里萬芳路   \n",
       "\n",
       "                        姓名  \n",
       "1150  中華建築經理股份有限公司 負責人:鍾榮吉  \n",
       "1151  中華建築經理股份有限公司 負責人:鍾榮吉  \n",
       "1152          僑馥建築經理股份有限公司  \n",
       "1153          僑馥建築經理股份有限公司  \n",
       "1154    潤隆建設股份有限公司 負責人:蔡聰賓  "
      ]
     },
     "execution_count": 55,
     "metadata": {},
     "output_type": "execute_result"
    }
   ],
   "source": [
    "# 重新依照日期排序\n",
    "merged_data = merged_data.sort_values(\"建照號碼\")\n",
    "merged_data.head()"
   ]
  },
  {
   "cell_type": "code",
   "execution_count": 56,
   "metadata": {},
   "outputs": [
    {
     "data": {
      "text/plain": [
       "Unnamed: 0       0\n",
       "建照號碼             0\n",
       "使照號碼          1170\n",
       "開工日期             0\n",
       "竣工日期          1170\n",
       "建築規模             0\n",
       "戶數               0\n",
       "建築地點:地號         39\n",
       "建築地點:地址          0\n",
       "姓名              19\n",
       "dtype: int64"
      ]
     },
     "execution_count": 56,
     "metadata": {},
     "output_type": "execute_result"
    }
   ],
   "source": [
    "merged_data.isna().sum()"
   ]
  },
  {
   "cell_type": "code",
   "execution_count": 57,
   "metadata": {},
   "outputs": [],
   "source": [
    "# geocoder 功能\n",
    "def get_lat_long(address):\n",
    "    location = geocoder.arcgis(address)\n",
    "    \n",
    "    if location is not None and location.ok:\n",
    "        lat, long = location.latlng\n",
    "        return lat, long\n",
    "    else:\n",
    "        # 在無法找到經緯度時，返回一個預設值或引發異常\n",
    "        return None, None"
   ]
  },
  {
   "cell_type": "code",
   "execution_count": 62,
   "metadata": {},
   "outputs": [
    {
     "name": "stderr",
     "output_type": "stream",
     "text": [
      "Adding WGS84 Coordinates:   0%|          | 0/1713 [00:00<?, ?it/s]Status code Unknown from https://geocode.arcgis.com/arcgis/rest/services/World/GeocodeServer/find: ERROR - HTTPSConnectionPool(host='geocode.arcgis.com', port=443): Max retries exceeded with url: /arcgis/rest/services/World/GeocodeServer/find?f=json&text=%E8%87%BA%E5%8C%97%E5%B8%82%E8%90%AC%E8%8F%AF%E5%8D%80%E9%9D%92%E5%B1%B1%E9%87%8C%E7%92%B0%E6%B2%B3%E5%8D%97%E8%B7%AF2%E6%AE%B5&maxLocations=1 (Caused by NewConnectionError('<urllib3.connection.HTTPSConnection object at 0x000002CEBA6F5D60>: Failed to establish a new connection: [Errno 11002] getaddrinfo failed'))\n",
      "Adding WGS84 Coordinates:  27%|██▋       | 456/1713 [10:22<28:35,  1.36s/it] Status code Unknown from https://geocode.arcgis.com/arcgis/rest/services/World/GeocodeServer/find: ERROR - HTTPSConnectionPool(host='geocode.arcgis.com', port=443): Max retries exceeded with url: /arcgis/rest/services/World/GeocodeServer/find?f=json&text=%E8%87%BA%E5%8C%97%E5%B8%82%E4%BF%A1%E7%BE%A9%E5%8D%80%E4%BA%94%E5%85%A8%E9%87%8C%E6%B0%B8%E5%90%89%E8%B7%AF&maxLocations=1 (Caused by NewConnectionError('<urllib3.connection.HTTPSConnection object at 0x000002CEBCF03490>: Failed to establish a new connection: [Errno 11002] getaddrinfo failed'))\n",
      "Adding WGS84 Coordinates:  27%|██▋       | 457/1713 [10:33<1:29:29,  4.28s/it]Status code Unknown from https://geocode.arcgis.com/arcgis/rest/services/World/GeocodeServer/find: ERROR - HTTPSConnectionPool(host='geocode.arcgis.com', port=443): Max retries exceeded with url: /arcgis/rest/services/World/GeocodeServer/find?f=json&text=%E8%87%BA%E5%8C%97%E5%B8%82%E6%9D%BE%E5%B1%B1%E5%8D%80%E5%BE%A9%E5%8B%A2%E9%87%8C%E5%8D%97%E4%BA%AC%E6%9D%B1%E8%B7%AF%E5%9B%9B%E6%AE%B5120%E5%B7%B7&maxLocations=1 (Caused by NewConnectionError('<urllib3.connection.HTTPSConnection object at 0x000002CEBCF03580>: Failed to establish a new connection: [Errno 11002] getaddrinfo failed'))\n",
      "Adding WGS84 Coordinates: 100%|██████████| 1713/1713 [38:44<00:00,  1.36s/it] \n"
     ]
    }
   ],
   "source": [
    "# 獲取地址總數\n",
    "total_addresses = len(merged_data[\"建築地點:地址\"])\n",
    "\n",
    "# 使用tqdm顯示進度\n",
    "tqdm.pandas(desc=\"Adding WGS84 Coordinates\", total=total_addresses)\n",
    "\n",
    "# 新增WGS84經緯度\n",
    "merged_data[\"lat_WGS84\"], merged_data[\"lng_WGS84\"] = zip(*merged_data[\"建築地點:地址\"].progress_apply(get_lat_long))\n"
   ]
  },
  {
   "cell_type": "code",
   "execution_count": 63,
   "metadata": {},
   "outputs": [
    {
     "data": {
      "text/plain": [
       "Unnamed: 0       0\n",
       "建照號碼             0\n",
       "使照號碼          1170\n",
       "開工日期             0\n",
       "竣工日期          1170\n",
       "建築規模             0\n",
       "戶數               0\n",
       "建築地點:地號         39\n",
       "建築地點:地址          0\n",
       "姓名              19\n",
       "lat_WGS84       37\n",
       "lng_WGS84       37\n",
       "dtype: int64"
      ]
     },
     "execution_count": 63,
     "metadata": {},
     "output_type": "execute_result"
    }
   ],
   "source": [
    "merged_data.isna().sum()"
   ]
  },
  {
   "cell_type": "code",
   "execution_count": 67,
   "metadata": {},
   "outputs": [
    {
     "data": {
      "text/html": [
       "<div>\n",
       "<style scoped>\n",
       "    .dataframe tbody tr th:only-of-type {\n",
       "        vertical-align: middle;\n",
       "    }\n",
       "\n",
       "    .dataframe tbody tr th {\n",
       "        vertical-align: top;\n",
       "    }\n",
       "\n",
       "    .dataframe thead th {\n",
       "        text-align: right;\n",
       "    }\n",
       "</style>\n",
       "<table border=\"1\" class=\"dataframe\">\n",
       "  <thead>\n",
       "    <tr style=\"text-align: right;\">\n",
       "      <th></th>\n",
       "      <th>建照號碼</th>\n",
       "      <th>使照號碼</th>\n",
       "      <th>開工日期</th>\n",
       "      <th>竣工日期</th>\n",
       "      <th>建築規模</th>\n",
       "      <th>戶數</th>\n",
       "      <th>建築地點:地號</th>\n",
       "      <th>建築地點:地址</th>\n",
       "      <th>姓名</th>\n",
       "      <th>lat_WGS84</th>\n",
       "      <th>lng_WGS84</th>\n",
       "    </tr>\n",
       "  </thead>\n",
       "  <tbody>\n",
       "    <tr>\n",
       "      <th>1150</th>\n",
       "      <td>106建0001號</td>\n",
       "      <td>109使0023號</td>\n",
       "      <td>2017-10-03</td>\n",
       "      <td>2019-09-19</td>\n",
       "      <td>地上15層，地下3層</td>\n",
       "      <td>18層 52戶</td>\n",
       "      <td>萬華區龍山段一小段0698-0000等7筆</td>\n",
       "      <td>臺北市萬華區青山里環河南路2段</td>\n",
       "      <td>中華建築經理股份有限公司 負責人:鍾榮吉</td>\n",
       "      <td>NaN</td>\n",
       "      <td>NaN</td>\n",
       "    </tr>\n",
       "    <tr>\n",
       "      <th>1151</th>\n",
       "      <td>106建0001號</td>\n",
       "      <td>109使0023號</td>\n",
       "      <td>2017-10-03</td>\n",
       "      <td>2019-09-19</td>\n",
       "      <td>地上15層，地下3層</td>\n",
       "      <td>18層 52戶</td>\n",
       "      <td>萬華區龍山段一小段0698-0000等7筆</td>\n",
       "      <td>臺北市萬華區青山里環河南路2段</td>\n",
       "      <td>中華建築經理股份有限公司 負責人:鍾榮吉</td>\n",
       "      <td>25.037655</td>\n",
       "      <td>121.496415</td>\n",
       "    </tr>\n",
       "  </tbody>\n",
       "</table>\n",
       "</div>"
      ],
      "text/plain": [
       "           建照號碼       使照號碼       開工日期       竣工日期        建築規模       戶數  \\\n",
       "1150  106建0001號  109使0023號 2017-10-03 2019-09-19  地上15層，地下3層  18層 52戶   \n",
       "1151  106建0001號  109使0023號 2017-10-03 2019-09-19  地上15層，地下3層  18層 52戶   \n",
       "\n",
       "                    建築地點:地號          建築地點:地址                    姓名  lat_WGS84  \\\n",
       "1150  萬華區龍山段一小段0698-0000等7筆  臺北市萬華區青山里環河南路2段  中華建築經理股份有限公司 負責人:鍾榮吉        NaN   \n",
       "1151  萬華區龍山段一小段0698-0000等7筆  臺北市萬華區青山里環河南路2段  中華建築經理股份有限公司 負責人:鍾榮吉  25.037655   \n",
       "\n",
       "       lng_WGS84  \n",
       "1150         NaN  \n",
       "1151  121.496415  "
      ]
     },
     "execution_count": 67,
     "metadata": {},
     "output_type": "execute_result"
    }
   ],
   "source": [
    "merged_data.head(2)"
   ]
  },
  {
   "cell_type": "code",
   "execution_count": 66,
   "metadata": {},
   "outputs": [
    {
     "ename": "KeyError",
     "evalue": "\"['Unnamed: 0'] not found in axis\"",
     "output_type": "error",
     "traceback": [
      "\u001b[1;31m---------------------------------------------------------------------------\u001b[0m",
      "\u001b[1;31mKeyError\u001b[0m                                  Traceback (most recent call last)",
      "Cell \u001b[1;32mIn[66], line 2\u001b[0m\n\u001b[0;32m      1\u001b[0m \u001b[38;5;66;03m# 去除不需要的unnamed欄位\u001b[39;00m\n\u001b[1;32m----> 2\u001b[0m merged_data \u001b[38;5;241m=\u001b[39m \u001b[43mmerged_data\u001b[49m\u001b[38;5;241;43m.\u001b[39;49m\u001b[43mdrop\u001b[49m\u001b[43m(\u001b[49m\u001b[43mcolumns\u001b[49m\u001b[38;5;241;43m=\u001b[39;49m\u001b[38;5;124;43m\"\u001b[39;49m\u001b[38;5;124;43mUnnamed: 0\u001b[39;49m\u001b[38;5;124;43m\"\u001b[39;49m\u001b[43m)\u001b[49m\n\u001b[0;32m      3\u001b[0m merged_data\u001b[38;5;241m.\u001b[39mhead()\n",
      "File \u001b[1;32mc:\\Users\\doit\\anaconda3\\envs\\VSenv\\lib\\site-packages\\pandas\\util\\_decorators.py:331\u001b[0m, in \u001b[0;36mdeprecate_nonkeyword_arguments.<locals>.decorate.<locals>.wrapper\u001b[1;34m(*args, **kwargs)\u001b[0m\n\u001b[0;32m    325\u001b[0m \u001b[38;5;28;01mif\u001b[39;00m \u001b[38;5;28mlen\u001b[39m(args) \u001b[38;5;241m>\u001b[39m num_allow_args:\n\u001b[0;32m    326\u001b[0m     warnings\u001b[38;5;241m.\u001b[39mwarn(\n\u001b[0;32m    327\u001b[0m         msg\u001b[38;5;241m.\u001b[39mformat(arguments\u001b[38;5;241m=\u001b[39m_format_argument_list(allow_args)),\n\u001b[0;32m    328\u001b[0m         \u001b[38;5;167;01mFutureWarning\u001b[39;00m,\n\u001b[0;32m    329\u001b[0m         stacklevel\u001b[38;5;241m=\u001b[39mfind_stack_level(),\n\u001b[0;32m    330\u001b[0m     )\n\u001b[1;32m--> 331\u001b[0m \u001b[38;5;28;01mreturn\u001b[39;00m \u001b[43mfunc\u001b[49m\u001b[43m(\u001b[49m\u001b[38;5;241;43m*\u001b[39;49m\u001b[43margs\u001b[49m\u001b[43m,\u001b[49m\u001b[43m \u001b[49m\u001b[38;5;241;43m*\u001b[39;49m\u001b[38;5;241;43m*\u001b[39;49m\u001b[43mkwargs\u001b[49m\u001b[43m)\u001b[49m\n",
      "File \u001b[1;32mc:\\Users\\doit\\anaconda3\\envs\\VSenv\\lib\\site-packages\\pandas\\core\\frame.py:5399\u001b[0m, in \u001b[0;36mDataFrame.drop\u001b[1;34m(self, labels, axis, index, columns, level, inplace, errors)\u001b[0m\n\u001b[0;32m   5251\u001b[0m \u001b[38;5;129m@deprecate_nonkeyword_arguments\u001b[39m(version\u001b[38;5;241m=\u001b[39m\u001b[38;5;28;01mNone\u001b[39;00m, allowed_args\u001b[38;5;241m=\u001b[39m[\u001b[38;5;124m\"\u001b[39m\u001b[38;5;124mself\u001b[39m\u001b[38;5;124m\"\u001b[39m, \u001b[38;5;124m\"\u001b[39m\u001b[38;5;124mlabels\u001b[39m\u001b[38;5;124m\"\u001b[39m])\n\u001b[0;32m   5252\u001b[0m \u001b[38;5;28;01mdef\u001b[39;00m \u001b[38;5;21mdrop\u001b[39m(  \u001b[38;5;66;03m# type: ignore[override]\u001b[39;00m\n\u001b[0;32m   5253\u001b[0m     \u001b[38;5;28mself\u001b[39m,\n\u001b[1;32m   (...)\u001b[0m\n\u001b[0;32m   5260\u001b[0m     errors: IgnoreRaise \u001b[38;5;241m=\u001b[39m \u001b[38;5;124m\"\u001b[39m\u001b[38;5;124mraise\u001b[39m\u001b[38;5;124m\"\u001b[39m,\n\u001b[0;32m   5261\u001b[0m ) \u001b[38;5;241m-\u001b[39m\u001b[38;5;241m>\u001b[39m DataFrame \u001b[38;5;241m|\u001b[39m \u001b[38;5;28;01mNone\u001b[39;00m:\n\u001b[0;32m   5262\u001b[0m \u001b[38;5;250m    \u001b[39m\u001b[38;5;124;03m\"\"\"\u001b[39;00m\n\u001b[0;32m   5263\u001b[0m \u001b[38;5;124;03m    Drop specified labels from rows or columns.\u001b[39;00m\n\u001b[0;32m   5264\u001b[0m \n\u001b[1;32m   (...)\u001b[0m\n\u001b[0;32m   5397\u001b[0m \u001b[38;5;124;03m            weight  1.0     0.8\u001b[39;00m\n\u001b[0;32m   5398\u001b[0m \u001b[38;5;124;03m    \"\"\"\u001b[39;00m\n\u001b[1;32m-> 5399\u001b[0m     \u001b[38;5;28;01mreturn\u001b[39;00m \u001b[38;5;28;43msuper\u001b[39;49m\u001b[43m(\u001b[49m\u001b[43m)\u001b[49m\u001b[38;5;241;43m.\u001b[39;49m\u001b[43mdrop\u001b[49m\u001b[43m(\u001b[49m\n\u001b[0;32m   5400\u001b[0m \u001b[43m        \u001b[49m\u001b[43mlabels\u001b[49m\u001b[38;5;241;43m=\u001b[39;49m\u001b[43mlabels\u001b[49m\u001b[43m,\u001b[49m\n\u001b[0;32m   5401\u001b[0m \u001b[43m        \u001b[49m\u001b[43maxis\u001b[49m\u001b[38;5;241;43m=\u001b[39;49m\u001b[43maxis\u001b[49m\u001b[43m,\u001b[49m\n\u001b[0;32m   5402\u001b[0m \u001b[43m        \u001b[49m\u001b[43mindex\u001b[49m\u001b[38;5;241;43m=\u001b[39;49m\u001b[43mindex\u001b[49m\u001b[43m,\u001b[49m\n\u001b[0;32m   5403\u001b[0m \u001b[43m        \u001b[49m\u001b[43mcolumns\u001b[49m\u001b[38;5;241;43m=\u001b[39;49m\u001b[43mcolumns\u001b[49m\u001b[43m,\u001b[49m\n\u001b[0;32m   5404\u001b[0m \u001b[43m        \u001b[49m\u001b[43mlevel\u001b[49m\u001b[38;5;241;43m=\u001b[39;49m\u001b[43mlevel\u001b[49m\u001b[43m,\u001b[49m\n\u001b[0;32m   5405\u001b[0m \u001b[43m        \u001b[49m\u001b[43minplace\u001b[49m\u001b[38;5;241;43m=\u001b[39;49m\u001b[43minplace\u001b[49m\u001b[43m,\u001b[49m\n\u001b[0;32m   5406\u001b[0m \u001b[43m        \u001b[49m\u001b[43merrors\u001b[49m\u001b[38;5;241;43m=\u001b[39;49m\u001b[43merrors\u001b[49m\u001b[43m,\u001b[49m\n\u001b[0;32m   5407\u001b[0m \u001b[43m    \u001b[49m\u001b[43m)\u001b[49m\n",
      "File \u001b[1;32mc:\\Users\\doit\\anaconda3\\envs\\VSenv\\lib\\site-packages\\pandas\\util\\_decorators.py:331\u001b[0m, in \u001b[0;36mdeprecate_nonkeyword_arguments.<locals>.decorate.<locals>.wrapper\u001b[1;34m(*args, **kwargs)\u001b[0m\n\u001b[0;32m    325\u001b[0m \u001b[38;5;28;01mif\u001b[39;00m \u001b[38;5;28mlen\u001b[39m(args) \u001b[38;5;241m>\u001b[39m num_allow_args:\n\u001b[0;32m    326\u001b[0m     warnings\u001b[38;5;241m.\u001b[39mwarn(\n\u001b[0;32m    327\u001b[0m         msg\u001b[38;5;241m.\u001b[39mformat(arguments\u001b[38;5;241m=\u001b[39m_format_argument_list(allow_args)),\n\u001b[0;32m    328\u001b[0m         \u001b[38;5;167;01mFutureWarning\u001b[39;00m,\n\u001b[0;32m    329\u001b[0m         stacklevel\u001b[38;5;241m=\u001b[39mfind_stack_level(),\n\u001b[0;32m    330\u001b[0m     )\n\u001b[1;32m--> 331\u001b[0m \u001b[38;5;28;01mreturn\u001b[39;00m \u001b[43mfunc\u001b[49m\u001b[43m(\u001b[49m\u001b[38;5;241;43m*\u001b[39;49m\u001b[43margs\u001b[49m\u001b[43m,\u001b[49m\u001b[43m \u001b[49m\u001b[38;5;241;43m*\u001b[39;49m\u001b[38;5;241;43m*\u001b[39;49m\u001b[43mkwargs\u001b[49m\u001b[43m)\u001b[49m\n",
      "File \u001b[1;32mc:\\Users\\doit\\anaconda3\\envs\\VSenv\\lib\\site-packages\\pandas\\core\\generic.py:4505\u001b[0m, in \u001b[0;36mNDFrame.drop\u001b[1;34m(self, labels, axis, index, columns, level, inplace, errors)\u001b[0m\n\u001b[0;32m   4503\u001b[0m \u001b[38;5;28;01mfor\u001b[39;00m axis, labels \u001b[38;5;129;01min\u001b[39;00m axes\u001b[38;5;241m.\u001b[39mitems():\n\u001b[0;32m   4504\u001b[0m     \u001b[38;5;28;01mif\u001b[39;00m labels \u001b[38;5;129;01mis\u001b[39;00m \u001b[38;5;129;01mnot\u001b[39;00m \u001b[38;5;28;01mNone\u001b[39;00m:\n\u001b[1;32m-> 4505\u001b[0m         obj \u001b[38;5;241m=\u001b[39m \u001b[43mobj\u001b[49m\u001b[38;5;241;43m.\u001b[39;49m\u001b[43m_drop_axis\u001b[49m\u001b[43m(\u001b[49m\u001b[43mlabels\u001b[49m\u001b[43m,\u001b[49m\u001b[43m \u001b[49m\u001b[43maxis\u001b[49m\u001b[43m,\u001b[49m\u001b[43m \u001b[49m\u001b[43mlevel\u001b[49m\u001b[38;5;241;43m=\u001b[39;49m\u001b[43mlevel\u001b[49m\u001b[43m,\u001b[49m\u001b[43m \u001b[49m\u001b[43merrors\u001b[49m\u001b[38;5;241;43m=\u001b[39;49m\u001b[43merrors\u001b[49m\u001b[43m)\u001b[49m\n\u001b[0;32m   4507\u001b[0m \u001b[38;5;28;01mif\u001b[39;00m inplace:\n\u001b[0;32m   4508\u001b[0m     \u001b[38;5;28mself\u001b[39m\u001b[38;5;241m.\u001b[39m_update_inplace(obj)\n",
      "File \u001b[1;32mc:\\Users\\doit\\anaconda3\\envs\\VSenv\\lib\\site-packages\\pandas\\core\\generic.py:4546\u001b[0m, in \u001b[0;36mNDFrame._drop_axis\u001b[1;34m(self, labels, axis, level, errors, only_slice)\u001b[0m\n\u001b[0;32m   4544\u001b[0m         new_axis \u001b[38;5;241m=\u001b[39m axis\u001b[38;5;241m.\u001b[39mdrop(labels, level\u001b[38;5;241m=\u001b[39mlevel, errors\u001b[38;5;241m=\u001b[39merrors)\n\u001b[0;32m   4545\u001b[0m     \u001b[38;5;28;01melse\u001b[39;00m:\n\u001b[1;32m-> 4546\u001b[0m         new_axis \u001b[38;5;241m=\u001b[39m \u001b[43maxis\u001b[49m\u001b[38;5;241;43m.\u001b[39;49m\u001b[43mdrop\u001b[49m\u001b[43m(\u001b[49m\u001b[43mlabels\u001b[49m\u001b[43m,\u001b[49m\u001b[43m \u001b[49m\u001b[43merrors\u001b[49m\u001b[38;5;241;43m=\u001b[39;49m\u001b[43merrors\u001b[49m\u001b[43m)\u001b[49m\n\u001b[0;32m   4547\u001b[0m     indexer \u001b[38;5;241m=\u001b[39m axis\u001b[38;5;241m.\u001b[39mget_indexer(new_axis)\n\u001b[0;32m   4549\u001b[0m \u001b[38;5;66;03m# Case for non-unique axis\u001b[39;00m\n\u001b[0;32m   4550\u001b[0m \u001b[38;5;28;01melse\u001b[39;00m:\n",
      "File \u001b[1;32mc:\\Users\\doit\\anaconda3\\envs\\VSenv\\lib\\site-packages\\pandas\\core\\indexes\\base.py:6934\u001b[0m, in \u001b[0;36mIndex.drop\u001b[1;34m(self, labels, errors)\u001b[0m\n\u001b[0;32m   6932\u001b[0m \u001b[38;5;28;01mif\u001b[39;00m mask\u001b[38;5;241m.\u001b[39many():\n\u001b[0;32m   6933\u001b[0m     \u001b[38;5;28;01mif\u001b[39;00m errors \u001b[38;5;241m!=\u001b[39m \u001b[38;5;124m\"\u001b[39m\u001b[38;5;124mignore\u001b[39m\u001b[38;5;124m\"\u001b[39m:\n\u001b[1;32m-> 6934\u001b[0m         \u001b[38;5;28;01mraise\u001b[39;00m \u001b[38;5;167;01mKeyError\u001b[39;00m(\u001b[38;5;124mf\u001b[39m\u001b[38;5;124m\"\u001b[39m\u001b[38;5;132;01m{\u001b[39;00m\u001b[38;5;28mlist\u001b[39m(labels[mask])\u001b[38;5;132;01m}\u001b[39;00m\u001b[38;5;124m not found in axis\u001b[39m\u001b[38;5;124m\"\u001b[39m)\n\u001b[0;32m   6935\u001b[0m     indexer \u001b[38;5;241m=\u001b[39m indexer[\u001b[38;5;241m~\u001b[39mmask]\n\u001b[0;32m   6936\u001b[0m \u001b[38;5;28;01mreturn\u001b[39;00m \u001b[38;5;28mself\u001b[39m\u001b[38;5;241m.\u001b[39mdelete(indexer)\n",
      "\u001b[1;31mKeyError\u001b[0m: \"['Unnamed: 0'] not found in axis\""
     ]
    }
   ],
   "source": [
    "# 去除不需要的unnamed欄位\n",
    "merged_data = merged_data.drop(columns=\"Unnamed: 0\")\n",
    "merged_data.head()"
   ]
  },
  {
   "cell_type": "code",
   "execution_count": 69,
   "metadata": {},
   "outputs": [
    {
     "name": "stdout",
     "output_type": "stream",
     "text": [
      "done\n"
     ]
    }
   ],
   "source": [
    "# 儲存成excel與CSV\n",
    "merged_data.to_csv(r\"D:\\Chu's Document!\\02 Project\\06 道路塌陷防治專案(天坑)\\03 Data\\Processed\\106-112建照.csv\")\n",
    "merged_data.to_excel(r\"D:\\Chu's Document!\\02 Project\\06 道路塌陷防治專案(天坑)\\03 Data\\Processed\\106-112建照.xlsx\")\n",
    "print(\"done\")"
   ]
  }
 ],
 "metadata": {
  "kernelspec": {
   "display_name": "VSenv",
   "language": "python",
   "name": "python3"
  },
  "language_info": {
   "codemirror_mode": {
    "name": "ipython",
    "version": 3
   },
   "file_extension": ".py",
   "mimetype": "text/x-python",
   "name": "python",
   "nbconvert_exporter": "python",
   "pygments_lexer": "ipython3",
   "version": "3.8.12"
  }
 },
 "nbformat": 4,
 "nbformat_minor": 2
}
