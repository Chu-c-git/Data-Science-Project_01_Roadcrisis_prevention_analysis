{
 "cells": [
  {
   "cell_type": "code",
   "execution_count": 1,
   "metadata": {},
   "outputs": [],
   "source": [
    "import pandas as pd\n",
    "import geopandas as gpd\n",
    "from geopandas.tools import sjoin\n",
    "from shapely.geometry import Point, Polygon\n",
    "from shapely import LineString\n",
    "from shapely.wkt import loads\n",
    "from datetime import datetime, timedelta\n",
    "from keplergl import KeplerGl\n",
    "from pyproj import Proj\n",
    "import pyproj\n",
    "from folium import Choropleth, Circle, Marker\n",
    "from folium.plugins import HeatMap, MarkerCluster\n",
    "from tqdm import tqdm\n",
    "import time\n",
    "import seaborn as sns\n",
    "import matplotlib.pyplot as plt\n",
    "from matplotlib.patches import Polygon\n",
    "import dask_geopandas as dgpd\n",
    "import dask.dataframe as dd\n",
    "from dask.diagnostics import ProgressBar\n",
    "import glob\n",
    "from sklearn.preprocessing import OrdinalEncoder, StandardScaler\n",
    "from sklearn.model_selection import train_test_split\n",
    "from sklearn.metrics import f1_score\n",
    "from xgboost import XGBClassifier, DMatrix, predict_proba\n",
    "import xgboost as xgb\n",
    "from sklearn.metrics import (mean_squared_error, accuracy_score, confusion_matrix, \n",
    "                             classification_report, f1_score, roc_auc_score, roc_curve,\n",
    "                             recall_score, precision_score\n",
    ")\n",
    "import lightgbm as lgb\n",
    "import seaborn as sns\n",
    "import numpy as np\n",
    "import os\n",
    "import optuna\n",
    "import pickle\n",
    "import gzip"
   ]
  },
  {
   "cell_type": "code",
   "execution_count": 2,
   "metadata": {},
   "outputs": [],
   "source": [
    "from dask.distributed import Client\n",
    "client = Client()  # start distributed scheduler locally."
   ]
  },
  {
   "cell_type": "markdown",
   "metadata": {},
   "source": [
    "### Note\n",
    "1. Train不能看到Test資料\n",
    "2. 先測試booster哪個比較準，再往下算\n",
    "3. 參數可再多增加多算"
   ]
  },
  {
   "cell_type": "code",
   "execution_count": 17,
   "metadata": {},
   "outputs": [],
   "source": [
    "def plot_confusion_matrix(actual_val, pred_val, title=None):\n",
    "    confusion_matrix = pd.crosstab(actual_val, pred_val,\n",
    "                                   rownames=['Actual'],\n",
    "                                   colnames=['Predicted'])\n",
    "    \n",
    "    plot = sns.heatmap(confusion_matrix, annot=True, fmt=',.0f')\n",
    "    \n",
    "    if title is None:\n",
    "        pass\n",
    "    else:\n",
    "        plot.set_title(title)\n",
    "        \n",
    "    # plt.show()\n",
    "\n",
    "def plot_roc_curve(model, X_test, y_test):\n",
    "    \"\"\"\n",
    "    繪製模型的 ROC 曲線並計算 ROC AUC 分數。\n",
    "\n",
    "    Parameters:\n",
    "    - model: 已經訓練好的分類模型，例如 XGBoost。\n",
    "    - X_test: 測試集的特徵。\n",
    "    - y_test: 測試集的目標變數。\n",
    "\n",
    "    Returns:\n",
    "    - None\n",
    "    \"\"\"\n",
    "    # 使用模型預測測試集概率\n",
    "    y_proba = model.predict_proba(X_test)[:, 1]\n",
    "\n",
    "    # 計算 ROC 曲線的指標\n",
    "    fpr, tpr, thresholds = roc_curve(y_test, y_proba)\n",
    "\n",
    "    # 計算 AUC 分數\n",
    "    roc_auc = roc_auc_score(y_test, y_proba)\n",
    "    print(f'ROC AUC Score: {roc_auc}')\n",
    "\n",
    "    # 繪製 ROC 曲線\n",
    "    plt.figure(figsize=(8, 8))\n",
    "    plt.plot(fpr, tpr, label=f'AUC = {roc_auc:.2f}')\n",
    "    plt.plot([0, 1], [0, 1], 'k--')  # 對角線\n",
    "    plt.xlim([0.0, 1.0])\n",
    "    plt.ylim([0.0, 1.0])\n",
    "    plt.xlabel('False Positive Rate (FPR)')\n",
    "    plt.ylabel('True Positive Rate (TPR)')\n",
    "    plt.title('Receiver Operating Characteristic (ROC) Curve')\n",
    "    plt.legend(loc=\"lower right\")\n",
    "    # plt.show()\n",
    "\n",
    "def concatenate_csv_files(file_paths):\n",
    "    \"\"\"\n",
    "    合併多個 CSV 檔案成一個 DataFrame。\n",
    "\n",
    "    Parameters:\n",
    "        file_paths (list): 包含多個 CSV 檔案路徑的列表。\n",
    "\n",
    "    Returns:\n",
    "        pd.DataFrame: 合併後的 DataFrame。\n",
    "    \"\"\"\n",
    "    # 初始化一個空的 DataFrame\n",
    "    concatenated_df = pd.DataFrame()\n",
    "\n",
    "    # 迴圈讀取每個檔案並使用 pd.concat 整合到 DataFrame\n",
    "    for file_path in file_paths:\n",
    "        # 使用 pd.read_csv 讀取每個檔案\n",
    "        current_df = pd.read_csv(file_path)\n",
    "\n",
    "        # 使用 pd.concat 將目前的 DataFrame 與之前的合併\n",
    "        concatenated_df = pd.concat([concatenated_df, current_df], ignore_index=True)\n",
    "\n",
    "    return concatenated_df\n",
    "\n",
    "def concatenate_csv_files_dask(file_paths):\n",
    "    \"\"\"\n",
    "    合併多個 CSV 檔案成一個 Dask DataFrame。\n",
    "\n",
    "    Parameters:\n",
    "        file_paths (list): 包含多個 CSV 檔案路徑的列表。\n",
    "\n",
    "    Returns:\n",
    "        dask.dataframe.DataFrame: 合併後的 Dask DataFrame。\n",
    "    \"\"\"\n",
    "    # 初始化一個空的 Dask DataFrame\n",
    "    dask_dfs = []\n",
    "\n",
    "    # 迴圈讀取每個檔案並將數據添加到 Dask DataFrame 列表\n",
    "    for file_path in file_paths:\n",
    "        # 使用 dask.dataframe.read_csv 讀取每個檔案，返回一個 Dask DataFrame\n",
    "        current_dask_df = dd.read_csv(file_path)\n",
    "        dask_dfs.append(current_dask_df)\n",
    "\n",
    "    # 使用 dask.dataframe.concat 將 Dask DataFrame 列表合併成一個大 Dask DataFrame\n",
    "    concatenated_dask_df = dd.concat(dask_dfs, axis=0)\n",
    "\n",
    "    return concatenated_dask_df\n",
    "\n",
    "def under_sampling_negative_by_ratio(X_train, y_train, ratio=200000, random_state=42):\n",
    "    \"\"\"\n",
    "    透過比例下採樣負樣本。\n",
    "\n",
    "    Parameters:\n",
    "    - ratio: 負樣本數量與正樣本數量的比例。\n",
    "    - X_train: 訓練集的特徵。\n",
    "    - y_train: 訓練集的目標變數。\n",
    "\n",
    "    Returns:\n",
    "    - X_train_n: 下採樣後的訓練集特徵。\n",
    "    - y_train_n: 下採樣後的訓練集目標變數。\n",
    "    \"\"\"\n",
    "    # Set negative over positive ratio\n",
    "    n_p_ratio = ratio\n",
    "\n",
    "    # Reset X index (only X have duplicated index)\n",
    "    X_train = X_train.reset_index(drop=True)\n",
    "    y_train = y_train.reset_index(drop=True)\n",
    "\n",
    "    # Find positive and negative counts\n",
    "    p_train = y_train.value_counts()[1]\n",
    "    n_train = y_train.value_counts()[0]\n",
    "\n",
    "    # List negative index\n",
    "    n_train_id = y_train[y_train == 0].index\n",
    "    n_train_id_df = n_train_id.to_frame()\n",
    "\n",
    "    # Random select negative index\n",
    "    num = n_train - (n_p_ratio * p_train)\n",
    "    n_train_id_sampled = n_train_id_df.sample(n=num, random_state=random_state)\n",
    "\n",
    "    # transform dataframe back to index\n",
    "    n_train_id_sampled_index = n_train_id_sampled.index\n",
    "\n",
    "    # Drop selected index on X_train and y_train\n",
    "    X_train_n = X_train.drop(n_train_id_sampled_index)\n",
    "    y_train_n = y_train.drop(n_train_id_sampled_index)\n",
    "\n",
    "    # Check negative over positive ratio\n",
    "    p_train_new = y_train_n.value_counts()[1]\n",
    "    n_train_new = y_train_n.value_counts()[0]\n",
    "    n_p_ratio_new = n_train_new / p_train_new\n",
    "    print(f\"Positive: {p_train_new}, Negative: {n_train_new}\", \"\\nNegative over Positive Ratio:\", n_p_ratio_new)\n",
    "\n",
    "    return X_train_n, y_train_n"
   ]
  },
  {
   "cell_type": "markdown",
   "metadata": {},
   "source": [
    "### Load Datasets"
   ]
  },
  {
   "cell_type": "code",
   "execution_count": 5,
   "metadata": {},
   "outputs": [],
   "source": [
    "# 儲存路徑指定\n",
    "ROOT_PATH = r\"D:\\Chu's Document!\\02 Project\\06 道路塌陷防治專案(天坑)\"\n",
    "save_path = r\"D:\\Chu's Document!\\02 Project\\06 道路塌陷防治專案(天坑)\\A Export\"\n",
    "FOLDER_PATH = r\"D:\\Chu's Document!\\02 Project\\06 道路塌陷防治專案(天坑)\\03 Data\\Model_building\\TP_2021\""
   ]
  },
  {
   "cell_type": "markdown",
   "metadata": {},
   "source": [
    "### Batch Loading Sinkhole Datasets"
   ]
  },
  {
   "cell_type": "markdown",
   "metadata": {},
   "source": [
    "#### Filter by Specific year and month"
   ]
  },
  {
   "cell_type": "code",
   "execution_count": 7,
   "metadata": {},
   "outputs": [
    {
     "data": {
      "text/plain": [
       "[\"D:\\\\Chu's Document!\\\\02 Project\\\\06 道路塌陷防治專案(天坑)\\\\03 Data\\\\Model_building\\\\TP_2021\\\\Hex_TP_7_2021-06-04.csv\",\n",
       " \"D:\\\\Chu's Document!\\\\02 Project\\\\06 道路塌陷防治專案(天坑)\\\\03 Data\\\\Model_building\\\\TP_2021\\\\Hex_TP_7_2021-06-11.csv\",\n",
       " \"D:\\\\Chu's Document!\\\\02 Project\\\\06 道路塌陷防治專案(天坑)\\\\03 Data\\\\Model_building\\\\TP_2021\\\\Hex_TP_7_2021-06-18.csv\",\n",
       " \"D:\\\\Chu's Document!\\\\02 Project\\\\06 道路塌陷防治專案(天坑)\\\\03 Data\\\\Model_building\\\\TP_2021\\\\Hex_TP_7_2021-06-25.csv\",\n",
       " \"D:\\\\Chu's Document!\\\\02 Project\\\\06 道路塌陷防治專案(天坑)\\\\03 Data\\\\Model_building\\\\TP_2021\\\\Hex_TP_7_2021-07-02.csv\"]"
      ]
     },
     "execution_count": 7,
     "metadata": {},
     "output_type": "execute_result"
    }
   ],
   "source": [
    "# 篩選特定年月的檔案\n",
    "folder_path = ROOT_PATH + r\"\\03 Data\\Model_building\\TP_2021\"\n",
    "years = 2021\n",
    "# month = '06'\n",
    "days = 7\n",
    "file_pattern = folder_path + f\"/Hex_TP_{days}_{years}*.csv\"\n",
    "\n",
    "# 使用 glob.glob 讀取所有符合檔名模式的檔案路徑\n",
    "file_paths = glob.glob(file_pattern)\n",
    "file_paths = file_paths[:26]\n",
    "train_num = round(len(file_paths)*0.64)\n",
    "val_num = round(len(file_paths)*0.8)\n",
    "test_num = len(file_paths)\n",
    "file_train = file_paths[0:train_num]\n",
    "file_validation = file_paths[train_num:val_num]\n",
    "file_test = file_paths[val_num:test_num]\n",
    "file_test"
   ]
  },
  {
   "cell_type": "code",
   "execution_count": 8,
   "metadata": {},
   "outputs": [
    {
     "name": "stdout",
     "output_type": "stream",
     "text": [
      "Train: 17, Validation: 4, Test: 5\n"
     ]
    }
   ],
   "source": [
    "# 資料集切分\n",
    "train_num = round(len(file_paths)*0.64)\n",
    "val_num = round(len(file_paths)*0.8)\n",
    "test_num = len(file_paths)\n",
    "\n",
    "file_train = file_paths[0:train_num]\n",
    "file_validation = file_paths[train_num:val_num]\n",
    "file_test = file_paths[val_num:test_num]\n",
    "\n",
    "print(f\"Train: {len(file_train)}, Validation: {len(file_validation)}, Test: {len(file_test)}\")"
   ]
  },
  {
   "cell_type": "code",
   "execution_count": 9,
   "metadata": {},
   "outputs": [
    {
     "name": "stdout",
     "output_type": "stream",
     "text": [
      "Training Data Shape: (23760645, 45) \n",
      "Validation Data Shape: (5590740, 45) \n",
      "Testing Data Shape: (6988425, 45)\n"
     ]
    }
   ],
   "source": [
    "# concatenate_csv_files\n",
    "training_data = concatenate_csv_files_dask(file_train)\n",
    "validation_data = concatenate_csv_files_dask(file_validation)\n",
    "testing_data = concatenate_csv_files_dask(file_test)\n",
    "\n",
    "training_data = training_data.compute()\n",
    "validation_data = validation_data.compute()\n",
    "testing_data = testing_data.compute()\n",
    "\n",
    "# print shape\n",
    "print(\"Training Data Shape:\", training_data.shape, \n",
    "      \"\\nValidation Data Shape:\", validation_data.shape,\n",
    "      \"\\nTesting Data Shape:\", testing_data.shape) #8s(大同區) #6m57s(臺北市)"
   ]
  },
  {
   "cell_type": "code",
   "execution_count": 10,
   "metadata": {},
   "outputs": [
    {
     "data": {
      "text/plain": [
       "Index(['Unnamed: 0', 'id', 'centroid', 'TNAME', 'soil_liquid_class', 'width',\n",
       "       'road_name', 'road_id', 'sp_count', 'rp_count', 'rd_count', 'cn_count',\n",
       "       'wp_count', 'pipe_count', 'geometry', 'road_case_count',\n",
       "       'pipe_case_count', 'park_area', 'school_greening_area',\n",
       "       'riverside_highland_area', 'birds_conservation_area',\n",
       "       'agriculture_area', 'pavement_sidewalk_area',\n",
       "       'pavement_parkinglot_area', 'pavement_park_area',\n",
       "       'pavement_school_area', 'pavement_pac_area', 'building_floor',\n",
       "       'building_area', 'building_volume', 'underground_floor',\n",
       "       'underground_mrt', 'underground_hsr', 'underground_tr', 'Baseline_Date',\n",
       "       'precipitation', 'earthquakes_count', 'meantidelevel',\n",
       "       'meanhighwaterlevel', 'meanlowwaterlevel', 'year', 'month', 'lng',\n",
       "       'lat', 'sinkhole_case_count'],\n",
       "      dtype='object')"
      ]
     },
     "execution_count": 10,
     "metadata": {},
     "output_type": "execute_result"
    }
   ],
   "source": [
    "training_data.columns"
   ]
  },
  {
   "cell_type": "markdown",
   "metadata": {},
   "source": [
    "### Data Preprocessing"
   ]
  },
  {
   "cell_type": "code",
   "execution_count": 11,
   "metadata": {},
   "outputs": [
    {
     "data": {
      "text/html": [
       "<div>\n",
       "<style scoped>\n",
       "    .dataframe tbody tr th:only-of-type {\n",
       "        vertical-align: middle;\n",
       "    }\n",
       "\n",
       "    .dataframe tbody tr th {\n",
       "        vertical-align: top;\n",
       "    }\n",
       "\n",
       "    .dataframe thead th {\n",
       "        text-align: right;\n",
       "    }\n",
       "</style>\n",
       "<table border=\"1\" class=\"dataframe\">\n",
       "  <thead>\n",
       "    <tr style=\"text-align: right;\">\n",
       "      <th></th>\n",
       "      <th>id</th>\n",
       "      <th>centroid</th>\n",
       "      <th>TNAME</th>\n",
       "      <th>soil_liquid_class</th>\n",
       "      <th>width</th>\n",
       "      <th>road_name</th>\n",
       "      <th>road_id</th>\n",
       "      <th>sp_count</th>\n",
       "      <th>rp_count</th>\n",
       "      <th>rd_count</th>\n",
       "      <th>...</th>\n",
       "      <th>precipitation</th>\n",
       "      <th>earthquakes_count</th>\n",
       "      <th>meantidelevel</th>\n",
       "      <th>meanhighwaterlevel</th>\n",
       "      <th>meanlowwaterlevel</th>\n",
       "      <th>year</th>\n",
       "      <th>month</th>\n",
       "      <th>lng</th>\n",
       "      <th>lat</th>\n",
       "      <th>sinkhole_case_count</th>\n",
       "    </tr>\n",
       "  </thead>\n",
       "  <tbody>\n",
       "    <tr>\n",
       "      <th>0</th>\n",
       "      <td>22114579</td>\n",
       "      <td>POINT (312905.37672952673 2770269.4942)</td>\n",
       "      <td>南港區</td>\n",
       "      <td>0</td>\n",
       "      <td>8.0</td>\n",
       "      <td>舊莊街</td>\n",
       "      <td>A0039948</td>\n",
       "      <td>0</td>\n",
       "      <td>0</td>\n",
       "      <td>0</td>\n",
       "      <td>...</td>\n",
       "      <td>1.562</td>\n",
       "      <td>0</td>\n",
       "      <td>-0.116</td>\n",
       "      <td>1.098</td>\n",
       "      <td>-1.304</td>\n",
       "      <td>2021</td>\n",
       "      <td>1</td>\n",
       "      <td>312905.376730</td>\n",
       "      <td>2.770269e+06</td>\n",
       "      <td>0</td>\n",
       "    </tr>\n",
       "    <tr>\n",
       "      <th>1</th>\n",
       "      <td>22114578</td>\n",
       "      <td>POINT (312905.37672952673 2770274.4942)</td>\n",
       "      <td>南港區</td>\n",
       "      <td>0</td>\n",
       "      <td>8.0</td>\n",
       "      <td>舊莊街</td>\n",
       "      <td>A0039948</td>\n",
       "      <td>0</td>\n",
       "      <td>0</td>\n",
       "      <td>0</td>\n",
       "      <td>...</td>\n",
       "      <td>1.562</td>\n",
       "      <td>0</td>\n",
       "      <td>-0.116</td>\n",
       "      <td>1.098</td>\n",
       "      <td>-1.304</td>\n",
       "      <td>2021</td>\n",
       "      <td>1</td>\n",
       "      <td>312905.376730</td>\n",
       "      <td>2.770274e+06</td>\n",
       "      <td>0</td>\n",
       "    </tr>\n",
       "    <tr>\n",
       "      <th>2</th>\n",
       "      <td>22114574</td>\n",
       "      <td>POINT (312905.37672952673 2770294.4942)</td>\n",
       "      <td>南港區</td>\n",
       "      <td>0</td>\n",
       "      <td>6.0</td>\n",
       "      <td>無名</td>\n",
       "      <td>A0041167</td>\n",
       "      <td>0</td>\n",
       "      <td>0</td>\n",
       "      <td>0</td>\n",
       "      <td>...</td>\n",
       "      <td>1.562</td>\n",
       "      <td>0</td>\n",
       "      <td>-0.116</td>\n",
       "      <td>1.098</td>\n",
       "      <td>-1.304</td>\n",
       "      <td>2021</td>\n",
       "      <td>1</td>\n",
       "      <td>312905.376730</td>\n",
       "      <td>2.770294e+06</td>\n",
       "      <td>0</td>\n",
       "    </tr>\n",
       "    <tr>\n",
       "      <th>3</th>\n",
       "      <td>22109086</td>\n",
       "      <td>POINT (312901.0466025078 2770271.9942000005)</td>\n",
       "      <td>南港區</td>\n",
       "      <td>0</td>\n",
       "      <td>8.0</td>\n",
       "      <td>舊莊街</td>\n",
       "      <td>A0039948</td>\n",
       "      <td>0</td>\n",
       "      <td>0</td>\n",
       "      <td>0</td>\n",
       "      <td>...</td>\n",
       "      <td>1.562</td>\n",
       "      <td>0</td>\n",
       "      <td>-0.116</td>\n",
       "      <td>1.098</td>\n",
       "      <td>-1.304</td>\n",
       "      <td>2021</td>\n",
       "      <td>1</td>\n",
       "      <td>312901.046603</td>\n",
       "      <td>2.770272e+06</td>\n",
       "      <td>0</td>\n",
       "    </tr>\n",
       "    <tr>\n",
       "      <th>4</th>\n",
       "      <td>22109085</td>\n",
       "      <td>POINT (312901.0466025078 2770276.9941999996)</td>\n",
       "      <td>南港區</td>\n",
       "      <td>0</td>\n",
       "      <td>8.0</td>\n",
       "      <td>舊莊街</td>\n",
       "      <td>A0039948</td>\n",
       "      <td>0</td>\n",
       "      <td>0</td>\n",
       "      <td>0</td>\n",
       "      <td>...</td>\n",
       "      <td>1.562</td>\n",
       "      <td>0</td>\n",
       "      <td>-0.116</td>\n",
       "      <td>1.098</td>\n",
       "      <td>-1.304</td>\n",
       "      <td>2021</td>\n",
       "      <td>1</td>\n",
       "      <td>312901.046603</td>\n",
       "      <td>2.770277e+06</td>\n",
       "      <td>0</td>\n",
       "    </tr>\n",
       "  </tbody>\n",
       "</table>\n",
       "<p>5 rows × 44 columns</p>\n",
       "</div>"
      ],
      "text/plain": [
       "         id                                      centroid TNAME  \\\n",
       "0  22114579       POINT (312905.37672952673 2770269.4942)   南港區   \n",
       "1  22114578       POINT (312905.37672952673 2770274.4942)   南港區   \n",
       "2  22114574       POINT (312905.37672952673 2770294.4942)   南港區   \n",
       "3  22109086  POINT (312901.0466025078 2770271.9942000005)   南港區   \n",
       "4  22109085  POINT (312901.0466025078 2770276.9941999996)   南港區   \n",
       "\n",
       "   soil_liquid_class  width road_name   road_id  sp_count  rp_count  rd_count  \\\n",
       "0                  0    8.0       舊莊街  A0039948         0         0         0   \n",
       "1                  0    8.0       舊莊街  A0039948         0         0         0   \n",
       "2                  0    6.0        無名  A0041167         0         0         0   \n",
       "3                  0    8.0       舊莊街  A0039948         0         0         0   \n",
       "4                  0    8.0       舊莊街  A0039948         0         0         0   \n",
       "\n",
       "   ...  precipitation  earthquakes_count  meantidelevel meanhighwaterlevel  \\\n",
       "0  ...          1.562                  0         -0.116              1.098   \n",
       "1  ...          1.562                  0         -0.116              1.098   \n",
       "2  ...          1.562                  0         -0.116              1.098   \n",
       "3  ...          1.562                  0         -0.116              1.098   \n",
       "4  ...          1.562                  0         -0.116              1.098   \n",
       "\n",
       "   meanlowwaterlevel  year  month            lng           lat  \\\n",
       "0             -1.304  2021      1  312905.376730  2.770269e+06   \n",
       "1             -1.304  2021      1  312905.376730  2.770274e+06   \n",
       "2             -1.304  2021      1  312905.376730  2.770294e+06   \n",
       "3             -1.304  2021      1  312901.046603  2.770272e+06   \n",
       "4             -1.304  2021      1  312901.046603  2.770277e+06   \n",
       "\n",
       "   sinkhole_case_count  \n",
       "0                    0  \n",
       "1                    0  \n",
       "2                    0  \n",
       "3                    0  \n",
       "4                    0  \n",
       "\n",
       "[5 rows x 44 columns]"
      ]
     },
     "execution_count": 11,
     "metadata": {},
     "output_type": "execute_result"
    }
   ],
   "source": [
    "# Drop column\n",
    "training_data = training_data.drop(columns=['Unnamed: 0'])\n",
    "validation_data = validation_data.drop(columns=['Unnamed: 0'])\n",
    "testing_data = testing_data.drop(columns=['Unnamed: 0'])\n",
    "\n",
    "# reorder columns\n",
    "new_order = [\n",
    "    'id', 'centroid', 'TNAME', 'soil_liquid_class', 'width',\n",
    "    'road_name', 'road_id', 'sp_count', 'rp_count', 'rd_count', 'cn_count',\n",
    "    'wp_count', 'pipe_count', 'geometry', 'road_case_count',\n",
    "    'pipe_case_count', 'park_area', 'school_greening_area',\n",
    "    'riverside_highland_area', 'birds_conservation_area',\n",
    "    'agriculture_area', 'pavement_sidewalk_area',\n",
    "    'pavement_parkinglot_area', 'pavement_park_area',\n",
    "    'pavement_school_area', 'pavement_pac_area', 'building_floor',\n",
    "    'building_area', 'building_volume', 'underground_floor',\n",
    "    'underground_mrt', 'underground_hsr', 'underground_tr', 'Baseline_Date',\n",
    "    'precipitation', 'earthquakes_count', 'meantidelevel',\n",
    "    'meanhighwaterlevel', 'meanlowwaterlevel', 'year', 'month', 'lng',\n",
    "    'lat', 'sinkhole_case_count'\n",
    "]\n",
    "\n",
    "training_data = training_data[new_order]\n",
    "validation_data = validation_data[new_order]\n",
    "testing_data = testing_data[new_order]\n",
    "training_data.head()"
   ]
  },
  {
   "cell_type": "code",
   "execution_count": 12,
   "metadata": {},
   "outputs": [
    {
     "name": "stdout",
     "output_type": "stream",
     "text": [
      "X_train:\n",
      "   soil_liquid_class  width  sp_count  rp_count  rd_count  cn_count  wp_count  \\\n",
      "0                  0    8.0         0         0         0         0         1   \n",
      "1                  0    8.0         0         0         0         0         0   \n",
      "2                  0    6.0         0         0         0         0         0   \n",
      "3                  0    8.0         0         0         0         0         1   \n",
      "4                  0    8.0         0         0         0         0         0   \n",
      "\n",
      "   pipe_count  road_case_count  pipe_case_count  ...  underground_tr  \\\n",
      "0           1                0                0  ...               0   \n",
      "1           0                0                0  ...               0   \n",
      "2           0                0                0  ...               0   \n",
      "3           1                0                0  ...               0   \n",
      "4           0                0                0  ...               0   \n",
      "\n",
      "   precipitation  earthquakes_count  meantidelevel  meanhighwaterlevel  \\\n",
      "0          1.562                  0         -0.116               1.098   \n",
      "1          1.562                  0         -0.116               1.098   \n",
      "2          1.562                  0         -0.116               1.098   \n",
      "3          1.562                  0         -0.116               1.098   \n",
      "4          1.562                  0         -0.116               1.098   \n",
      "\n",
      "   meanlowwaterlevel  year  month            lng           lat  \n",
      "0             -1.304  2021      1  312905.376730  2.770269e+06  \n",
      "1             -1.304  2021      1  312905.376730  2.770274e+06  \n",
      "2             -1.304  2021      1  312905.376730  2.770294e+06  \n",
      "3             -1.304  2021      1  312901.046603  2.770272e+06  \n",
      "4             -1.304  2021      1  312901.046603  2.770277e+06  \n",
      "\n",
      "[5 rows x 36 columns]\n",
      "\n",
      "y_train:\n",
      "0    0\n",
      "1    0\n",
      "2    0\n",
      "3    0\n",
      "4    0\n",
      "Name: sinkhole_case_count, dtype: int64\n"
     ]
    }
   ],
   "source": [
    "# Column Preprocess\n",
    "drop_col = [\n",
    "    \"id\", \"geometry\", \"centroid\", \"sinkhole_case_count\", \"road_name\", \"road_id\", \n",
    "    'Baseline_Date', 'TNAME'\n",
    "]\n",
    "X_train = training_data.drop(drop_col, axis=1)\n",
    "X_validation = validation_data.drop(drop_col, axis=1)\n",
    "X_test = testing_data.drop(drop_col, axis=1)\n",
    "y_train = training_data[\"sinkhole_case_count\"]\n",
    "y_validation = validation_data[\"sinkhole_case_count\"]\n",
    "y_test = testing_data[\"sinkhole_case_count\"]\n",
    "\n",
    "# Ordinal Encoding\n",
    "# oe = OrdinalEncoder()\n",
    "# X[\"TNAME\"] = oe.fit_transform(X[[\"TNAME\"]])\n",
    "\n",
    "# standard scaler\n",
    "# sc= StandardScaler()\n",
    "# X_train.iloc[:,0:3] = sc.fit_transform(X_train.iloc[:,0:3])\n",
    "# X_test.iloc[:,0:3] = sc.transform(X_test.iloc[:,0:3])\n",
    "\n",
    "print(\"X_train:\")\n",
    "print(X_train.head())\n",
    "\n",
    "print(\"\\ny_train:\")\n",
    "print(y_train.head())"
   ]
  },
  {
   "cell_type": "markdown",
   "metadata": {},
   "source": [
    "#### Export training, validatation and testing data "
   ]
  },
  {
   "cell_type": "code",
   "execution_count": 13,
   "metadata": {},
   "outputs": [],
   "source": [
    "X_train.to_csv(ROOT_PATH + r\"\\03 Data\\Model_building\\Test_TP_All\\TP_2021_X_train.csv\", index=False)\n",
    "X_validation.to_csv(ROOT_PATH + r\"\\03 Data\\Model_building\\Test_TP_All\\TP_2021_X_validation.csv\", index=False)\n",
    "X_test.to_csv(ROOT_PATH + r\"\\03 Data\\Model_building\\Test_TP_All\\TP_2021_X_test.csv\", index=False)\n",
    "y_train.to_csv(ROOT_PATH + r\"\\03 Data\\Model_building\\Test_TP_All\\TP_2021_y_train.csv\", index=False)\n",
    "y_validation.to_csv(ROOT_PATH + r\"\\03 Data\\Model_building\\Test_TP_All\\TP_2021_y_validation.csv\", index=False)\n",
    "y_test.to_csv(ROOT_PATH + r\"\\03 Data\\Model_building\\Test_TP_All\\TP_2021_y_test.csv\", index=False)"
   ]
  },
  {
   "cell_type": "markdown",
   "metadata": {},
   "source": [
    "### XGBoost Prediction"
   ]
  },
  {
   "cell_type": "code",
   "execution_count": 51,
   "metadata": {},
   "outputs": [],
   "source": [
    "X_train = dd.read_csv(ROOT_PATH + r\"\\03 Data\\Model_building\\Test_TP_All\\TP_2023_X_train.csv\")\n",
    "X_train = X_train.compute()\n",
    "X_validation = dd.read_csv(ROOT_PATH + r\"\\03 Data\\Model_building\\Test_TP_All\\TP_2023_X_validation.csv\")\n",
    "X_validation = X_validation.compute()\n",
    "X_test = dd.read_csv(ROOT_PATH + r\"\\03 Data\\Model_building\\Test_TP_All\\TP_2023_X_test.csv\")\n",
    "X_test = X_test.compute()\n",
    "y_train = dd.read_csv(ROOT_PATH + r\"\\03 Data\\Model_building\\Test_TP_All\\TP_2023_y_train.csv\")\n",
    "y_train = y_train.compute() \n",
    "y_train = pd.Series(y_train[\"sinkhole_case_count\"])\n",
    "y_validation = dd.read_csv(ROOT_PATH + r\"\\03 Data\\Model_building\\Test_TP_All\\TP_2023_y_validation.csv\")\n",
    "y_validation = y_validation.compute()\n",
    "y_validation = pd.Series(y_validation[\"sinkhole_case_count\"])\n",
    "y_test = dd.read_csv(ROOT_PATH + r\"\\03 Data\\Model_building\\Test_TP_All\\TP_2023_y_test.csv\")\n",
    "y_test = y_test.compute()\n",
    "y_test = pd.Series(y_test[\"sinkhole_case_count\"]) #44s"
   ]
  },
  {
   "cell_type": "code",
   "execution_count": 52,
   "metadata": {},
   "outputs": [
    {
     "name": "stdout",
     "output_type": "stream",
     "text": [
      "訓練：(18169905, 19), 驗證：(4193055, 19), 測試：(5590740, 19)\n",
      "訓練集\n",
      "Positive: 57, Negative: 18169848 \n",
      "Scale Pos Weight: 318769.2631578947\n",
      "驗證集\n",
      "Positive: 17, Negative: 4193038 \n",
      "Scale Pos Weight: 246649.29411764705\n",
      "測試集\n",
      "Positive: 7, Negative: 5590733 \n",
      "Scale Pos Weight: 798676.1428571428\n",
      "246649\n"
     ]
    }
   ],
   "source": [
    "# Data overview\n",
    "print(f\"訓練：{X_train.shape}, 驗證：{X_validation.shape}, 測試：{X_test.shape}\")\n",
    "\n",
    "# Check training data distribution\n",
    "positive = y_train.value_counts()[1]\n",
    "negative = y_train.value_counts()[0]\n",
    "scale_pos_weight_tr = negative / positive\n",
    "print(f\"訓練集\\nPositive: {positive}, Negative: {negative}\", \"\\nScale Pos Weight:\", scale_pos_weight_tr)\n",
    "\n",
    "# Check validation data distribution\n",
    "positive = y_validation.value_counts()[1]\n",
    "negative = y_validation.value_counts()[0]\n",
    "scale_pos_weight_va = negative / positive\n",
    "print(f\"驗證集\\nPositive: {positive}, Negative: {negative}\", \"\\nScale Pos Weight:\", scale_pos_weight_va)\n",
    "\n",
    "# Check testing data distribution\n",
    "positive = y_test.value_counts()[1]\n",
    "negative = y_test.value_counts()[0]\n",
    "scale_pos_weight_te = negative / positive\n",
    "print(f\"測試集\\nPositive: {positive}, Negative: {negative}\", \"\\nScale Pos Weight:\", scale_pos_weight_te)\n",
    "\n",
    "scale_pos_weight = int(min(scale_pos_weight_tr, scale_pos_weight_va, scale_pos_weight_te))\n",
    "print(scale_pos_weight)"
   ]
  },
  {
   "cell_type": "code",
   "execution_count": 53,
   "metadata": {},
   "outputs": [
    {
     "name": "stdout",
     "output_type": "stream",
     "text": [
      "X_train duplicated:True\n",
      "X_validation duplicated:True\n",
      "X_test duplicated:True\n",
      "y_train duplicated:False\n",
      "y_validation duplicated:False\n",
      "y_test duplicated:False\n"
     ]
    }
   ],
   "source": [
    "# Check duplicated index (if True, reset index before training)\n",
    "print(f\"X_train duplicated:{X_train.index.duplicated().any()}\")\n",
    "print(f\"X_validation duplicated:{X_validation.index.duplicated().any()}\")\n",
    "print(f\"X_test duplicated:{X_test.index.duplicated().any()}\")\n",
    "print(f\"y_train duplicated:{y_train.index.duplicated().any()}\")\n",
    "print(f\"y_validation duplicated:{y_validation.index.duplicated().any()}\")\n",
    "print(f\"y_test duplicated:{y_test.index.duplicated().any()}\")"
   ]
  },
  {
   "cell_type": "code",
   "execution_count": 54,
   "metadata": {},
   "outputs": [
    {
     "name": "stdout",
     "output_type": "stream",
     "text": [
      "Positive: 57, Negative: 14058993 \n",
      "Negative over Positive Ratio: 246649.0\n",
      "Positive: 17, Negative: 4193033 \n",
      "Negative over Positive Ratio: 246649.0\n",
      "Positive: 7, Negative: 1726543 \n",
      "Negative over Positive Ratio: 246649.0\n"
     ]
    }
   ],
   "source": [
    "# Under sampling negative by ratio (reset index will be finished inside the function)\n",
    "X_train, y_train = under_sampling_negative_by_ratio(X_train, y_train, ratio=scale_pos_weight, random_state=42)\n",
    "X_validation, y_validation = under_sampling_negative_by_ratio(X_validation, y_validation, ratio=scale_pos_weight, random_state=42)\n",
    "X_test, y_test = under_sampling_negative_by_ratio(X_test, y_test, ratio=scale_pos_weight, random_state=42)"
   ]
  },
  {
   "cell_type": "markdown",
   "metadata": {},
   "source": [
    "#### Define optimize fuction"
   ]
  },
  {
   "cell_type": "code",
   "execution_count": 72,
   "metadata": {},
   "outputs": [],
   "source": [
    "def objective_xgb(trial):\n",
    "    # 將參數空間設定為優化的範圍\n",
    "    params = {\n",
    "        'booster': 'gbtree',\n",
    "        'random_state': 42,\n",
    "        'objective': 'binary:logistic',  # 二元分類問題\n",
    "        'eval_metric':  'logloss', \n",
    "        'tree_method': 'hist',  # 啟用 GPU 加速\n",
    "        'device': \"cuda\",\n",
    "        # 'gpu_id': 1\n",
    "        'n_estimators': trial.suggest_int('n_estimators', 100, 200),\n",
    "        'learning_rate': trial.suggest_float('learning_rate', 0.01, 0.1),\n",
    "        'scale_pos_weight': scale_pos_weight,\n",
    "        'max_depth': trial.suggest_int('max_depth', 3, 10),\n",
    "        'min_child_weight': trial.suggest_int('min_child_weight', 1, 100),\n",
    "        'max_delta_step': trial.suggest_int('max_delta_step', 1, 10),\n",
    "        'subsample': trial.suggest_float('subsample', 0.5, 1.0),\n",
    "        'gamma': trial.suggest_int('gamma', 0, 100),\n",
    "        # 'colsample_bytree': trial.suggest_float('colsample_bytree', 0.5, 1.0),\n",
    "        'lambda': trial.suggest_int('lambda', 0, 100),\n",
    "        'alpha': trial.suggest_float('alpha', 0, 100),\n",
    "        'eta': trial.suggest_float('eta', 0.3, 1.0),\n",
    "    }\n",
    "    # 使用 'objective' 參數指定損失函數\n",
    "    \n",
    "    # 創建 XGBoost 模型\n",
    "    xgb_model_opt = XGBClassifier(**params)\n",
    "\n",
    "    # 使用訓練資料訓練模型\n",
    "    xgb_model_opt.fit(X_train, y_train)\n",
    "\n",
    "    # 使用測試資料預測\n",
    "    # y_val_pred = xgb_model_opt.predict(X_validation)\n",
    "    y_train_pred = xgb_model_opt.predict(X_train)\n",
    "\n",
    "    # 新增紀錄\n",
    "    f1score_xgb = f1_score(y_train, y_train_pred)\n",
    "    recall = recall_score(y_train, y_train_pred)\n",
    "    accuracy = accuracy_score(y_train, y_train_pred)\n",
    "    precision = precision_score(y_train, y_train_pred)\n",
    "    data = {\n",
    "        \"Recall\": recall, \n",
    "        \"Precision\": precision, \n",
    "        \"Accuracy\": accuracy,\n",
    "        \"F1score\": f1score_xgb,\n",
    "        \"params\": params\n",
    "    }\n",
    "    log.append(data)\n",
    "\n",
    "    # 計算 F1 score 並返回\n",
    "    return f1score_xgb\n",
    "\n",
    "    # 計算 Recall 並返回\n",
    "    # recall_xgb = recall_score(y_validation, y_val_pred)\n",
    "    # return recall_xgb"
   ]
  },
  {
   "cell_type": "code",
   "execution_count": 77,
   "metadata": {},
   "outputs": [
    {
     "name": "stderr",
     "output_type": "stream",
     "text": [
      "[I 2024-04-11 15:27:49,139] A new study created in memory with name: no-name-642afca2-c8a2-4d5d-ad64-36c7ae1e2568\n",
      "[I 2024-04-11 15:28:35,831] Trial 0 finished with value: 0.000328261200421368 and parameters: {'n_estimators': 122, 'learning_rate': 0.01217426589200304, 'max_depth': 3, 'min_child_weight': 24, 'max_delta_step': 6, 'subsample': 0.7389030129790389, 'gamma': 86, 'lambda': 1, 'alpha': 25.491176399737203, 'eta': 0.46564138489967993}. Best is trial 0 with value: 0.000328261200421368.\n",
      "[I 2024-04-11 15:29:27,101] Trial 1 finished with value: 0.013094417643004824 and parameters: {'n_estimators': 175, 'learning_rate': 0.07710563327802897, 'max_depth': 3, 'min_child_weight': 2, 'max_delta_step': 2, 'subsample': 0.5058160196466013, 'gamma': 93, 'lambda': 67, 'alpha': 42.81170219355591, 'eta': 0.7141908688889509}. Best is trial 1 with value: 0.013094417643004824.\n",
      "[I 2024-04-11 15:30:32,357] Trial 2 finished with value: 0.003056791977261758 and parameters: {'n_estimators': 179, 'learning_rate': 0.010676049726084044, 'max_depth': 9, 'min_child_weight': 13, 'max_delta_step': 10, 'subsample': 0.8660612486738763, 'gamma': 19, 'lambda': 5, 'alpha': 78.50242435267883, 'eta': 0.6841237482369986}. Best is trial 1 with value: 0.013094417643004824.\n",
      "[I 2024-04-11 15:31:28,413] Trial 3 finished with value: 0.02523240371845949 and parameters: {'n_estimators': 151, 'learning_rate': 0.0418108878737642, 'max_depth': 7, 'min_child_weight': 63, 'max_delta_step': 7, 'subsample': 0.745209574565355, 'gamma': 95, 'lambda': 42, 'alpha': 50.82955028101045, 'eta': 0.3685124342110496}. Best is trial 3 with value: 0.02523240371845949.\n",
      "[I 2024-04-11 15:32:33,093] Trial 4 finished with value: 0.12127659574468086 and parameters: {'n_estimators': 196, 'learning_rate': 0.05207199814589554, 'max_depth': 7, 'min_child_weight': 79, 'max_delta_step': 3, 'subsample': 0.5227365744357293, 'gamma': 92, 'lambda': 13, 'alpha': 29.50154492892971, 'eta': 0.8111876906743849}. Best is trial 4 with value: 0.12127659574468086.\n",
      "[I 2024-04-11 15:33:26,826] Trial 5 finished with value: 0.024755700325732898 and parameters: {'n_estimators': 151, 'learning_rate': 0.03567315957798735, 'max_depth': 8, 'min_child_weight': 73, 'max_delta_step': 6, 'subsample': 0.6126548669199309, 'gamma': 72, 'lambda': 1, 'alpha': 17.369748188411428, 'eta': 0.6661528798980463}. Best is trial 4 with value: 0.12127659574468086.\n",
      "[I 2024-04-11 15:34:20,744] Trial 6 finished with value: 0.05064415815193247 and parameters: {'n_estimators': 170, 'learning_rate': 0.054937125739600405, 'max_depth': 6, 'min_child_weight': 86, 'max_delta_step': 1, 'subsample': 0.5360568844571645, 'gamma': 8, 'lambda': 10, 'alpha': 71.63192297478892, 'eta': 0.5259353357393094}. Best is trial 4 with value: 0.12127659574468086.\n",
      "[I 2024-04-11 15:35:11,742] Trial 7 finished with value: 0.0049097721693440715 and parameters: {'n_estimators': 176, 'learning_rate': 0.059173691805760646, 'max_depth': 3, 'min_child_weight': 54, 'max_delta_step': 6, 'subsample': 0.6898161200058541, 'gamma': 4, 'lambda': 30, 'alpha': 70.68726273309389, 'eta': 0.5304401744112823}. Best is trial 4 with value: 0.12127659574468086.\n",
      "[I 2024-04-11 15:36:02,780] Trial 8 finished with value: 0.1709145427286357 and parameters: {'n_estimators': 160, 'learning_rate': 0.09721358938855937, 'max_depth': 6, 'min_child_weight': 52, 'max_delta_step': 6, 'subsample': 0.5465059934184879, 'gamma': 55, 'lambda': 4, 'alpha': 43.28852999280811, 'eta': 0.8507068423158841}. Best is trial 8 with value: 0.1709145427286357.\n",
      "[I 2024-04-11 15:36:54,594] Trial 9 finished with value: 0.15019762845849804 and parameters: {'n_estimators': 163, 'learning_rate': 0.061364976635985176, 'max_depth': 7, 'min_child_weight': 72, 'max_delta_step': 1, 'subsample': 0.7714707238197, 'gamma': 6, 'lambda': 25, 'alpha': 45.62903091155997, 'eta': 0.7032861614716233}. Best is trial 8 with value: 0.1709145427286357.\n",
      "[I 2024-04-11 15:37:37,739] Trial 10 finished with value: 0.05243790248390064 and parameters: {'n_estimators': 121, 'learning_rate': 0.0993441042895, 'max_depth': 5, 'min_child_weight': 35, 'max_delta_step': 9, 'subsample': 0.9369567994182559, 'gamma': 43, 'lambda': 97, 'alpha': 99.73005373597867, 'eta': 0.9783743367073362}. Best is trial 8 with value: 0.1709145427286357.\n",
      "[I 2024-04-11 15:38:26,177] Trial 11 finished with value: 0.19554030874785588 and parameters: {'n_estimators': 142, 'learning_rate': 0.0944324382129772, 'max_depth': 10, 'min_child_weight': 41, 'max_delta_step': 3, 'subsample': 0.8252949771128024, 'gamma': 47, 'lambda': 31, 'alpha': 48.372825131947245, 'eta': 0.8674294454701846}. Best is trial 11 with value: 0.19554030874785588.\n",
      "[I 2024-04-11 15:39:13,604] Trial 12 finished with value: 0.18999999999999997 and parameters: {'n_estimators': 136, 'learning_rate': 0.09983987462012575, 'max_depth': 10, 'min_child_weight': 40, 'max_delta_step': 4, 'subsample': 0.8552170878907316, 'gamma': 50, 'lambda': 58, 'alpha': 2.3197544032552244, 'eta': 0.9181597212790564}. Best is trial 11 with value: 0.19554030874785588.\n",
      "[I 2024-04-11 15:39:57,591] Trial 13 finished with value: 0.17757009345794392 and parameters: {'n_estimators': 102, 'learning_rate': 0.08362584761489494, 'max_depth': 10, 'min_child_weight': 33, 'max_delta_step': 4, 'subsample': 0.8594450531476825, 'gamma': 39, 'lambda': 67, 'alpha': 1.1336093201975146, 'eta': 0.9988304933993023}. Best is trial 11 with value: 0.19554030874785588.\n",
      "[I 2024-04-11 15:40:46,657] Trial 14 finished with value: 0.20727272727272728 and parameters: {'n_estimators': 129, 'learning_rate': 0.08179630428935794, 'max_depth': 10, 'min_child_weight': 37, 'max_delta_step': 4, 'subsample': 0.9885805632436022, 'gamma': 60, 'lambda': 60, 'alpha': 2.702859860994258, 'eta': 0.8779803516886652}. Best is trial 14 with value: 0.20727272727272728.\n",
      "[I 2024-04-11 15:41:36,144] Trial 15 finished with value: 0.12555066079295155 and parameters: {'n_estimators': 136, 'learning_rate': 0.07768267814316218, 'max_depth': 9, 'min_child_weight': 100, 'max_delta_step': 4, 'subsample': 0.9983402535732884, 'gamma': 66, 'lambda': 85, 'alpha': 17.2006939494567, 'eta': 0.8140014198100028}. Best is trial 14 with value: 0.20727272727272728.\n",
      "[I 2024-04-11 15:42:25,344] Trial 16 finished with value: 0.2179732313575526 and parameters: {'n_estimators': 133, 'learning_rate': 0.08578852027972592, 'max_depth': 9, 'min_child_weight': 22, 'max_delta_step': 3, 'subsample': 0.9488772702009158, 'gamma': 25, 'lambda': 45, 'alpha': 97.84331485572727, 'eta': 0.8970596133223373}. Best is trial 16 with value: 0.2179732313575526.\n",
      "[I 2024-04-11 15:43:13,968] Trial 17 finished with value: 0.12895927601809956 and parameters: {'n_estimators': 120, 'learning_rate': 0.06942029030629383, 'max_depth': 9, 'min_child_weight': 20, 'max_delta_step': 8, 'subsample': 0.9893851210195634, 'gamma': 30, 'lambda': 54, 'alpha': 97.19407850621076, 'eta': 0.7670863191021318}. Best is trial 16 with value: 0.2179732313575526.\n",
      "[I 2024-04-11 15:43:58,448] Trial 18 finished with value: 0.13475177304964536 and parameters: {'n_estimators': 104, 'learning_rate': 0.08250757627824781, 'max_depth': 8, 'min_child_weight': 4, 'max_delta_step': 3, 'subsample': 0.9297592779316767, 'gamma': 27, 'lambda': 42, 'alpha': 85.67540367126715, 'eta': 0.9537427417373592}. Best is trial 16 with value: 0.2179732313575526.\n",
      "[I 2024-04-11 15:44:46,252] Trial 19 finished with value: 0.17246596066565809 and parameters: {'n_estimators': 128, 'learning_rate': 0.08883824656073566, 'max_depth': 8, 'min_child_weight': 25, 'max_delta_step': 5, 'subsample': 0.921357756823389, 'gamma': 60, 'lambda': 78, 'alpha': 57.47415333369182, 'eta': 0.5953421655883946}. Best is trial 16 with value: 0.2179732313575526.\n",
      "[I 2024-04-11 15:45:33,905] Trial 20 finished with value: 0.15281501340482576 and parameters: {'n_estimators': 111, 'learning_rate': 0.07056679683386773, 'max_depth': 9, 'min_child_weight': 12, 'max_delta_step': 5, 'subsample': 0.965133171829331, 'gamma': 78, 'lambda': 41, 'alpha': 61.59902746110688, 'eta': 0.9121761859505897}. Best is trial 16 with value: 0.2179732313575526.\n",
      "[I 2024-04-11 15:46:25,114] Trial 21 finished with value: 0.21268656716417914 and parameters: {'n_estimators': 140, 'learning_rate': 0.089958982512649, 'max_depth': 10, 'min_child_weight': 44, 'max_delta_step': 3, 'subsample': 0.8267741235368963, 'gamma': 42, 'lambda': 26, 'alpha': 32.208477545602136, 'eta': 0.8727900060556494}. Best is trial 16 with value: 0.2179732313575526.\n",
      "[I 2024-04-11 15:47:20,840] Trial 22 finished with value: 0.21468926553672318 and parameters: {'n_estimators': 138, 'learning_rate': 0.08846539144316112, 'max_depth': 10, 'min_child_weight': 48, 'max_delta_step': 2, 'subsample': 0.9043606695358595, 'gamma': 35, 'lambda': 20, 'alpha': 33.398709453146324, 'eta': 0.7646804319738966}. Best is trial 16 with value: 0.2179732313575526.\n",
      "[I 2024-04-11 15:48:17,081] Trial 23 finished with value: 0.21673003802281368 and parameters: {'n_estimators': 143, 'learning_rate': 0.08933351912036924, 'max_depth': 10, 'min_child_weight': 48, 'max_delta_step': 2, 'subsample': 0.8078915794830333, 'gamma': 34, 'lambda': 20, 'alpha': 32.71807865715073, 'eta': 0.7652523314098285}. Best is trial 16 with value: 0.2179732313575526.\n",
      "[I 2024-04-11 15:49:09,000] Trial 24 finished with value: 0.1945392491467577 and parameters: {'n_estimators': 152, 'learning_rate': 0.07382004412848044, 'max_depth': 9, 'min_child_weight': 57, 'max_delta_step': 2, 'subsample': 0.9002553981576693, 'gamma': 16, 'lambda': 22, 'alpha': 36.48208213571543, 'eta': 0.7581022609403324}. Best is trial 16 with value: 0.2179732313575526.\n",
      "[I 2024-04-11 15:50:00,317] Trial 25 finished with value: 0.22574257425742575 and parameters: {'n_estimators': 141, 'learning_rate': 0.08886739539076462, 'max_depth': 8, 'min_child_weight': 60, 'max_delta_step': 2, 'subsample': 0.7953446783565842, 'gamma': 33, 'lambda': 17, 'alpha': 17.3305750183113, 'eta': 0.6226956624499869}. Best is trial 25 with value: 0.22574257425742575.\n",
      "[I 2024-04-11 15:50:51,791] Trial 26 finished with value: 0.16964285714285712 and parameters: {'n_estimators': 144, 'learning_rate': 0.06356954134577109, 'max_depth': 8, 'min_child_weight': 58, 'max_delta_step': 1, 'subsample': 0.6646883752462415, 'gamma': 17, 'lambda': 17, 'alpha': 19.05273932873487, 'eta': 0.6219150942819411}. Best is trial 25 with value: 0.22574257425742575.\n",
      "[I 2024-04-11 15:51:42,577] Trial 27 finished with value: 0.19791666666666669 and parameters: {'n_estimators': 129, 'learning_rate': 0.09198842494980465, 'max_depth': 8, 'min_child_weight': 66, 'max_delta_step': 2, 'subsample': 0.7959538329395386, 'gamma': 25, 'lambda': 36, 'alpha': 12.172196241935659, 'eta': 0.5526562633901619}. Best is trial 25 with value: 0.22574257425742575.\n",
      "[I 2024-04-11 15:52:36,197] Trial 28 finished with value: 0.007341103741387082 and parameters: {'n_estimators': 159, 'learning_rate': 0.023280632493358107, 'max_depth': 9, 'min_child_weight': 90, 'max_delta_step': 1, 'subsample': 0.7235109647937198, 'gamma': 34, 'lambda': 12, 'alpha': 9.50255362637585, 'eta': 0.4300197996895869}. Best is trial 25 with value: 0.22574257425742575.\n",
      "[I 2024-04-11 15:53:21,381] Trial 29 finished with value: 0.0026184624572202953 and parameters: {'n_estimators': 116, 'learning_rate': 0.04629359872495371, 'max_depth': 4, 'min_child_weight': 30, 'max_delta_step': 2, 'subsample': 0.78234260194334, 'gamma': 22, 'lambda': 47, 'alpha': 26.381132710626176, 'eta': 0.6041742261065144}. Best is trial 25 with value: 0.22574257425742575.\n",
      "[I 2024-04-11 15:54:14,403] Trial 30 finished with value: 0.16838995568685375 and parameters: {'n_estimators': 147, 'learning_rate': 0.06624290804634664, 'max_depth': 7, 'min_child_weight': 21, 'max_delta_step': 3, 'subsample': 0.7154061979017515, 'gamma': 10, 'lambda': 34, 'alpha': 24.875882643711698, 'eta': 0.467559132677297}. Best is trial 25 with value: 0.22574257425742575.\n",
      "[I 2024-04-11 15:55:03,655] Trial 31 finished with value: 0.20430107526881722 and parameters: {'n_estimators': 134, 'learning_rate': 0.08611506677208648, 'max_depth': 10, 'min_child_weight': 45, 'max_delta_step': 2, 'subsample': 0.8853044934608678, 'gamma': 34, 'lambda': 19, 'alpha': 36.276217620606324, 'eta': 0.7379561086661324}. Best is trial 25 with value: 0.22574257425742575.\n",
      "[I 2024-04-11 15:55:50,442] Trial 32 finished with value: 0.17325227963525838 and parameters: {'n_estimators': 126, 'learning_rate': 0.07754924340801765, 'max_depth': 9, 'min_child_weight': 47, 'max_delta_step': 2, 'subsample': 0.8178179651517233, 'gamma': 35, 'lambda': 17, 'alpha': 37.509009457730734, 'eta': 0.80273836407876}. Best is trial 25 with value: 0.22574257425742575.\n",
      "[I 2024-04-11 15:56:37,935] Trial 33 finished with value: 0.21839080459770113 and parameters: {'n_estimators': 136, 'learning_rate': 0.09058031658587623, 'max_depth': 10, 'min_child_weight': 64, 'max_delta_step': 1, 'subsample': 0.9463341660944249, 'gamma': 30, 'lambda': 7, 'alpha': 24.70473025230212, 'eta': 0.6618910223255761}. Best is trial 25 with value: 0.22574257425742575.\n",
      "[I 2024-04-11 15:57:27,089] Trial 34 finished with value: 0.22799999999999998 and parameters: {'n_estimators': 156, 'learning_rate': 0.08153533664138735, 'max_depth': 9, 'min_child_weight': 63, 'max_delta_step': 1, 'subsample': 0.954392085940518, 'gamma': 14, 'lambda': 9, 'alpha': 24.649403764236688, 'eta': 0.6691217414528907}. Best is trial 34 with value: 0.22799999999999998.\n",
      "[I 2024-04-11 15:58:16,579] Trial 35 finished with value: 0.23799582463465552 and parameters: {'n_estimators': 166, 'learning_rate': 0.07944182846159165, 'max_depth': 8, 'min_child_weight': 65, 'max_delta_step': 1, 'subsample': 0.9600880481309546, 'gamma': 14, 'lambda': 0, 'alpha': 22.326118973011475, 'eta': 0.6841582612604427}. Best is trial 35 with value: 0.23799582463465552.\n",
      "[I 2024-04-11 15:59:08,970] Trial 36 finished with value: 0.2384937238493724 and parameters: {'n_estimators': 182, 'learning_rate': 0.07869850635168539, 'max_depth': 8, 'min_child_weight': 64, 'max_delta_step': 1, 'subsample': 0.9735021941476274, 'gamma': 13, 'lambda': 1, 'alpha': 21.50273333505141, 'eta': 0.6612855330836152}. Best is trial 36 with value: 0.2384937238493724.\n",
      "[I 2024-04-11 16:00:05,805] Trial 37 finished with value: 0.2596810933940774 and parameters: {'n_estimators': 196, 'learning_rate': 0.07572925368554614, 'max_depth': 7, 'min_child_weight': 71, 'max_delta_step': 1, 'subsample': 0.9676994212036928, 'gamma': 0, 'lambda': 1, 'alpha': 9.783895463498364, 'eta': 0.5731048226614238}. Best is trial 37 with value: 0.2596810933940774.\n",
      "[I 2024-04-11 16:00:58,910] Trial 38 finished with value: 0.1778471138845554 and parameters: {'n_estimators': 187, 'learning_rate': 0.07179299118784098, 'max_depth': 6, 'min_child_weight': 70, 'max_delta_step': 1, 'subsample': 0.9697131492245348, 'gamma': 0, 'lambda': 1, 'alpha': 13.203433229168422, 'eta': 0.7078203857690053}. Best is trial 37 with value: 0.2596810933940774.\n",
      "[I 2024-04-11 16:01:54,102] Trial 39 finished with value: 0.2321792260692464 and parameters: {'n_estimators': 199, 'learning_rate': 0.07754019012328532, 'max_depth': 7, 'min_child_weight': 79, 'max_delta_step': 1, 'subsample': 0.9662520393177779, 'gamma': 14, 'lambda': 0, 'alpha': 6.614354188341224, 'eta': 0.5753073633498141}. Best is trial 37 with value: 0.2596810933940774.\n",
      "[I 2024-04-11 16:02:52,759] Trial 40 finished with value: 0.14559386973180077 and parameters: {'n_estimators': 200, 'learning_rate': 0.05576217099318487, 'max_depth': 7, 'min_child_weight': 79, 'max_delta_step': 7, 'subsample': 0.8744120108817489, 'gamma': 10, 'lambda': 0, 'alpha': 12.377904970361396, 'eta': 0.48195179618101586}. Best is trial 37 with value: 0.2596810933940774.\n",
      "[I 2024-04-11 16:03:49,050] Trial 41 finished with value: 0.21468926553672318 and parameters: {'n_estimators': 187, 'learning_rate': 0.07837226855137905, 'max_depth': 7, 'min_child_weight': 78, 'max_delta_step': 1, 'subsample': 0.9640739268080226, 'gamma': 0, 'lambda': 8, 'alpha': 7.840912337011277, 'eta': 0.5695085587119018}. Best is trial 37 with value: 0.2596810933940774.\n",
      "[I 2024-04-11 16:04:43,974] Trial 42 finished with value: 0.1291053227633069 and parameters: {'n_estimators': 189, 'learning_rate': 0.06646261196138734, 'max_depth': 6, 'min_child_weight': 84, 'max_delta_step': 1, 'subsample': 0.9731581370264143, 'gamma': 14, 'lambda': 4, 'alpha': 21.257735738355052, 'eta': 0.6494392013315482}. Best is trial 37 with value: 0.2596810933940774.\n",
      "[I 2024-04-11 16:05:38,108] Trial 43 finished with value: 0.24307036247334754 and parameters: {'n_estimators': 181, 'learning_rate': 0.07537134833419842, 'max_depth': 7, 'min_child_weight': 70, 'max_delta_step': 1, 'subsample': 0.9096283150309454, 'gamma': 11, 'lambda': 12, 'alpha': 6.216834034713777, 'eta': 0.4979171307123311}. Best is trial 37 with value: 0.2596810933940774.\n",
      "[I 2024-04-11 16:06:29,389] Trial 44 finished with value: 0.10584958217270195 and parameters: {'n_estimators': 169, 'learning_rate': 0.0761056911810632, 'max_depth': 5, 'min_child_weight': 69, 'max_delta_step': 1, 'subsample': 0.9102181427548868, 'gamma': 5, 'lambda': 13, 'alpha': 6.326211253769991, 'eta': 0.3058360846670077}. Best is trial 37 with value: 0.2596810933940774.\n",
      "[I 2024-04-11 16:07:25,323] Trial 45 finished with value: 0.252212389380531 and parameters: {'n_estimators': 193, 'learning_rate': 0.07393157918568204, 'max_depth': 7, 'min_child_weight': 76, 'max_delta_step': 1, 'subsample': 0.9310440598958886, 'gamma': 11, 'lambda': 2, 'alpha': 5.838163463408354, 'eta': 0.5230629540661262}. Best is trial 37 with value: 0.2596810933940774.\n",
      "[I 2024-04-11 16:08:20,006] Trial 46 finished with value: 0.13885505481120583 and parameters: {'n_estimators': 192, 'learning_rate': 0.05992688924325854, 'max_depth': 6, 'min_child_weight': 74, 'max_delta_step': 2, 'subsample': 0.9281025267319235, 'gamma': 8, 'lambda': 5, 'alpha': 0.2992031396764654, 'eta': 0.5051829899007946}. Best is trial 37 with value: 0.2596810933940774.\n",
      "[I 2024-04-11 16:09:14,617] Trial 47 finished with value: 0.1642651296829971 and parameters: {'n_estimators': 179, 'learning_rate': 0.06720266959665631, 'max_depth': 7, 'min_child_weight': 86, 'max_delta_step': 1, 'subsample': 0.8899170733633449, 'gamma': 20, 'lambda': 11, 'alpha': 12.732677007705194, 'eta': 0.4093085439416839}. Best is trial 37 with value: 0.2596810933940774.\n",
      "[I 2024-04-11 16:10:10,192] Trial 48 finished with value: 0.18387096774193548 and parameters: {'n_estimators': 181, 'learning_rate': 0.05096581424088313, 'max_depth': 8, 'min_child_weight': 54, 'max_delta_step': 10, 'subsample': 0.8576546949121187, 'gamma': 1, 'lambda': 5, 'alpha': 4.823536140944146, 'eta': 0.5213000299563273}. Best is trial 37 with value: 0.2596810933940774.\n",
      "[I 2024-04-11 16:11:03,268] Trial 49 finished with value: 0.0061795316565481356 and parameters: {'n_estimators': 169, 'learning_rate': 0.03260018674047291, 'max_depth': 5, 'min_child_weight': 92, 'max_delta_step': 3, 'subsample': 0.992863815754344, 'gamma': 100, 'lambda': 14, 'alpha': 20.710844204864955, 'eta': 0.4015058272335631}. Best is trial 37 with value: 0.2596810933940774.\n"
     ]
    }
   ],
   "source": [
    "# 創建 Optuna study\n",
    "log = []\n",
    "study = optuna.create_study(direction='maximize', pruner=optuna.pruners.MedianPruner(n_warmup_steps=5))\n",
    "\n",
    "# 開始優化\n",
    "study.optimize(objective_xgb, n_trials=50, n_jobs=1) # "
   ]
  },
  {
   "cell_type": "code",
   "execution_count": 78,
   "metadata": {},
   "outputs": [
    {
     "data": {
      "application/vnd.plotly.v1+json": {
       "config": {
        "plotlyServerURL": "https://plot.ly"
       },
       "data": [
        {
         "cliponaxis": false,
         "hovertemplate": [
          "max_delta_step (IntDistribution): 0.004871478134359026<extra></extra>",
          "eta (FloatDistribution): 0.0051875405090154635<extra></extra>",
          "lambda (IntDistribution): 0.007687911712366691<extra></extra>",
          "gamma (IntDistribution): 0.009790199882503904<extra></extra>",
          "alpha (FloatDistribution): 0.011555580650471367<extra></extra>",
          "min_child_weight (IntDistribution): 0.01665363933197219<extra></extra>",
          "subsample (FloatDistribution): 0.0352532372822336<extra></extra>",
          "n_estimators (IntDistribution): 0.04639156348279363<extra></extra>",
          "max_depth (IntDistribution): 0.19068021131263546<extra></extra>",
          "learning_rate (FloatDistribution): 0.6719286377016486<extra></extra>"
         ],
         "name": "Objective Value",
         "orientation": "h",
         "text": [
          "<0.01",
          "<0.01",
          "<0.01",
          "<0.01",
          "0.01",
          "0.02",
          "0.04",
          "0.05",
          "0.19",
          "0.67"
         ],
         "textposition": "outside",
         "type": "bar",
         "x": [
          0.004871478134359026,
          0.0051875405090154635,
          0.007687911712366691,
          0.009790199882503904,
          0.011555580650471367,
          0.01665363933197219,
          0.0352532372822336,
          0.04639156348279363,
          0.19068021131263546,
          0.6719286377016486
         ],
         "y": [
          "max_delta_step",
          "eta",
          "lambda",
          "gamma",
          "alpha",
          "min_child_weight",
          "subsample",
          "n_estimators",
          "max_depth",
          "learning_rate"
         ]
        }
       ],
       "layout": {
        "template": {
         "data": {
          "bar": [
           {
            "error_x": {
             "color": "#2a3f5f"
            },
            "error_y": {
             "color": "#2a3f5f"
            },
            "marker": {
             "line": {
              "color": "#E5ECF6",
              "width": 0.5
             },
             "pattern": {
              "fillmode": "overlay",
              "size": 10,
              "solidity": 0.2
             }
            },
            "type": "bar"
           }
          ],
          "barpolar": [
           {
            "marker": {
             "line": {
              "color": "#E5ECF6",
              "width": 0.5
             },
             "pattern": {
              "fillmode": "overlay",
              "size": 10,
              "solidity": 0.2
             }
            },
            "type": "barpolar"
           }
          ],
          "carpet": [
           {
            "aaxis": {
             "endlinecolor": "#2a3f5f",
             "gridcolor": "white",
             "linecolor": "white",
             "minorgridcolor": "white",
             "startlinecolor": "#2a3f5f"
            },
            "baxis": {
             "endlinecolor": "#2a3f5f",
             "gridcolor": "white",
             "linecolor": "white",
             "minorgridcolor": "white",
             "startlinecolor": "#2a3f5f"
            },
            "type": "carpet"
           }
          ],
          "choropleth": [
           {
            "colorbar": {
             "outlinewidth": 0,
             "ticks": ""
            },
            "type": "choropleth"
           }
          ],
          "contour": [
           {
            "colorbar": {
             "outlinewidth": 0,
             "ticks": ""
            },
            "colorscale": [
             [
              0,
              "#0d0887"
             ],
             [
              0.1111111111111111,
              "#46039f"
             ],
             [
              0.2222222222222222,
              "#7201a8"
             ],
             [
              0.3333333333333333,
              "#9c179e"
             ],
             [
              0.4444444444444444,
              "#bd3786"
             ],
             [
              0.5555555555555556,
              "#d8576b"
             ],
             [
              0.6666666666666666,
              "#ed7953"
             ],
             [
              0.7777777777777778,
              "#fb9f3a"
             ],
             [
              0.8888888888888888,
              "#fdca26"
             ],
             [
              1,
              "#f0f921"
             ]
            ],
            "type": "contour"
           }
          ],
          "contourcarpet": [
           {
            "colorbar": {
             "outlinewidth": 0,
             "ticks": ""
            },
            "type": "contourcarpet"
           }
          ],
          "heatmap": [
           {
            "colorbar": {
             "outlinewidth": 0,
             "ticks": ""
            },
            "colorscale": [
             [
              0,
              "#0d0887"
             ],
             [
              0.1111111111111111,
              "#46039f"
             ],
             [
              0.2222222222222222,
              "#7201a8"
             ],
             [
              0.3333333333333333,
              "#9c179e"
             ],
             [
              0.4444444444444444,
              "#bd3786"
             ],
             [
              0.5555555555555556,
              "#d8576b"
             ],
             [
              0.6666666666666666,
              "#ed7953"
             ],
             [
              0.7777777777777778,
              "#fb9f3a"
             ],
             [
              0.8888888888888888,
              "#fdca26"
             ],
             [
              1,
              "#f0f921"
             ]
            ],
            "type": "heatmap"
           }
          ],
          "heatmapgl": [
           {
            "colorbar": {
             "outlinewidth": 0,
             "ticks": ""
            },
            "colorscale": [
             [
              0,
              "#0d0887"
             ],
             [
              0.1111111111111111,
              "#46039f"
             ],
             [
              0.2222222222222222,
              "#7201a8"
             ],
             [
              0.3333333333333333,
              "#9c179e"
             ],
             [
              0.4444444444444444,
              "#bd3786"
             ],
             [
              0.5555555555555556,
              "#d8576b"
             ],
             [
              0.6666666666666666,
              "#ed7953"
             ],
             [
              0.7777777777777778,
              "#fb9f3a"
             ],
             [
              0.8888888888888888,
              "#fdca26"
             ],
             [
              1,
              "#f0f921"
             ]
            ],
            "type": "heatmapgl"
           }
          ],
          "histogram": [
           {
            "marker": {
             "pattern": {
              "fillmode": "overlay",
              "size": 10,
              "solidity": 0.2
             }
            },
            "type": "histogram"
           }
          ],
          "histogram2d": [
           {
            "colorbar": {
             "outlinewidth": 0,
             "ticks": ""
            },
            "colorscale": [
             [
              0,
              "#0d0887"
             ],
             [
              0.1111111111111111,
              "#46039f"
             ],
             [
              0.2222222222222222,
              "#7201a8"
             ],
             [
              0.3333333333333333,
              "#9c179e"
             ],
             [
              0.4444444444444444,
              "#bd3786"
             ],
             [
              0.5555555555555556,
              "#d8576b"
             ],
             [
              0.6666666666666666,
              "#ed7953"
             ],
             [
              0.7777777777777778,
              "#fb9f3a"
             ],
             [
              0.8888888888888888,
              "#fdca26"
             ],
             [
              1,
              "#f0f921"
             ]
            ],
            "type": "histogram2d"
           }
          ],
          "histogram2dcontour": [
           {
            "colorbar": {
             "outlinewidth": 0,
             "ticks": ""
            },
            "colorscale": [
             [
              0,
              "#0d0887"
             ],
             [
              0.1111111111111111,
              "#46039f"
             ],
             [
              0.2222222222222222,
              "#7201a8"
             ],
             [
              0.3333333333333333,
              "#9c179e"
             ],
             [
              0.4444444444444444,
              "#bd3786"
             ],
             [
              0.5555555555555556,
              "#d8576b"
             ],
             [
              0.6666666666666666,
              "#ed7953"
             ],
             [
              0.7777777777777778,
              "#fb9f3a"
             ],
             [
              0.8888888888888888,
              "#fdca26"
             ],
             [
              1,
              "#f0f921"
             ]
            ],
            "type": "histogram2dcontour"
           }
          ],
          "mesh3d": [
           {
            "colorbar": {
             "outlinewidth": 0,
             "ticks": ""
            },
            "type": "mesh3d"
           }
          ],
          "parcoords": [
           {
            "line": {
             "colorbar": {
              "outlinewidth": 0,
              "ticks": ""
             }
            },
            "type": "parcoords"
           }
          ],
          "pie": [
           {
            "automargin": true,
            "type": "pie"
           }
          ],
          "scatter": [
           {
            "fillpattern": {
             "fillmode": "overlay",
             "size": 10,
             "solidity": 0.2
            },
            "type": "scatter"
           }
          ],
          "scatter3d": [
           {
            "line": {
             "colorbar": {
              "outlinewidth": 0,
              "ticks": ""
             }
            },
            "marker": {
             "colorbar": {
              "outlinewidth": 0,
              "ticks": ""
             }
            },
            "type": "scatter3d"
           }
          ],
          "scattercarpet": [
           {
            "marker": {
             "colorbar": {
              "outlinewidth": 0,
              "ticks": ""
             }
            },
            "type": "scattercarpet"
           }
          ],
          "scattergeo": [
           {
            "marker": {
             "colorbar": {
              "outlinewidth": 0,
              "ticks": ""
             }
            },
            "type": "scattergeo"
           }
          ],
          "scattergl": [
           {
            "marker": {
             "colorbar": {
              "outlinewidth": 0,
              "ticks": ""
             }
            },
            "type": "scattergl"
           }
          ],
          "scattermapbox": [
           {
            "marker": {
             "colorbar": {
              "outlinewidth": 0,
              "ticks": ""
             }
            },
            "type": "scattermapbox"
           }
          ],
          "scatterpolar": [
           {
            "marker": {
             "colorbar": {
              "outlinewidth": 0,
              "ticks": ""
             }
            },
            "type": "scatterpolar"
           }
          ],
          "scatterpolargl": [
           {
            "marker": {
             "colorbar": {
              "outlinewidth": 0,
              "ticks": ""
             }
            },
            "type": "scatterpolargl"
           }
          ],
          "scatterternary": [
           {
            "marker": {
             "colorbar": {
              "outlinewidth": 0,
              "ticks": ""
             }
            },
            "type": "scatterternary"
           }
          ],
          "surface": [
           {
            "colorbar": {
             "outlinewidth": 0,
             "ticks": ""
            },
            "colorscale": [
             [
              0,
              "#0d0887"
             ],
             [
              0.1111111111111111,
              "#46039f"
             ],
             [
              0.2222222222222222,
              "#7201a8"
             ],
             [
              0.3333333333333333,
              "#9c179e"
             ],
             [
              0.4444444444444444,
              "#bd3786"
             ],
             [
              0.5555555555555556,
              "#d8576b"
             ],
             [
              0.6666666666666666,
              "#ed7953"
             ],
             [
              0.7777777777777778,
              "#fb9f3a"
             ],
             [
              0.8888888888888888,
              "#fdca26"
             ],
             [
              1,
              "#f0f921"
             ]
            ],
            "type": "surface"
           }
          ],
          "table": [
           {
            "cells": {
             "fill": {
              "color": "#EBF0F8"
             },
             "line": {
              "color": "white"
             }
            },
            "header": {
             "fill": {
              "color": "#C8D4E3"
             },
             "line": {
              "color": "white"
             }
            },
            "type": "table"
           }
          ]
         },
         "layout": {
          "annotationdefaults": {
           "arrowcolor": "#2a3f5f",
           "arrowhead": 0,
           "arrowwidth": 1
          },
          "autotypenumbers": "strict",
          "coloraxis": {
           "colorbar": {
            "outlinewidth": 0,
            "ticks": ""
           }
          },
          "colorscale": {
           "diverging": [
            [
             0,
             "#8e0152"
            ],
            [
             0.1,
             "#c51b7d"
            ],
            [
             0.2,
             "#de77ae"
            ],
            [
             0.3,
             "#f1b6da"
            ],
            [
             0.4,
             "#fde0ef"
            ],
            [
             0.5,
             "#f7f7f7"
            ],
            [
             0.6,
             "#e6f5d0"
            ],
            [
             0.7,
             "#b8e186"
            ],
            [
             0.8,
             "#7fbc41"
            ],
            [
             0.9,
             "#4d9221"
            ],
            [
             1,
             "#276419"
            ]
           ],
           "sequential": [
            [
             0,
             "#0d0887"
            ],
            [
             0.1111111111111111,
             "#46039f"
            ],
            [
             0.2222222222222222,
             "#7201a8"
            ],
            [
             0.3333333333333333,
             "#9c179e"
            ],
            [
             0.4444444444444444,
             "#bd3786"
            ],
            [
             0.5555555555555556,
             "#d8576b"
            ],
            [
             0.6666666666666666,
             "#ed7953"
            ],
            [
             0.7777777777777778,
             "#fb9f3a"
            ],
            [
             0.8888888888888888,
             "#fdca26"
            ],
            [
             1,
             "#f0f921"
            ]
           ],
           "sequentialminus": [
            [
             0,
             "#0d0887"
            ],
            [
             0.1111111111111111,
             "#46039f"
            ],
            [
             0.2222222222222222,
             "#7201a8"
            ],
            [
             0.3333333333333333,
             "#9c179e"
            ],
            [
             0.4444444444444444,
             "#bd3786"
            ],
            [
             0.5555555555555556,
             "#d8576b"
            ],
            [
             0.6666666666666666,
             "#ed7953"
            ],
            [
             0.7777777777777778,
             "#fb9f3a"
            ],
            [
             0.8888888888888888,
             "#fdca26"
            ],
            [
             1,
             "#f0f921"
            ]
           ]
          },
          "colorway": [
           "#636efa",
           "#EF553B",
           "#00cc96",
           "#ab63fa",
           "#FFA15A",
           "#19d3f3",
           "#FF6692",
           "#B6E880",
           "#FF97FF",
           "#FECB52"
          ],
          "font": {
           "color": "#2a3f5f"
          },
          "geo": {
           "bgcolor": "white",
           "lakecolor": "white",
           "landcolor": "#E5ECF6",
           "showlakes": true,
           "showland": true,
           "subunitcolor": "white"
          },
          "hoverlabel": {
           "align": "left"
          },
          "hovermode": "closest",
          "mapbox": {
           "style": "light"
          },
          "paper_bgcolor": "white",
          "plot_bgcolor": "#E5ECF6",
          "polar": {
           "angularaxis": {
            "gridcolor": "white",
            "linecolor": "white",
            "ticks": ""
           },
           "bgcolor": "#E5ECF6",
           "radialaxis": {
            "gridcolor": "white",
            "linecolor": "white",
            "ticks": ""
           }
          },
          "scene": {
           "xaxis": {
            "backgroundcolor": "#E5ECF6",
            "gridcolor": "white",
            "gridwidth": 2,
            "linecolor": "white",
            "showbackground": true,
            "ticks": "",
            "zerolinecolor": "white"
           },
           "yaxis": {
            "backgroundcolor": "#E5ECF6",
            "gridcolor": "white",
            "gridwidth": 2,
            "linecolor": "white",
            "showbackground": true,
            "ticks": "",
            "zerolinecolor": "white"
           },
           "zaxis": {
            "backgroundcolor": "#E5ECF6",
            "gridcolor": "white",
            "gridwidth": 2,
            "linecolor": "white",
            "showbackground": true,
            "ticks": "",
            "zerolinecolor": "white"
           }
          },
          "shapedefaults": {
           "line": {
            "color": "#2a3f5f"
           }
          },
          "ternary": {
           "aaxis": {
            "gridcolor": "white",
            "linecolor": "white",
            "ticks": ""
           },
           "baxis": {
            "gridcolor": "white",
            "linecolor": "white",
            "ticks": ""
           },
           "bgcolor": "#E5ECF6",
           "caxis": {
            "gridcolor": "white",
            "linecolor": "white",
            "ticks": ""
           }
          },
          "title": {
           "x": 0.05
          },
          "xaxis": {
           "automargin": true,
           "gridcolor": "white",
           "linecolor": "white",
           "ticks": "",
           "title": {
            "standoff": 15
           },
           "zerolinecolor": "white",
           "zerolinewidth": 2
          },
          "yaxis": {
           "automargin": true,
           "gridcolor": "white",
           "linecolor": "white",
           "ticks": "",
           "title": {
            "standoff": 15
           },
           "zerolinecolor": "white",
           "zerolinewidth": 2
          }
         }
        },
        "title": {
         "text": "Hyperparameter Importances"
        },
        "xaxis": {
         "title": {
          "text": "Hyperparameter Importance"
         }
        },
        "yaxis": {
         "title": {
          "text": "Hyperparameter"
         }
        }
       }
      }
     },
     "metadata": {},
     "output_type": "display_data"
    }
   ],
   "source": [
    "# Perform importance analysis\n",
    "from optuna.visualization import plot_param_importances\n",
    "plot_param_importances(study)"
   ]
  },
  {
   "cell_type": "code",
   "execution_count": 79,
   "metadata": {},
   "outputs": [
    {
     "data": {
      "application/vnd.plotly.v1+json": {
       "config": {
        "plotlyServerURL": "https://plot.ly"
       },
       "data": [
        {
         "cliponaxis": false,
         "hovertemplate": [
          "gamma (IntDistribution): 0.005199828261470315<extra></extra>",
          "max_depth (IntDistribution): 0.007230091751380176<extra></extra>",
          "max_delta_step (IntDistribution): 0.007408443619324878<extra></extra>",
          "subsample (FloatDistribution): 0.013539745480828414<extra></extra>",
          "lambda (IntDistribution): 0.013894886926636733<extra></extra>",
          "eta (FloatDistribution): 0.026297889200632082<extra></extra>",
          "min_child_weight (IntDistribution): 0.027736931445379483<extra></extra>",
          "alpha (FloatDistribution): 0.045284175899025635<extra></extra>",
          "learning_rate (FloatDistribution): 0.04926860863834643<extra></extra>",
          "n_estimators (IntDistribution): 0.8041393987769756<extra></extra>"
         ],
         "name": "duration",
         "orientation": "h",
         "text": [
          "<0.01",
          "<0.01",
          "<0.01",
          "0.01",
          "0.01",
          "0.03",
          "0.03",
          "0.05",
          "0.05",
          "0.80"
         ],
         "textposition": "outside",
         "type": "bar",
         "x": [
          0.005199828261470315,
          0.007230091751380176,
          0.007408443619324878,
          0.013539745480828414,
          0.013894886926636733,
          0.026297889200632082,
          0.027736931445379483,
          0.045284175899025635,
          0.04926860863834643,
          0.8041393987769756
         ],
         "y": [
          "gamma",
          "max_depth",
          "max_delta_step",
          "subsample",
          "lambda",
          "eta",
          "min_child_weight",
          "alpha",
          "learning_rate",
          "n_estimators"
         ]
        }
       ],
       "layout": {
        "template": {
         "data": {
          "bar": [
           {
            "error_x": {
             "color": "#2a3f5f"
            },
            "error_y": {
             "color": "#2a3f5f"
            },
            "marker": {
             "line": {
              "color": "#E5ECF6",
              "width": 0.5
             },
             "pattern": {
              "fillmode": "overlay",
              "size": 10,
              "solidity": 0.2
             }
            },
            "type": "bar"
           }
          ],
          "barpolar": [
           {
            "marker": {
             "line": {
              "color": "#E5ECF6",
              "width": 0.5
             },
             "pattern": {
              "fillmode": "overlay",
              "size": 10,
              "solidity": 0.2
             }
            },
            "type": "barpolar"
           }
          ],
          "carpet": [
           {
            "aaxis": {
             "endlinecolor": "#2a3f5f",
             "gridcolor": "white",
             "linecolor": "white",
             "minorgridcolor": "white",
             "startlinecolor": "#2a3f5f"
            },
            "baxis": {
             "endlinecolor": "#2a3f5f",
             "gridcolor": "white",
             "linecolor": "white",
             "minorgridcolor": "white",
             "startlinecolor": "#2a3f5f"
            },
            "type": "carpet"
           }
          ],
          "choropleth": [
           {
            "colorbar": {
             "outlinewidth": 0,
             "ticks": ""
            },
            "type": "choropleth"
           }
          ],
          "contour": [
           {
            "colorbar": {
             "outlinewidth": 0,
             "ticks": ""
            },
            "colorscale": [
             [
              0,
              "#0d0887"
             ],
             [
              0.1111111111111111,
              "#46039f"
             ],
             [
              0.2222222222222222,
              "#7201a8"
             ],
             [
              0.3333333333333333,
              "#9c179e"
             ],
             [
              0.4444444444444444,
              "#bd3786"
             ],
             [
              0.5555555555555556,
              "#d8576b"
             ],
             [
              0.6666666666666666,
              "#ed7953"
             ],
             [
              0.7777777777777778,
              "#fb9f3a"
             ],
             [
              0.8888888888888888,
              "#fdca26"
             ],
             [
              1,
              "#f0f921"
             ]
            ],
            "type": "contour"
           }
          ],
          "contourcarpet": [
           {
            "colorbar": {
             "outlinewidth": 0,
             "ticks": ""
            },
            "type": "contourcarpet"
           }
          ],
          "heatmap": [
           {
            "colorbar": {
             "outlinewidth": 0,
             "ticks": ""
            },
            "colorscale": [
             [
              0,
              "#0d0887"
             ],
             [
              0.1111111111111111,
              "#46039f"
             ],
             [
              0.2222222222222222,
              "#7201a8"
             ],
             [
              0.3333333333333333,
              "#9c179e"
             ],
             [
              0.4444444444444444,
              "#bd3786"
             ],
             [
              0.5555555555555556,
              "#d8576b"
             ],
             [
              0.6666666666666666,
              "#ed7953"
             ],
             [
              0.7777777777777778,
              "#fb9f3a"
             ],
             [
              0.8888888888888888,
              "#fdca26"
             ],
             [
              1,
              "#f0f921"
             ]
            ],
            "type": "heatmap"
           }
          ],
          "heatmapgl": [
           {
            "colorbar": {
             "outlinewidth": 0,
             "ticks": ""
            },
            "colorscale": [
             [
              0,
              "#0d0887"
             ],
             [
              0.1111111111111111,
              "#46039f"
             ],
             [
              0.2222222222222222,
              "#7201a8"
             ],
             [
              0.3333333333333333,
              "#9c179e"
             ],
             [
              0.4444444444444444,
              "#bd3786"
             ],
             [
              0.5555555555555556,
              "#d8576b"
             ],
             [
              0.6666666666666666,
              "#ed7953"
             ],
             [
              0.7777777777777778,
              "#fb9f3a"
             ],
             [
              0.8888888888888888,
              "#fdca26"
             ],
             [
              1,
              "#f0f921"
             ]
            ],
            "type": "heatmapgl"
           }
          ],
          "histogram": [
           {
            "marker": {
             "pattern": {
              "fillmode": "overlay",
              "size": 10,
              "solidity": 0.2
             }
            },
            "type": "histogram"
           }
          ],
          "histogram2d": [
           {
            "colorbar": {
             "outlinewidth": 0,
             "ticks": ""
            },
            "colorscale": [
             [
              0,
              "#0d0887"
             ],
             [
              0.1111111111111111,
              "#46039f"
             ],
             [
              0.2222222222222222,
              "#7201a8"
             ],
             [
              0.3333333333333333,
              "#9c179e"
             ],
             [
              0.4444444444444444,
              "#bd3786"
             ],
             [
              0.5555555555555556,
              "#d8576b"
             ],
             [
              0.6666666666666666,
              "#ed7953"
             ],
             [
              0.7777777777777778,
              "#fb9f3a"
             ],
             [
              0.8888888888888888,
              "#fdca26"
             ],
             [
              1,
              "#f0f921"
             ]
            ],
            "type": "histogram2d"
           }
          ],
          "histogram2dcontour": [
           {
            "colorbar": {
             "outlinewidth": 0,
             "ticks": ""
            },
            "colorscale": [
             [
              0,
              "#0d0887"
             ],
             [
              0.1111111111111111,
              "#46039f"
             ],
             [
              0.2222222222222222,
              "#7201a8"
             ],
             [
              0.3333333333333333,
              "#9c179e"
             ],
             [
              0.4444444444444444,
              "#bd3786"
             ],
             [
              0.5555555555555556,
              "#d8576b"
             ],
             [
              0.6666666666666666,
              "#ed7953"
             ],
             [
              0.7777777777777778,
              "#fb9f3a"
             ],
             [
              0.8888888888888888,
              "#fdca26"
             ],
             [
              1,
              "#f0f921"
             ]
            ],
            "type": "histogram2dcontour"
           }
          ],
          "mesh3d": [
           {
            "colorbar": {
             "outlinewidth": 0,
             "ticks": ""
            },
            "type": "mesh3d"
           }
          ],
          "parcoords": [
           {
            "line": {
             "colorbar": {
              "outlinewidth": 0,
              "ticks": ""
             }
            },
            "type": "parcoords"
           }
          ],
          "pie": [
           {
            "automargin": true,
            "type": "pie"
           }
          ],
          "scatter": [
           {
            "fillpattern": {
             "fillmode": "overlay",
             "size": 10,
             "solidity": 0.2
            },
            "type": "scatter"
           }
          ],
          "scatter3d": [
           {
            "line": {
             "colorbar": {
              "outlinewidth": 0,
              "ticks": ""
             }
            },
            "marker": {
             "colorbar": {
              "outlinewidth": 0,
              "ticks": ""
             }
            },
            "type": "scatter3d"
           }
          ],
          "scattercarpet": [
           {
            "marker": {
             "colorbar": {
              "outlinewidth": 0,
              "ticks": ""
             }
            },
            "type": "scattercarpet"
           }
          ],
          "scattergeo": [
           {
            "marker": {
             "colorbar": {
              "outlinewidth": 0,
              "ticks": ""
             }
            },
            "type": "scattergeo"
           }
          ],
          "scattergl": [
           {
            "marker": {
             "colorbar": {
              "outlinewidth": 0,
              "ticks": ""
             }
            },
            "type": "scattergl"
           }
          ],
          "scattermapbox": [
           {
            "marker": {
             "colorbar": {
              "outlinewidth": 0,
              "ticks": ""
             }
            },
            "type": "scattermapbox"
           }
          ],
          "scatterpolar": [
           {
            "marker": {
             "colorbar": {
              "outlinewidth": 0,
              "ticks": ""
             }
            },
            "type": "scatterpolar"
           }
          ],
          "scatterpolargl": [
           {
            "marker": {
             "colorbar": {
              "outlinewidth": 0,
              "ticks": ""
             }
            },
            "type": "scatterpolargl"
           }
          ],
          "scatterternary": [
           {
            "marker": {
             "colorbar": {
              "outlinewidth": 0,
              "ticks": ""
             }
            },
            "type": "scatterternary"
           }
          ],
          "surface": [
           {
            "colorbar": {
             "outlinewidth": 0,
             "ticks": ""
            },
            "colorscale": [
             [
              0,
              "#0d0887"
             ],
             [
              0.1111111111111111,
              "#46039f"
             ],
             [
              0.2222222222222222,
              "#7201a8"
             ],
             [
              0.3333333333333333,
              "#9c179e"
             ],
             [
              0.4444444444444444,
              "#bd3786"
             ],
             [
              0.5555555555555556,
              "#d8576b"
             ],
             [
              0.6666666666666666,
              "#ed7953"
             ],
             [
              0.7777777777777778,
              "#fb9f3a"
             ],
             [
              0.8888888888888888,
              "#fdca26"
             ],
             [
              1,
              "#f0f921"
             ]
            ],
            "type": "surface"
           }
          ],
          "table": [
           {
            "cells": {
             "fill": {
              "color": "#EBF0F8"
             },
             "line": {
              "color": "white"
             }
            },
            "header": {
             "fill": {
              "color": "#C8D4E3"
             },
             "line": {
              "color": "white"
             }
            },
            "type": "table"
           }
          ]
         },
         "layout": {
          "annotationdefaults": {
           "arrowcolor": "#2a3f5f",
           "arrowhead": 0,
           "arrowwidth": 1
          },
          "autotypenumbers": "strict",
          "coloraxis": {
           "colorbar": {
            "outlinewidth": 0,
            "ticks": ""
           }
          },
          "colorscale": {
           "diverging": [
            [
             0,
             "#8e0152"
            ],
            [
             0.1,
             "#c51b7d"
            ],
            [
             0.2,
             "#de77ae"
            ],
            [
             0.3,
             "#f1b6da"
            ],
            [
             0.4,
             "#fde0ef"
            ],
            [
             0.5,
             "#f7f7f7"
            ],
            [
             0.6,
             "#e6f5d0"
            ],
            [
             0.7,
             "#b8e186"
            ],
            [
             0.8,
             "#7fbc41"
            ],
            [
             0.9,
             "#4d9221"
            ],
            [
             1,
             "#276419"
            ]
           ],
           "sequential": [
            [
             0,
             "#0d0887"
            ],
            [
             0.1111111111111111,
             "#46039f"
            ],
            [
             0.2222222222222222,
             "#7201a8"
            ],
            [
             0.3333333333333333,
             "#9c179e"
            ],
            [
             0.4444444444444444,
             "#bd3786"
            ],
            [
             0.5555555555555556,
             "#d8576b"
            ],
            [
             0.6666666666666666,
             "#ed7953"
            ],
            [
             0.7777777777777778,
             "#fb9f3a"
            ],
            [
             0.8888888888888888,
             "#fdca26"
            ],
            [
             1,
             "#f0f921"
            ]
           ],
           "sequentialminus": [
            [
             0,
             "#0d0887"
            ],
            [
             0.1111111111111111,
             "#46039f"
            ],
            [
             0.2222222222222222,
             "#7201a8"
            ],
            [
             0.3333333333333333,
             "#9c179e"
            ],
            [
             0.4444444444444444,
             "#bd3786"
            ],
            [
             0.5555555555555556,
             "#d8576b"
            ],
            [
             0.6666666666666666,
             "#ed7953"
            ],
            [
             0.7777777777777778,
             "#fb9f3a"
            ],
            [
             0.8888888888888888,
             "#fdca26"
            ],
            [
             1,
             "#f0f921"
            ]
           ]
          },
          "colorway": [
           "#636efa",
           "#EF553B",
           "#00cc96",
           "#ab63fa",
           "#FFA15A",
           "#19d3f3",
           "#FF6692",
           "#B6E880",
           "#FF97FF",
           "#FECB52"
          ],
          "font": {
           "color": "#2a3f5f"
          },
          "geo": {
           "bgcolor": "white",
           "lakecolor": "white",
           "landcolor": "#E5ECF6",
           "showlakes": true,
           "showland": true,
           "subunitcolor": "white"
          },
          "hoverlabel": {
           "align": "left"
          },
          "hovermode": "closest",
          "mapbox": {
           "style": "light"
          },
          "paper_bgcolor": "white",
          "plot_bgcolor": "#E5ECF6",
          "polar": {
           "angularaxis": {
            "gridcolor": "white",
            "linecolor": "white",
            "ticks": ""
           },
           "bgcolor": "#E5ECF6",
           "radialaxis": {
            "gridcolor": "white",
            "linecolor": "white",
            "ticks": ""
           }
          },
          "scene": {
           "xaxis": {
            "backgroundcolor": "#E5ECF6",
            "gridcolor": "white",
            "gridwidth": 2,
            "linecolor": "white",
            "showbackground": true,
            "ticks": "",
            "zerolinecolor": "white"
           },
           "yaxis": {
            "backgroundcolor": "#E5ECF6",
            "gridcolor": "white",
            "gridwidth": 2,
            "linecolor": "white",
            "showbackground": true,
            "ticks": "",
            "zerolinecolor": "white"
           },
           "zaxis": {
            "backgroundcolor": "#E5ECF6",
            "gridcolor": "white",
            "gridwidth": 2,
            "linecolor": "white",
            "showbackground": true,
            "ticks": "",
            "zerolinecolor": "white"
           }
          },
          "shapedefaults": {
           "line": {
            "color": "#2a3f5f"
           }
          },
          "ternary": {
           "aaxis": {
            "gridcolor": "white",
            "linecolor": "white",
            "ticks": ""
           },
           "baxis": {
            "gridcolor": "white",
            "linecolor": "white",
            "ticks": ""
           },
           "bgcolor": "#E5ECF6",
           "caxis": {
            "gridcolor": "white",
            "linecolor": "white",
            "ticks": ""
           }
          },
          "title": {
           "x": 0.05
          },
          "xaxis": {
           "automargin": true,
           "gridcolor": "white",
           "linecolor": "white",
           "ticks": "",
           "title": {
            "standoff": 15
           },
           "zerolinecolor": "white",
           "zerolinewidth": 2
          },
          "yaxis": {
           "automargin": true,
           "gridcolor": "white",
           "linecolor": "white",
           "ticks": "",
           "title": {
            "standoff": 15
           },
           "zerolinecolor": "white",
           "zerolinewidth": 2
          }
         }
        },
        "title": {
         "text": "Hyperparameter Importances"
        },
        "xaxis": {
         "title": {
          "text": "Hyperparameter Importance"
         }
        },
        "yaxis": {
         "title": {
          "text": "Hyperparameter"
         }
        }
       }
      }
     },
     "metadata": {},
     "output_type": "display_data"
    }
   ],
   "source": [
    "optuna.visualization.plot_param_importances(\n",
    "    study, target=lambda t: t.duration.total_seconds(), target_name=\"duration\"\n",
    ")"
   ]
  },
  {
   "cell_type": "code",
   "execution_count": 81,
   "metadata": {},
   "outputs": [
    {
     "data": {
      "text/html": [
       "<div>\n",
       "<style scoped>\n",
       "    .dataframe tbody tr th:only-of-type {\n",
       "        vertical-align: middle;\n",
       "    }\n",
       "\n",
       "    .dataframe tbody tr th {\n",
       "        vertical-align: top;\n",
       "    }\n",
       "\n",
       "    .dataframe thead th {\n",
       "        text-align: right;\n",
       "    }\n",
       "</style>\n",
       "<table border=\"1\" class=\"dataframe\">\n",
       "  <thead>\n",
       "    <tr style=\"text-align: right;\">\n",
       "      <th></th>\n",
       "      <th>Recall</th>\n",
       "      <th>Precision</th>\n",
       "      <th>Accuracy</th>\n",
       "      <th>F1score</th>\n",
       "      <th>params</th>\n",
       "    </tr>\n",
       "  </thead>\n",
       "  <tbody>\n",
       "    <tr>\n",
       "      <th>0</th>\n",
       "      <td>0.964912</td>\n",
       "      <td>0.000164</td>\n",
       "      <td>0.976173</td>\n",
       "      <td>0.000328</td>\n",
       "      <td>{'booster': 'gbtree', 'random_state': 42, 'obj...</td>\n",
       "    </tr>\n",
       "    <tr>\n",
       "      <th>1</th>\n",
       "      <td>1.000000</td>\n",
       "      <td>0.006590</td>\n",
       "      <td>0.999389</td>\n",
       "      <td>0.013094</td>\n",
       "      <td>{'booster': 'gbtree', 'random_state': 42, 'obj...</td>\n",
       "    </tr>\n",
       "    <tr>\n",
       "      <th>2</th>\n",
       "      <td>1.000000</td>\n",
       "      <td>0.001531</td>\n",
       "      <td>0.997355</td>\n",
       "      <td>0.003057</td>\n",
       "      <td>{'booster': 'gbtree', 'random_state': 42, 'obj...</td>\n",
       "    </tr>\n",
       "    <tr>\n",
       "      <th>3</th>\n",
       "      <td>1.000000</td>\n",
       "      <td>0.012777</td>\n",
       "      <td>0.999687</td>\n",
       "      <td>0.025232</td>\n",
       "      <td>{'booster': 'gbtree', 'random_state': 42, 'obj...</td>\n",
       "    </tr>\n",
       "    <tr>\n",
       "      <th>4</th>\n",
       "      <td>1.000000</td>\n",
       "      <td>0.064553</td>\n",
       "      <td>0.999941</td>\n",
       "      <td>0.121277</td>\n",
       "      <td>{'booster': 'gbtree', 'random_state': 42, 'obj...</td>\n",
       "    </tr>\n",
       "  </tbody>\n",
       "</table>\n",
       "</div>"
      ],
      "text/plain": [
       "     Recall  Precision  Accuracy   F1score  \\\n",
       "0  0.964912   0.000164  0.976173  0.000328   \n",
       "1  1.000000   0.006590  0.999389  0.013094   \n",
       "2  1.000000   0.001531  0.997355  0.003057   \n",
       "3  1.000000   0.012777  0.999687  0.025232   \n",
       "4  1.000000   0.064553  0.999941  0.121277   \n",
       "\n",
       "                                              params  \n",
       "0  {'booster': 'gbtree', 'random_state': 42, 'obj...  \n",
       "1  {'booster': 'gbtree', 'random_state': 42, 'obj...  \n",
       "2  {'booster': 'gbtree', 'random_state': 42, 'obj...  \n",
       "3  {'booster': 'gbtree', 'random_state': 42, 'obj...  \n",
       "4  {'booster': 'gbtree', 'random_state': 42, 'obj...  "
      ]
     },
     "execution_count": 81,
     "metadata": {},
     "output_type": "execute_result"
    }
   ],
   "source": [
    "df = pd.DataFrame(log)\n",
    "df.to_csv(ROOT_PATH + r\"\\03 Data\\Model_building\\XGB_50trial_log.csv\", index=False)\n",
    "df.head()"
   ]
  },
  {
   "cell_type": "markdown",
   "metadata": {},
   "source": [
    "#### Best parameter"
   ]
  },
  {
   "cell_type": "code",
   "execution_count": 86,
   "metadata": {},
   "outputs": [
    {
     "name": "stdout",
     "output_type": "stream",
     "text": [
      "Best Parameters: {'n_estimators': 196, 'learning_rate': 0.07572925368554614, 'max_depth': 7, 'min_child_weight': 71, 'max_delta_step': 1, 'subsample': 0.9676994212036928, 'gamma': 0, 'lambda': 1, 'alpha': 9.783895463498364, 'eta': 0.5731048226614238, 'booster': 'gbtree', 'random_state': 42, 'objective': 'binary:logistic', 'eval_metric': 'logloss', 'tree_method': 'hist', 'device': 'cuda'}\n"
     ]
    }
   ],
   "source": [
    "# 獲取最佳參數\n",
    "best_params = study.best_params\n",
    "params_fix = {\n",
    "        'booster': 'gbtree',\n",
    "        'random_state': 42,\n",
    "        'objective': 'binary:logistic',  # 二元分類問題\n",
    "        'eval_metric':  'logloss', \n",
    "        'tree_method': 'hist',  # 啟用 GPU 加速\n",
    "        'device': \"cuda\",\n",
    "    }\n",
    "best_params.update(params_fix)\n",
    "print(\"Best Parameters:\", best_params)\n",
    "\n",
    "# 使用最佳參數創建最終模型\n",
    "xgb_best_model = XGBClassifier(**best_params)\n",
    "xgb_best_model.fit(X_train, y_train)\n",
    "\n",
    "# 預測\n",
    "y_pred_xgbbest = xgb_best_model.predict(X_train)\n",
    "# y_pred_xgbbest = xgb_best_model.predict(X_test)\n"
   ]
  },
  {
   "cell_type": "code",
   "execution_count": 83,
   "metadata": {},
   "outputs": [
    {
     "name": "stderr",
     "output_type": "stream",
     "text": [
      "c:\\Users\\doit\\anaconda3\\envs\\practice_02\\Lib\\site-packages\\sklearn\\metrics\\_classification.py:1471: UndefinedMetricWarning:\n",
      "\n",
      "Precision is ill-defined and being set to 0.0 due to no predicted samples. Use `zero_division` parameter to control this behavior.\n",
      "\n"
     ]
    },
    {
     "name": "stdout",
     "output_type": "stream",
     "text": [
      "Accuracy: 0.9999959456720049\n",
      "F1 Score: 0.0\n",
      "Recall: 0.0\n",
      "Precision: 0.0\n",
      "訓練集 Accuracy:  0.9999959456720049\n"
     ]
    }
   ],
   "source": [
    "# 計算各項指標\n",
    "recall = recall_score(y_test, y_pred_xgbbest)\n",
    "f1 = f1_score(y_test, y_pred_xgbbest)\n",
    "accuracy = accuracy_score(y_test, y_pred_xgbbest)\n",
    "precision = precision_score(y_test, y_pred_xgbbest)\n",
    "print(f'Accuracy: {accuracy}')\n",
    "print(f'F1 Score: {f1}')\n",
    "print(f\"Recall: {recall}\")\n",
    "print(f\"Precision: {precision}\")\n",
    "print('訓練集 Accuracy: ',xgb_best_model.score(X_train,y_train))\n",
    "# print('測試集 Accuracy: ',xgb_best_model.score(X_test,y_pred_xgbbest))"
   ]
  },
  {
   "cell_type": "code",
   "execution_count": 38,
   "metadata": {},
   "outputs": [
    {
     "name": "stdout",
     "output_type": "stream",
     "text": [
      "              precision    recall  f1-score   support\n",
      "\n",
      "           0       1.00      1.00      1.00   6988392\n",
      "           1       1.00      0.00      0.00        24\n",
      "\n",
      "    accuracy                           1.00   6988416\n",
      "   macro avg       1.00      0.50      0.50   6988416\n",
      "weighted avg       1.00      1.00      1.00   6988416\n",
      "\n"
     ]
    }
   ],
   "source": [
    "# 生成分类报告\n",
    "report = classification_report(y_test, y_pred_xgbbest, zero_division=1)\n",
    "print(report)"
   ]
  },
  {
   "cell_type": "code",
   "execution_count": 88,
   "metadata": {},
   "outputs": [
    {
     "data": {
      "image/png": "[encoded data removed]",
      "text/plain": [
       "<Figure size 640x480 with 1 Axes>"
      ]
     },
     "metadata": {},
     "output_type": "display_data"
    }
   ],
   "source": [
    "# 顯示樹狀結構\n",
    "xgb.plot_importance(xgb_best_model)\n",
    "\n",
    "# 儲存圖片到指定路徑\n",
    "# plt.savefig(os.path.join(save_path, f\"xgb_110-112_{days}days_importance.png\"))\n",
    "plt.show()"
   ]
  },
  {
   "cell_type": "code",
   "execution_count": 89,
   "metadata": {},
   "outputs": [
    {
     "data": {
      "image/png": "[encoded data removed]",
      "text/plain": [
       "<Figure size 640x480 with 2 Axes>"
      ]
     },
     "metadata": {},
     "output_type": "display_data"
    }
   ],
   "source": [
    "plot_confusion_matrix(y_train, y_pred_xgbbest)\n",
    "# plot_confusion_matrix(np.squeeze(y_test), np.squeeze(y_pred_xgbbest))\n",
    "# plt.savefig(os.path.join(save_path, f\"xgb_110-112_{days}days_confusionmatrics.png\"))\n",
    "plt.show()"
   ]
  },
  {
   "cell_type": "code",
   "execution_count": 41,
   "metadata": {},
   "outputs": [
    {
     "name": "stdout",
     "output_type": "stream",
     "text": [
      "ROC AUC Score: 0.36948134849905384\n"
     ]
    },
    {
     "data": {
      "image/png": "[encoded data removed]",
      "text/plain": [
       "<Figure size 800x800 with 1 Axes>"
      ]
     },
     "metadata": {},
     "output_type": "display_data"
    }
   ],
   "source": [
    "plot_roc_curve(xgb_best_model, X_test, y_test)\n",
    "# plt.savefig(os.path.join(save_path, f\"xgb_110-112_{days}days_roccurves.png\"))\n",
    "plt.show()"
   ]
  },
  {
   "cell_type": "markdown",
   "metadata": {},
   "source": [
    "#### Check if odel overfitting"
   ]
  },
  {
   "cell_type": "code",
   "execution_count": 67,
   "metadata": {},
   "outputs": [],
   "source": [
    "# 找出判定天坑的機率值\n",
    "params = {\n",
    "        'booster': 'gbtree',\n",
    "        'random_state': 42,\n",
    "        'objective': 'binary:logistic',  # 二元分類問題\n",
    "        'eval_metric':  'error', \n",
    "        'tree_method': 'hist',  # 啟用 GPU 加速\n",
    "        'device': \"cuda\",\n",
    "        # 'gpu_id': 1\n",
    "        'n_estimators': 150,\n",
    "        'learning_rate': 0.05,\n",
    "        'scale_pos_weight': scale_pos_weight,\n",
    "        'max_depth': 4,\n",
    "        'min_child_weight': 50,\n",
    "        'max_delta_step': 5,\n",
    "        'subsample': 0.5,\n",
    "        'gamma': 0.3,\n",
    "        # 'colsample_bytree': trial.suggest_float('colsample_bytree', 0.5, 1.0),\n",
    "        'lambda': 0.9,\n",
    "        'alpha': 0.1,\n",
    "    }"
   ]
  },
  {
   "cell_type": "code",
   "execution_count": 68,
   "metadata": {},
   "outputs": [
    {
     "name": "stdout",
     "output_type": "stream",
     "text": [
      "Accuracy: 0.9991800299451243\n",
      "F1 Score: 0.009792131936093455\n",
      "Recall: 1.0\n",
      "Precision: 0.004920155373327579\n"
     ]
    },
    {
     "data": {
      "image/png": "[encoded data removed]",
      "text/plain": [
       "<Figure size 640x480 with 2 Axes>"
      ]
     },
     "metadata": {},
     "output_type": "display_data"
    }
   ],
   "source": [
    "#  Training data\n",
    "\n",
    "# 創建 XGBoost 模型\n",
    "xgb_model_opt = XGBClassifier(**params)\n",
    "# 使用訓練資料訓練模型\n",
    "xgb_model_opt.fit(X_train, y_train)\n",
    "pred_train = xgb_model_opt.predict(X_train)\n",
    "\n",
    "# 計算各項指標\n",
    "recall = recall_score(y_train, pred_train)\n",
    "f1 = f1_score(y_train, pred_train)\n",
    "accuracy = accuracy_score(y_train, pred_train)\n",
    "precision = precision_score(y_train, pred_train)\n",
    "print(f'Accuracy: {accuracy}')\n",
    "print(f'F1 Score: {f1}')\n",
    "print(f\"Recall: {recall}\")\n",
    "print(f\"Precision: {precision}\")\n",
    "\n",
    "plot_confusion_matrix(y_train, pred_train)\n",
    "plt.show()"
   ]
  },
  {
   "cell_type": "code",
   "execution_count": 69,
   "metadata": {},
   "outputs": [
    {
     "name": "stdout",
     "output_type": "stream",
     "text": [
      "Accuracy: 0.9991144870678862\n",
      "F1 Score: 0.0\n",
      "Recall: 0.0\n",
      "Precision: 0.0\n"
     ]
    },
    {
     "data": {
      "image/png": "[encoded data removed]",
      "text/plain": [
       "<Figure size 640x480 with 2 Axes>"
      ]
     },
     "metadata": {},
     "output_type": "display_data"
    }
   ],
   "source": [
    "#  Validation data\n",
    "\n",
    "# 創建 XGBoost 模型\n",
    "# xgb_model_opt = XGBClassifier(**params)\n",
    "# 使用訓練資料訓練模型\n",
    "# xgb_model_opt.fit(X_validation, y_validation)\n",
    "pred_val = xgb_model_opt.predict(X_validation)\n",
    "\n",
    "# 計算各項指標\n",
    "recall = recall_score(y_validation, pred_val)\n",
    "f1 = f1_score(y_validation, pred_val)\n",
    "accuracy = accuracy_score(y_validation, pred_val)\n",
    "precision = precision_score(y_validation, pred_val)\n",
    "print(f'Accuracy: {accuracy}')\n",
    "print(f'F1 Score: {f1}')\n",
    "print(f\"Recall: {recall}\")\n",
    "print(f\"Precision: {precision}\")\n",
    "\n",
    "plot_confusion_matrix(y_validation, pred_val)\n",
    "plt.show()"
   ]
  },
  {
   "cell_type": "code",
   "execution_count": 70,
   "metadata": {},
   "outputs": [
    {
     "name": "stdout",
     "output_type": "stream",
     "text": [
      "Accuracy: 0.9994179143378413\n",
      "F1 Score: 0.0\n",
      "Recall: 0.0\n",
      "Precision: 0.0\n"
     ]
    },
    {
     "data": {
      "image/png": "[encoded data removed]",
      "text/plain": [
       "<Figure size 640x480 with 2 Axes>"
      ]
     },
     "metadata": {},
     "output_type": "display_data"
    }
   ],
   "source": [
    "#  Testing data\n",
    "\n",
    "# 創建 XGBoost 模型\n",
    "# xgb_model_opt = XGBClassifier(**params)\n",
    "# 使用訓練資料訓練模型\n",
    "# xgb_model_opt.fit(X_test, y_test)\n",
    "pred_test = xgb_model_opt.predict(X_test)\n",
    "\n",
    "# 計算各項指標\n",
    "recall = recall_score(y_test, pred_test)\n",
    "f1 = f1_score(y_test, pred_test)\n",
    "accuracy = accuracy_score(y_test, pred_test)\n",
    "precision = precision_score(y_test, pred_test)\n",
    "print(f'Accuracy: {accuracy}')\n",
    "print(f'F1 Score: {f1}')\n",
    "print(f\"Recall: {recall}\")\n",
    "print(f\"Precision: {precision}\")\n",
    "\n",
    "plot_confusion_matrix(y_test, pred_test)\n",
    "plt.show()"
   ]
  },
  {
   "cell_type": "markdown",
   "metadata": {},
   "source": [
    "#### Find Threshold Value"
   ]
  },
  {
   "cell_type": "code",
   "execution_count": null,
   "metadata": {},
   "outputs": [
    {
     "name": "stderr",
     "output_type": "stream",
     "text": [
      "c:\\Users\\doit\\anaconda3\\envs\\practice_02\\Lib\\site-packages\\xgboost\\core.py:160: UserWarning: [12:56:53] WARNING: D:\\bld\\xgboost-split_1705650090842\\work\\src\\learner.cc:742: \n",
      "Parameters: { \"n_estimators\" } are not used.\n",
      "\n",
      "  warnings.warn(smsg, UserWarning)\n"
     ]
    },
    {
     "name": "stdout",
     "output_type": "stream",
     "text": [
      "F1 Score: 0.0061119599944436725\n"
     ]
    },
    {
     "name": "stderr",
     "output_type": "stream",
     "text": [
      "2024-04-11 13:36:16,024 - distributed.scheduler - WARNING - Worker failed to heartbeat within 300 seconds. Closing: <WorkerState 'tcp://127.0.0.1:54202', name: 1, status: running, memory: 0, processing: 0>\n",
      "2024-04-11 13:36:16,032 - distributed.scheduler - WARNING - Worker failed to heartbeat within 300 seconds. Closing: <WorkerState 'tcp://127.0.0.1:54204', name: 3, status: running, memory: 0, processing: 0>\n",
      "2024-04-11 13:36:16,043 - distributed.scheduler - WARNING - Received heartbeat from unregistered worker 'tcp://127.0.0.1:54202'.\n",
      "2024-04-11 13:36:16,046 - distributed.scheduler - WARNING - Received heartbeat from unregistered worker 'tcp://127.0.0.1:54204'.\n"
     ]
    }
   ],
   "source": [
    "# 找出判定天坑的機率值\n",
    "params = {\n",
    "        'booster': 'gbtree',\n",
    "        'random_state': 42,\n",
    "        'objective': 'binary:logistic',  # 二元分類問題\n",
    "        'eval_metric':  'error', \n",
    "        'tree_method': 'hist',  # 啟用 GPU 加速\n",
    "        'device': \"cuda\",\n",
    "        # 'gpu_id': 1\n",
    "        'n_estimators': 150,\n",
    "        'learning_rate': 0.05,\n",
    "        'scale_pos_weight': scale_pos_weight,\n",
    "        'max_depth': 5,\n",
    "        'min_child_weight': 5,\n",
    "        'max_delta_step': 5,\n",
    "        'subsample': 0.5,\n",
    "        # 'colsample_bytree': trial.suggest_float('colsample_bytree', 0.5, 1.0),\n",
    "        'lambda': 0.5,\n",
    "        'alpha': 0.5,\n",
    "    }\n",
    "# 使用 'objective' 參數指定損失函數\n",
    "\n",
    "# 創建 XGBoost 模型\n",
    "# xgb_model_opt = XGBClassifier(**params)\n",
    "# 使用訓練資料訓練模型\n",
    "# xgb_model_opt.fit(X_train, y_train)\n",
    "\n",
    "# 將訓練集和驗證集轉換為 DMatrix 格式\n",
    "dtrain = DMatrix(X_train, label=y_train)\n",
    "dval = DMatrix(X_validation, label=y_validation)\n",
    "dtest = DMatrix(X_test, label=y_test)\n",
    "xgb_model_opt = xgb.train(params, dtrain, num_boost_round=100)\n",
    "# y_val_pred = xgb_model_opt.predict(dval)\n",
    "\n",
    "# 使用測試資料預測\n",
    "# pred_train = xgb_model_opt.predict(X_train)\n",
    "pred_train = xgb_model_opt.predict(dtrain)\n",
    "# pred_val = xgb_model_opt.predict(dval)\n",
    "# pred_test = xgb_model_opt.predict(dtest)\n",
    "# proba_train = xgb_model_opt.predict_proba(dtrain)"
   ]
  },
  {
   "cell_type": "code",
   "execution_count": 20,
   "metadata": {},
   "outputs": [
    {
     "name": "stdout",
     "output_type": "stream",
     "text": [
      "[0.00292207 0.00292207 0.00292207 ... 0.00347233 0.00347233 0.00347233]\n"
     ]
    }
   ],
   "source": [
    "# print(pred_train)\n",
    "print(pred_test)"
   ]
  },
  {
   "cell_type": "code",
   "execution_count": 21,
   "metadata": {},
   "outputs": [
    {
     "name": "stdout",
     "output_type": "stream",
     "text": [
      "             Pred\n",
      "0        0.002922\n",
      "1        0.002922\n",
      "2        0.002922\n",
      "3        0.002922\n",
      "4        0.002922\n",
      "...           ...\n",
      "6988411  0.003475\n",
      "6988412  0.003472\n",
      "6988413  0.003472\n",
      "6988414  0.003472\n",
      "6988415  0.003472\n",
      "\n",
      "[6988416 rows x 1 columns]\n"
     ]
    }
   ],
   "source": [
    "# Combine the arrays into a single array\n",
    "# combined_data = np.concatenate([pred_train[:, None], proba_train], axis=1)\n",
    "# combined_data = np.concatenate([pred_train[:, None]], axis=1)\n",
    "combined_data = np.concatenate([pred_test[:, None]], axis=1)\n",
    "\n",
    "# Create the DataFrame\n",
    "df = pd.DataFrame(combined_data, columns=['Pred'])\n",
    "\n",
    "print(df)"
   ]
  },
  {
   "cell_type": "code",
   "execution_count": 22,
   "metadata": {},
   "outputs": [
    {
     "name": "stdout",
     "output_type": "stream",
     "text": [
      "             Pred  actual\n",
      "0        0.002922       0\n",
      "1        0.002922       0\n",
      "2        0.002922       0\n",
      "3        0.002922       0\n",
      "4        0.002922       0\n",
      "...           ...     ...\n",
      "6988411  0.003475       0\n",
      "6988412  0.003472       0\n",
      "6988413  0.003472       0\n",
      "6988414  0.003472       0\n",
      "6988415  0.003472       0\n",
      "\n",
      "[6988416 rows x 2 columns]\n"
     ]
    }
   ],
   "source": [
    "# y_train_re = y_train.reset_index(drop=True)\n",
    "# df['actual'] = y_train_re\n",
    "# print(df)\n",
    "\n",
    "y_val_re = y_test.reset_index(drop=True)\n",
    "df['actual'] = y_val_re\n",
    "print(df)"
   ]
  },
  {
   "cell_type": "code",
   "execution_count": 28,
   "metadata": {},
   "outputs": [
    {
     "name": "stdout",
     "output_type": "stream",
     "text": [
      "             Pred  actual\n",
      "5209938  0.003793       1\n",
      "5463303  0.004134       1\n",
      "5209132  0.003790       1\n",
      "5208330  0.003793       1\n",
      "5208329  0.003761       1\n",
      "...           ...     ...\n",
      "6988405  0.003472       0\n",
      "6988406  0.003475       0\n",
      "6988407  0.003476       0\n",
      "6988408  0.003472       0\n",
      "6988415  0.003472       0\n",
      "\n",
      "[6987910 rows x 2 columns]\n"
     ]
    }
   ],
   "source": [
    "# col = ['proba_0', 'proba_1', 'Pred', 'actual']\n",
    "# df = df[col]\n",
    "# df = df.sort_values(by=['actual', 'Pred'], ascending=False)\n",
    "\n",
    "df = df.sort_values(by='actual', ascending=False)\n",
    "\n",
    "df_1 = df[df['actual'] == 1]\n",
    "df_0 = df[df['actual'] == 0]\n",
    "df_threshold = df[df['Pred'] > 0.002]\n",
    "print(df_threshold)"
   ]
  },
  {
   "cell_type": "code",
   "execution_count": 29,
   "metadata": {},
   "outputs": [
    {
     "name": "stdout",
     "output_type": "stream",
     "text": [
      "actual\n",
      "0    6987886\n",
      "1         24\n",
      "Name: count, dtype: int64\n"
     ]
    }
   ],
   "source": [
    "# print(df['actual'].value_counts())\n",
    "print(df_threshold['actual'].value_counts())"
   ]
  },
  {
   "cell_type": "code",
   "execution_count": 30,
   "metadata": {},
   "outputs": [
    {
     "data": {
      "text/plain": [
       "count    6.988392e+06\n",
       "mean     4.671272e-03\n",
       "std      7.034649e-03\n",
       "min      1.687294e-03\n",
       "25%      2.922166e-03\n",
       "50%      3.316701e-03\n",
       "75%      4.163351e-03\n",
       "max      8.621386e-01\n",
       "Name: Pred, dtype: float64"
      ]
     },
     "execution_count": 30,
     "metadata": {},
     "output_type": "execute_result"
    }
   ],
   "source": [
    "df_0['Pred'].describe()"
   ]
  },
  {
   "cell_type": "code",
   "execution_count": 26,
   "metadata": {},
   "outputs": [
    {
     "data": {
      "image/png": "[encoded data removed]",
      "text/plain": [
       "<Figure size 640x480 with 1 Axes>"
      ]
     },
     "metadata": {},
     "output_type": "display_data"
    }
   ],
   "source": [
    "# Create a DataFrame and sample data\n",
    "\n",
    "# Generate the histogram\n",
    "plt.hist(df_threshold['Pred'], bins=1000, edgecolor='black',)\n",
    "plt.xlabel('Probability')\n",
    "plt.ylabel('Count')\n",
    "plt.title('Frequency Distribution of proba_0')\n",
    "plt.grid(True)\n",
    "plt.show()"
   ]
  },
  {
   "cell_type": "code",
   "execution_count": 27,
   "metadata": {},
   "outputs": [
    {
     "data": {
      "image/png": "[encoded data removed]",
      "text/plain": [
       "<Figure size 640x480 with 1 Axes>"
      ]
     },
     "metadata": {},
     "output_type": "display_data"
    }
   ],
   "source": [
    "# Create a DataFrame and sample data\n",
    "\n",
    "# Generate the histogram\n",
    "plt.hist(df_1['Pred'], bins=100, edgecolor='black')\n",
    "plt.xlabel('Probability')\n",
    "plt.ylabel('Count')\n",
    "plt.title('Frequency Distribution of proba_1')\n",
    "plt.grid(True)\n",
    "plt.show()"
   ]
  },
  {
   "cell_type": "markdown",
   "metadata": {},
   "source": [
    "#### Export Model"
   ]
  },
  {
   "cell_type": "code",
   "execution_count": null,
   "metadata": {},
   "outputs": [],
   "source": [
    "with gzip.GzipFile(r\"D:\\Chu's Document!\\02 Project\\06 道路塌陷防治專案(天坑)\\03 Data\\Model_Export\\xgboost-sinkhole.pgz\", 'w') as f:\n",
    "    pickle.dump(xgb_best_model, f)"
   ]
  },
  {
   "cell_type": "markdown",
   "metadata": {},
   "source": [
    "#### Load Model"
   ]
  },
  {
   "cell_type": "code",
   "execution_count": null,
   "metadata": {},
   "outputs": [],
   "source": [
    "with gzip.open(r\"D:\\Chu's Document!\\02 Project\\06 道路塌陷防治專案(天坑)\\03 Data\\Model_Export\\xgboost-sinkhole.pgz\", 'r') as f:\n",
    "    xgb_best_model = pickle.load(f)"
   ]
  },
  {
   "cell_type": "markdown",
   "metadata": {},
   "source": [
    "### LightGBM Prediction"
   ]
  },
  {
   "cell_type": "code",
   "execution_count": 6,
   "metadata": {},
   "outputs": [],
   "source": [
    "from sklearn.metrics import f1_score\n",
    "def objective_lgbm(trial):\n",
    "    # 將參數空間設定為優化的範圍\n",
    "    params = {\n",
    "        'boosting_type': 'gbdt',\n",
    "        'objective': 'binary',\n",
    "        'metric': 'binary_logloss',\n",
    "        'n_estimators': trial.suggest_int('n_estimators', 50, 500),\n",
    "        'learning_rate': trial.suggest_float('learning_rate', 0.01, 0.1),\n",
    "        'random_state': 42,\n",
    "        'is_unbalance': True, \n",
    "        'min_data_in_leaf': trial.suggest_int('min_data_in_leaf', 10, 100),\n",
    "        'min_split_gain': 0.0,\n",
    "        'min_child_samples': trial.suggest_int('min_child_samples', 10, 100),\n",
    "        'force_row_wise': True,\n",
    "        'bagging_fraction': 0.8,\n",
    "        'bagging_freq': 5,\n",
    "        'n_jobs': -1,\n",
    "        'verbose': -1,\n",
    "        # 'device': 'gpu',  # 啟用 GPU 加速\n",
    "        # 'gpu_platform_id': 0,\n",
    "        # 'gpu_device_id': 0\n",
    "    }\n",
    "\n",
    "    # 將資料拆分為訓練集和測試集\n",
    "    # X_train_opt, X_test_opt, y_train_opt, y_test_opt = train_test_split(X_train, y_train, test_size=0.2, random_state=42)\n",
    "\n",
    "    # 創建 XGBoost 模型\n",
    "    lgbm_model_opt = lgb.LGBMClassifier(**params)\n",
    "\n",
    "    # 使用訓練資料訓練模型\n",
    "    lgbm_model_opt.fit(X_train, y_train)\n",
    "\n",
    "    # 使用測試資料預測\n",
    "    y_pred_opt = lgbm_model_opt.predict(X_validation)\n",
    "\n",
    "    # 計算 F1 score 並返回\n",
    "    f1score_lgbm = f1_score(y_validation, y_pred_opt)\n",
    "\n",
    "    # 計算 Recall 並返回\n",
    "    # recall_lgbm = recall_score(y_validation, y_pred_opt)\n",
    "\n",
    "    return f1score_lgbm"
   ]
  },
  {
   "cell_type": "code",
   "execution_count": 7,
   "metadata": {},
   "outputs": [
    {
     "name": "stderr",
     "output_type": "stream",
     "text": [
      "[I 2024-04-09 14:20:10,551] A new study created in memory with name: no-name-9dde113a-04c4-4d8c-afa3-77fa412d39ee\n"
     ]
    }
   ],
   "source": [
    "# 創建 Optuna study\n",
    "study_02 = optuna.create_study(direction='maximize', pruner=optuna.pruners.MedianPruner(n_warmup_steps=5))\n",
    "\n",
    "# 開始優化\n",
    "study_02.optimize(objective_lgbm, n_trials=10, n_jobs=4)\n",
    "\n",
    "# 獲取最佳參數\n",
    "best_params = study_02.best_params\n",
    "print(\"Best Parameters:\", best_params)"
   ]
  },
  {
   "cell_type": "code",
   "execution_count": null,
   "metadata": {},
   "outputs": [
    {
     "name": "stdout",
     "output_type": "stream",
     "text": [
      "{'n_estimators': 137, 'learning_rate': 0.02084329048230913, 'min_data_in_leaf': 67, 'min_child_samples': 63, 'boosting_type': 'gbdt', 'objective': 'binary', 'metric': 'auc', 'random_state': 42, 'is_unbalance': True, 'min_split_gain': 0.0, 'force_row_wise': True, 'bagging_fraction': 0.8, 'bagging_freq': 5, 'n_jobs': -1, 'verbose': -1}\n"
     ]
    }
   ],
   "source": [
    "params_fix = {\n",
    "        'boosting_type': 'gbdt',\n",
    "        'objective': 'binary',\n",
    "        'metric': 'auc',\n",
    "        'random_state': 42,\n",
    "        'is_unbalance': True, \n",
    "        'min_split_gain': 0.0,\n",
    "        'force_row_wise': True,\n",
    "        'bagging_fraction': 0.8,\n",
    "        'bagging_freq': 5,\n",
    "        'n_jobs': -1,\n",
    "        'verbose': -1,\n",
    "        # 'device': 'gpu'  # 啟用 GPU 加速\n",
    "}\n",
    "best_params.update(params_fix)\n",
    "print(best_params)"
   ]
  },
  {
   "cell_type": "code",
   "execution_count": null,
   "metadata": {},
   "outputs": [],
   "source": [
    "# 使用最佳參數創建最終模型\n",
    "lgbm_best_model = lgb.LGBMClassifier(**best_params)\n",
    "lgbm_best_model.fit(X_train, y_train)\n",
    "\n",
    "# 預測\n",
    "y_pred_lgbmbest = lgbm_best_model.predict(X_test)"
   ]
  },
  {
   "cell_type": "code",
   "execution_count": null,
   "metadata": {},
   "outputs": [
    {
     "name": "stdout",
     "output_type": "stream",
     "text": [
      "Accuracy: 0.23011747997581716\n",
      "F1 Score: 3.2526165557718025e-06\n",
      "Recall: 1.0\n",
      "Precision: 1.6263109227688175e-06\n",
      "訓練集 Accuracy:  0.23007539114816505\n",
      "測試集 Accuracy:  1.0\n"
     ]
    }
   ],
   "source": [
    "# 計算各項指標\n",
    "recall = recall_score(y_test, y_pred_lgbmbest)\n",
    "f1 = f1_score(y_test, y_pred_lgbmbest)\n",
    "accuracy = accuracy_score(y_test, y_pred_lgbmbest)\n",
    "precision = precision_score(y_test, y_pred_lgbmbest)\n",
    "print(f'Accuracy: {accuracy}')\n",
    "print(f'F1 Score: {f1}')\n",
    "print(f\"Recall: {recall}\")\n",
    "print(f\"Precision: {precision}\")\n",
    "print('訓練集 Accuracy: ',lgbm_best_model.score(X_train,y_train))\n",
    "print('測試集 Accuracy: ',lgbm_best_model.score(X_test,y_pred_lgbmbest))"
   ]
  },
  {
   "cell_type": "code",
   "execution_count": null,
   "metadata": {},
   "outputs": [
    {
     "name": "stdout",
     "output_type": "stream",
     "text": [
      "              precision    recall  f1-score   support\n",
      "\n",
      "           0       1.00      0.23      0.37   5590733\n",
      "           1       0.00      1.00      0.00         7\n",
      "\n",
      "    accuracy                           0.23   5590740\n",
      "   macro avg       0.50      0.62      0.19   5590740\n",
      "weighted avg       1.00      0.23      0.37   5590740\n",
      "\n"
     ]
    }
   ],
   "source": [
    "# 生成分类报告\n",
    "report = classification_report(y_test, y_pred_lgbmbest, zero_division=1)\n",
    "print(report)"
   ]
  },
  {
   "cell_type": "code",
   "execution_count": null,
   "metadata": {},
   "outputs": [
    {
     "data": {
      "image/png": "[encoded data removed]",
      "text/plain": [
       "<Figure size 640x480 with 2 Axes>"
      ]
     },
     "metadata": {},
     "output_type": "display_data"
    }
   ],
   "source": [
    "plot_confusion_matrix(y_test, y_pred_lgbmbest)\n",
    "# plt.savefig(os.path.join(save_path, f\"lgbm_110-112_{days}days_confusionmatrics.png\"))\n",
    "plt.show()"
   ]
  },
  {
   "cell_type": "code",
   "execution_count": null,
   "metadata": {},
   "outputs": [
    {
     "data": {
      "image/png": "[encoded data removed]",
      "text/plain": [
       "<Figure size 640x480 with 1 Axes>"
      ]
     },
     "metadata": {},
     "output_type": "display_data"
    }
   ],
   "source": [
    "# 顯示樹狀結構\n",
    "lgb.plot_importance(lgbm_best_model)\n",
    "# plt.savefig(os.path.join(save_path, f\"lgbm_110-112_{days}days_importance.png\"))\n",
    "plt.show()"
   ]
  },
  {
   "cell_type": "code",
   "execution_count": null,
   "metadata": {},
   "outputs": [
    {
     "name": "stdout",
     "output_type": "stream",
     "text": [
      "ROC AUC Score: 0.6150582580137525\n"
     ]
    },
    {
     "data": {
      "image/png": "[encoded data removed]",
      "text/plain": [
       "<Figure size 800x800 with 1 Axes>"
      ]
     },
     "metadata": {},
     "output_type": "display_data"
    }
   ],
   "source": [
    "plot_roc_curve(lgbm_best_model, X_test, y_test)\n",
    "# plt.savefig(os.path.join(save_path, f\"lgbm_110-112_{days}days_roccurves.png\"))\n",
    "plt.show()"
   ]
  }
 ],
 "metadata": {
  "kernelspec": {
   "display_name": "practice",
   "language": "python",
   "name": "python3"
  },
  "language_info": {
   "codemirror_mode": {
    "name": "ipython",
    "version": 3
   },
   "file_extension": ".py",
   "mimetype": "text/x-python",
   "name": "python",
   "nbconvert_exporter": "python",
   "pygments_lexer": "ipython3",
   "version": "3.12.0"
  }
 },
 "nbformat": 4,
 "nbformat_minor": 2
}
